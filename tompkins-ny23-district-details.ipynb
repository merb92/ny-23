{
 "cells": [
  {
   "cell_type": "code",
   "execution_count": 26,
   "metadata": {
    "ExecuteTime": {
     "end_time": "2021-01-18T21:54:13.751867Z",
     "start_time": "2021-01-18T21:54:13.748774Z"
    }
   },
   "outputs": [],
   "source": [
    "import tabula\n",
    "\n",
    "import pandas as pd"
   ]
  },
  {
   "cell_type": "code",
   "execution_count": 28,
   "metadata": {
    "ExecuteTime": {
     "end_time": "2021-01-18T21:54:53.285385Z",
     "start_time": "2021-01-18T21:54:53.282064Z"
    }
   },
   "outputs": [],
   "source": [
    "file_path = 'REP IN CONGRESS 2020 - 23rd DISTRICT.pdf'"
   ]
  },
  {
   "cell_type": "code",
   "execution_count": 37,
   "metadata": {
    "ExecuteTime": {
     "end_time": "2021-01-18T22:00:56.836237Z",
     "start_time": "2021-01-18T22:00:54.892883Z"
    }
   },
   "outputs": [],
   "source": [
    "df = tabula.read_pdf(file_path, pages='all', output_format='dataframe')"
   ]
  },
  {
   "cell_type": "code",
   "execution_count": 38,
   "metadata": {
    "ExecuteTime": {
     "end_time": "2021-01-18T22:01:10.085466Z",
     "start_time": "2021-01-18T22:01:10.080154Z"
    }
   },
   "outputs": [
    {
     "data": {
      "text/plain": [
       "list"
      ]
     },
     "execution_count": 38,
     "metadata": {},
     "output_type": "execute_result"
    }
   ],
   "source": [
    "type(df)"
   ]
  },
  {
   "cell_type": "code",
   "execution_count": 46,
   "metadata": {
    "ExecuteTime": {
     "end_time": "2021-01-18T22:04:42.126237Z",
     "start_time": "2021-01-18T22:04:42.122279Z"
    }
   },
   "outputs": [],
   "source": [
    "data = df[0]"
   ]
  },
  {
   "cell_type": "code",
   "execution_count": 48,
   "metadata": {
    "ExecuteTime": {
     "end_time": "2021-01-18T22:05:10.251293Z",
     "start_time": "2021-01-18T22:05:10.225698Z"
    }
   },
   "outputs": [
    {
     "data": {
      "text/html": [
       "<div>\n",
       "<style scoped>\n",
       "    .dataframe tbody tr th:only-of-type {\n",
       "        vertical-align: middle;\n",
       "    }\n",
       "\n",
       "    .dataframe tbody tr th {\n",
       "        vertical-align: top;\n",
       "    }\n",
       "\n",
       "    .dataframe thead th {\n",
       "        text-align: right;\n",
       "    }\n",
       "</style>\n",
       "<table border=\"1\" class=\"dataframe\">\n",
       "  <thead>\n",
       "    <tr style=\"text-align: right;\">\n",
       "      <th></th>\n",
       "      <th>Unnamed: 0</th>\n",
       "      <th>Tracy\\rMitrano</th>\n",
       "      <th>Tom Reed</th>\n",
       "      <th>Tom Reed.1</th>\n",
       "      <th>Tracy\\rMitrano.1</th>\n",
       "      <th>Unnamed: 5</th>\n",
       "      <th>Andrew M.\\rKolstee</th>\n",
       "      <th>Tom Reed.2</th>\n",
       "      <th>Unnamed: 8</th>\n",
       "      <th>BLANK\\rUndervotes</th>\n",
       "      <th>VOID\\rOvervotes</th>\n",
       "      <th>Unqualified Write\\rins</th>\n",
       "      <th>Total Votes</th>\n",
       "      <th>Unnamed: 13</th>\n",
       "    </tr>\n",
       "  </thead>\n",
       "  <tbody>\n",
       "    <tr>\n",
       "      <th>0</th>\n",
       "      <td>NaN</td>\n",
       "      <td>DEM</td>\n",
       "      <td>REP</td>\n",
       "      <td>CON</td>\n",
       "      <td>WOR</td>\n",
       "      <td>GRE</td>\n",
       "      <td>LIB</td>\n",
       "      <td>IND</td>\n",
       "      <td>SAM</td>\n",
       "      <td>NaN</td>\n",
       "      <td>NaN</td>\n",
       "      <td>NaN</td>\n",
       "      <td>NaN</td>\n",
       "      <td>NaN</td>\n",
       "    </tr>\n",
       "    <tr>\n",
       "      <th>1</th>\n",
       "      <td>Any</td>\n",
       "      <td>NaN</td>\n",
       "      <td>NaN</td>\n",
       "      <td>NaN</td>\n",
       "      <td>NaN</td>\n",
       "      <td>NaN</td>\n",
       "      <td>NaN</td>\n",
       "      <td>NaN</td>\n",
       "      <td>NaN</td>\n",
       "      <td>NaN</td>\n",
       "      <td>NaN</td>\n",
       "      <td>NaN</td>\n",
       "      <td>NaN</td>\n",
       "      <td>NaN</td>\n",
       "    </tr>\n",
       "    <tr>\n",
       "      <th>2</th>\n",
       "      <td>City of Ithaca 1 - 1</td>\n",
       "      <td>371</td>\n",
       "      <td>49</td>\n",
       "      <td>6</td>\n",
       "      <td>92</td>\n",
       "      <td>0</td>\n",
       "      <td>7</td>\n",
       "      <td>4</td>\n",
       "      <td>NaN</td>\n",
       "      <td>13.0</td>\n",
       "      <td>0.0</td>\n",
       "      <td>2.0</td>\n",
       "      <td>544.0</td>\n",
       "      <td>NaN</td>\n",
       "    </tr>\n",
       "    <tr>\n",
       "      <th>3</th>\n",
       "      <td>City of Ithaca 1 - 2</td>\n",
       "      <td>293</td>\n",
       "      <td>51</td>\n",
       "      <td>3</td>\n",
       "      <td>71</td>\n",
       "      <td>0</td>\n",
       "      <td>5</td>\n",
       "      <td>3</td>\n",
       "      <td>NaN</td>\n",
       "      <td>10.0</td>\n",
       "      <td>1.0</td>\n",
       "      <td>0.0</td>\n",
       "      <td>437.0</td>\n",
       "      <td>NaN</td>\n",
       "    </tr>\n",
       "    <tr>\n",
       "      <th>4</th>\n",
       "      <td>City of Ithaca 1 - 3</td>\n",
       "      <td>210</td>\n",
       "      <td>55</td>\n",
       "      <td>4</td>\n",
       "      <td>52</td>\n",
       "      <td>0</td>\n",
       "      <td>2</td>\n",
       "      <td>0</td>\n",
       "      <td>NaN</td>\n",
       "      <td>9.0</td>\n",
       "      <td>0.0</td>\n",
       "      <td>0.0</td>\n",
       "      <td>332.0</td>\n",
       "      <td>NaN</td>\n",
       "    </tr>\n",
       "  </tbody>\n",
       "</table>\n",
       "</div>"
      ],
      "text/plain": [
       "             Unnamed: 0 Tracy\\rMitrano Tom Reed Tom Reed.1 Tracy\\rMitrano.1  \\\n",
       "0                   NaN            DEM      REP        CON              WOR   \n",
       "1                   Any            NaN      NaN        NaN              NaN   \n",
       "2  City of Ithaca 1 - 1            371       49          6               92   \n",
       "3  City of Ithaca 1 - 2            293       51          3               71   \n",
       "4  City of Ithaca 1 - 3            210       55          4               52   \n",
       "\n",
       "  Unnamed: 5 Andrew M.\\rKolstee Tom Reed.2 Unnamed: 8  BLANK\\rUndervotes  \\\n",
       "0        GRE                LIB        IND        SAM                NaN   \n",
       "1        NaN                NaN        NaN        NaN                NaN   \n",
       "2          0                  7          4        NaN               13.0   \n",
       "3          0                  5          3        NaN               10.0   \n",
       "4          0                  2          0        NaN                9.0   \n",
       "\n",
       "   VOID\\rOvervotes  Unqualified Write\\rins  Total Votes  Unnamed: 13  \n",
       "0              NaN                     NaN          NaN          NaN  \n",
       "1              NaN                     NaN          NaN          NaN  \n",
       "2              0.0                     2.0        544.0          NaN  \n",
       "3              1.0                     0.0        437.0          NaN  \n",
       "4              0.0                     0.0        332.0          NaN  "
      ]
     },
     "execution_count": 48,
     "metadata": {},
     "output_type": "execute_result"
    }
   ],
   "source": [
    "data.head()"
   ]
  },
  {
   "cell_type": "markdown",
   "metadata": {},
   "source": [
    "Drop row index 1, it doesn't contain any data"
   ]
  },
  {
   "cell_type": "code",
   "execution_count": 50,
   "metadata": {
    "ExecuteTime": {
     "end_time": "2021-01-18T22:07:01.944973Z",
     "start_time": "2021-01-18T22:07:01.940023Z"
    }
   },
   "outputs": [],
   "source": [
    "data.drop(data.index[1], inplace=True)"
   ]
  },
  {
   "cell_type": "code",
   "execution_count": 51,
   "metadata": {
    "ExecuteTime": {
     "end_time": "2021-01-18T22:07:07.125934Z",
     "start_time": "2021-01-18T22:07:07.101246Z"
    }
   },
   "outputs": [
    {
     "data": {
      "text/html": [
       "<div>\n",
       "<style scoped>\n",
       "    .dataframe tbody tr th:only-of-type {\n",
       "        vertical-align: middle;\n",
       "    }\n",
       "\n",
       "    .dataframe tbody tr th {\n",
       "        vertical-align: top;\n",
       "    }\n",
       "\n",
       "    .dataframe thead th {\n",
       "        text-align: right;\n",
       "    }\n",
       "</style>\n",
       "<table border=\"1\" class=\"dataframe\">\n",
       "  <thead>\n",
       "    <tr style=\"text-align: right;\">\n",
       "      <th></th>\n",
       "      <th>Unnamed: 0</th>\n",
       "      <th>Tracy\\rMitrano</th>\n",
       "      <th>Tom Reed</th>\n",
       "      <th>Tom Reed.1</th>\n",
       "      <th>Tracy\\rMitrano.1</th>\n",
       "      <th>Unnamed: 5</th>\n",
       "      <th>Andrew M.\\rKolstee</th>\n",
       "      <th>Tom Reed.2</th>\n",
       "      <th>Unnamed: 8</th>\n",
       "      <th>BLANK\\rUndervotes</th>\n",
       "      <th>VOID\\rOvervotes</th>\n",
       "      <th>Unqualified Write\\rins</th>\n",
       "      <th>Total Votes</th>\n",
       "      <th>Unnamed: 13</th>\n",
       "    </tr>\n",
       "  </thead>\n",
       "  <tbody>\n",
       "    <tr>\n",
       "      <th>0</th>\n",
       "      <td>NaN</td>\n",
       "      <td>DEM</td>\n",
       "      <td>REP</td>\n",
       "      <td>CON</td>\n",
       "      <td>WOR</td>\n",
       "      <td>GRE</td>\n",
       "      <td>LIB</td>\n",
       "      <td>IND</td>\n",
       "      <td>SAM</td>\n",
       "      <td>NaN</td>\n",
       "      <td>NaN</td>\n",
       "      <td>NaN</td>\n",
       "      <td>NaN</td>\n",
       "      <td>NaN</td>\n",
       "    </tr>\n",
       "    <tr>\n",
       "      <th>2</th>\n",
       "      <td>City of Ithaca 1 - 1</td>\n",
       "      <td>371</td>\n",
       "      <td>49</td>\n",
       "      <td>6</td>\n",
       "      <td>92</td>\n",
       "      <td>0</td>\n",
       "      <td>7</td>\n",
       "      <td>4</td>\n",
       "      <td>NaN</td>\n",
       "      <td>13.0</td>\n",
       "      <td>0.0</td>\n",
       "      <td>2.0</td>\n",
       "      <td>544.0</td>\n",
       "      <td>NaN</td>\n",
       "    </tr>\n",
       "    <tr>\n",
       "      <th>3</th>\n",
       "      <td>City of Ithaca 1 - 2</td>\n",
       "      <td>293</td>\n",
       "      <td>51</td>\n",
       "      <td>3</td>\n",
       "      <td>71</td>\n",
       "      <td>0</td>\n",
       "      <td>5</td>\n",
       "      <td>3</td>\n",
       "      <td>NaN</td>\n",
       "      <td>10.0</td>\n",
       "      <td>1.0</td>\n",
       "      <td>0.0</td>\n",
       "      <td>437.0</td>\n",
       "      <td>NaN</td>\n",
       "    </tr>\n",
       "    <tr>\n",
       "      <th>4</th>\n",
       "      <td>City of Ithaca 1 - 3</td>\n",
       "      <td>210</td>\n",
       "      <td>55</td>\n",
       "      <td>4</td>\n",
       "      <td>52</td>\n",
       "      <td>0</td>\n",
       "      <td>2</td>\n",
       "      <td>0</td>\n",
       "      <td>NaN</td>\n",
       "      <td>9.0</td>\n",
       "      <td>0.0</td>\n",
       "      <td>0.0</td>\n",
       "      <td>332.0</td>\n",
       "      <td>NaN</td>\n",
       "    </tr>\n",
       "    <tr>\n",
       "      <th>5</th>\n",
       "      <td>City of Ithaca 1 - 4</td>\n",
       "      <td>617</td>\n",
       "      <td>72</td>\n",
       "      <td>7</td>\n",
       "      <td>191</td>\n",
       "      <td>0</td>\n",
       "      <td>7</td>\n",
       "      <td>9</td>\n",
       "      <td>NaN</td>\n",
       "      <td>28.0</td>\n",
       "      <td>0.0</td>\n",
       "      <td>2.0</td>\n",
       "      <td>933.0</td>\n",
       "      <td>NaN</td>\n",
       "    </tr>\n",
       "  </tbody>\n",
       "</table>\n",
       "</div>"
      ],
      "text/plain": [
       "             Unnamed: 0 Tracy\\rMitrano Tom Reed Tom Reed.1 Tracy\\rMitrano.1  \\\n",
       "0                   NaN            DEM      REP        CON              WOR   \n",
       "2  City of Ithaca 1 - 1            371       49          6               92   \n",
       "3  City of Ithaca 1 - 2            293       51          3               71   \n",
       "4  City of Ithaca 1 - 3            210       55          4               52   \n",
       "5  City of Ithaca 1 - 4            617       72          7              191   \n",
       "\n",
       "  Unnamed: 5 Andrew M.\\rKolstee Tom Reed.2 Unnamed: 8  BLANK\\rUndervotes  \\\n",
       "0        GRE                LIB        IND        SAM                NaN   \n",
       "2          0                  7          4        NaN               13.0   \n",
       "3          0                  5          3        NaN               10.0   \n",
       "4          0                  2          0        NaN                9.0   \n",
       "5          0                  7          9        NaN               28.0   \n",
       "\n",
       "   VOID\\rOvervotes  Unqualified Write\\rins  Total Votes  Unnamed: 13  \n",
       "0              NaN                     NaN          NaN          NaN  \n",
       "2              0.0                     2.0        544.0          NaN  \n",
       "3              1.0                     0.0        437.0          NaN  \n",
       "4              0.0                     0.0        332.0          NaN  \n",
       "5              0.0                     2.0        933.0          NaN  "
      ]
     },
     "execution_count": 51,
     "metadata": {},
     "output_type": "execute_result"
    }
   ],
   "source": [
    "data.head()"
   ]
  },
  {
   "cell_type": "code",
   "execution_count": null,
   "metadata": {},
   "outputs": [],
   "source": []
  }
 ],
 "metadata": {
  "kernelspec": {
   "display_name": "learn-env",
   "language": "python",
   "name": "learn-env"
  },
  "language_info": {
   "codemirror_mode": {
    "name": "ipython",
    "version": 3
   },
   "file_extension": ".py",
   "mimetype": "text/x-python",
   "name": "python",
   "nbconvert_exporter": "python",
   "pygments_lexer": "ipython3",
   "version": "3.6.9"
  },
  "toc": {
   "base_numbering": 1,
   "nav_menu": {},
   "number_sections": true,
   "sideBar": true,
   "skip_h1_title": false,
   "title_cell": "Table of Contents",
   "title_sidebar": "Contents",
   "toc_cell": false,
   "toc_position": {},
   "toc_section_display": true,
   "toc_window_display": false
  },
  "varInspector": {
   "cols": {
    "lenName": 16,
    "lenType": 16,
    "lenVar": 40
   },
   "kernels_config": {
    "python": {
     "delete_cmd_postfix": "",
     "delete_cmd_prefix": "del ",
     "library": "var_list.py",
     "varRefreshCmd": "print(var_dic_list())"
    },
    "r": {
     "delete_cmd_postfix": ") ",
     "delete_cmd_prefix": "rm(",
     "library": "var_list.r",
     "varRefreshCmd": "cat(var_dic_list()) "
    }
   },
   "types_to_exclude": [
    "module",
    "function",
    "builtin_function_or_method",
    "instance",
    "_Feature"
   ],
   "window_display": false
  }
 },
 "nbformat": 4,
 "nbformat_minor": 2
}
