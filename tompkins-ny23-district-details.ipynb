{
 "cells": [
  {
   "cell_type": "code",
   "execution_count": 1,
   "metadata": {
    "ExecuteTime": {
     "end_time": "2021-01-20T17:48:41.040693Z",
     "start_time": "2021-01-20T17:48:40.044894Z"
    }
   },
   "outputs": [],
   "source": [
    "import tabula\n",
    "import re\n",
    "import pandas as pd"
   ]
  },
  {
   "cell_type": "code",
   "execution_count": 25,
   "metadata": {
    "ExecuteTime": {
     "end_time": "2021-01-20T17:54:02.405017Z",
     "start_time": "2021-01-20T17:54:02.401545Z"
    }
   },
   "outputs": [],
   "source": [
    "file_path = 'REP IN CONGRESS 2020 - 23rd DISTRICT.pdf'\n",
    "output_file_name = 'tompkins_ny23_results_by_district_2020.csv'"
   ]
  },
  {
   "cell_type": "markdown",
   "metadata": {},
   "source": [
    "# Convert PDF to DataFrame"
   ]
  },
  {
   "cell_type": "code",
   "execution_count": 3,
   "metadata": {
    "ExecuteTime": {
     "end_time": "2021-01-20T17:48:43.660148Z",
     "start_time": "2021-01-20T17:48:41.050624Z"
    }
   },
   "outputs": [],
   "source": [
    "df = tabula.read_pdf(file_path, pages='all', output_format='dataframe')"
   ]
  },
  {
   "cell_type": "code",
   "execution_count": 4,
   "metadata": {
    "ExecuteTime": {
     "end_time": "2021-01-20T17:48:43.679065Z",
     "start_time": "2021-01-20T17:48:43.663282Z"
    }
   },
   "outputs": [
    {
     "data": {
      "text/plain": [
       "list"
      ]
     },
     "execution_count": 4,
     "metadata": {},
     "output_type": "execute_result"
    }
   ],
   "source": [
    "type(df)"
   ]
  },
  {
   "cell_type": "code",
   "execution_count": 5,
   "metadata": {
    "ExecuteTime": {
     "end_time": "2021-01-20T17:48:43.687439Z",
     "start_time": "2021-01-20T17:48:43.681354Z"
    }
   },
   "outputs": [],
   "source": [
    "data = df[0]"
   ]
  },
  {
   "cell_type": "code",
   "execution_count": 6,
   "metadata": {
    "ExecuteTime": {
     "end_time": "2021-01-20T17:48:43.725822Z",
     "start_time": "2021-01-20T17:48:43.689855Z"
    }
   },
   "outputs": [
    {
     "data": {
      "text/html": [
       "<div>\n",
       "<style scoped>\n",
       "    .dataframe tbody tr th:only-of-type {\n",
       "        vertical-align: middle;\n",
       "    }\n",
       "\n",
       "    .dataframe tbody tr th {\n",
       "        vertical-align: top;\n",
       "    }\n",
       "\n",
       "    .dataframe thead th {\n",
       "        text-align: right;\n",
       "    }\n",
       "</style>\n",
       "<table border=\"1\" class=\"dataframe\">\n",
       "  <thead>\n",
       "    <tr style=\"text-align: right;\">\n",
       "      <th></th>\n",
       "      <th>Unnamed: 0</th>\n",
       "      <th>Tracy\\rMitrano</th>\n",
       "      <th>Tom Reed</th>\n",
       "      <th>Tom Reed.1</th>\n",
       "      <th>Tracy\\rMitrano.1</th>\n",
       "      <th>Unnamed: 5</th>\n",
       "      <th>Andrew M.\\rKolstee</th>\n",
       "      <th>Tom Reed.2</th>\n",
       "      <th>Unnamed: 8</th>\n",
       "      <th>BLANK\\rUndervotes</th>\n",
       "      <th>VOID\\rOvervotes</th>\n",
       "      <th>Unqualified Write\\rins</th>\n",
       "      <th>Total Votes</th>\n",
       "      <th>Unnamed: 13</th>\n",
       "    </tr>\n",
       "  </thead>\n",
       "  <tbody>\n",
       "    <tr>\n",
       "      <th>0</th>\n",
       "      <td>NaN</td>\n",
       "      <td>DEM</td>\n",
       "      <td>REP</td>\n",
       "      <td>CON</td>\n",
       "      <td>WOR</td>\n",
       "      <td>GRE</td>\n",
       "      <td>LIB</td>\n",
       "      <td>IND</td>\n",
       "      <td>SAM</td>\n",
       "      <td>NaN</td>\n",
       "      <td>NaN</td>\n",
       "      <td>NaN</td>\n",
       "      <td>NaN</td>\n",
       "      <td>NaN</td>\n",
       "    </tr>\n",
       "    <tr>\n",
       "      <th>1</th>\n",
       "      <td>Any</td>\n",
       "      <td>NaN</td>\n",
       "      <td>NaN</td>\n",
       "      <td>NaN</td>\n",
       "      <td>NaN</td>\n",
       "      <td>NaN</td>\n",
       "      <td>NaN</td>\n",
       "      <td>NaN</td>\n",
       "      <td>NaN</td>\n",
       "      <td>NaN</td>\n",
       "      <td>NaN</td>\n",
       "      <td>NaN</td>\n",
       "      <td>NaN</td>\n",
       "      <td>NaN</td>\n",
       "    </tr>\n",
       "    <tr>\n",
       "      <th>2</th>\n",
       "      <td>City of Ithaca 1 - 1</td>\n",
       "      <td>371</td>\n",
       "      <td>49</td>\n",
       "      <td>6</td>\n",
       "      <td>92</td>\n",
       "      <td>0</td>\n",
       "      <td>7</td>\n",
       "      <td>4</td>\n",
       "      <td>NaN</td>\n",
       "      <td>13.0</td>\n",
       "      <td>0.0</td>\n",
       "      <td>2.0</td>\n",
       "      <td>544.0</td>\n",
       "      <td>NaN</td>\n",
       "    </tr>\n",
       "    <tr>\n",
       "      <th>3</th>\n",
       "      <td>City of Ithaca 1 - 2</td>\n",
       "      <td>293</td>\n",
       "      <td>51</td>\n",
       "      <td>3</td>\n",
       "      <td>71</td>\n",
       "      <td>0</td>\n",
       "      <td>5</td>\n",
       "      <td>3</td>\n",
       "      <td>NaN</td>\n",
       "      <td>10.0</td>\n",
       "      <td>1.0</td>\n",
       "      <td>0.0</td>\n",
       "      <td>437.0</td>\n",
       "      <td>NaN</td>\n",
       "    </tr>\n",
       "    <tr>\n",
       "      <th>4</th>\n",
       "      <td>City of Ithaca 1 - 3</td>\n",
       "      <td>210</td>\n",
       "      <td>55</td>\n",
       "      <td>4</td>\n",
       "      <td>52</td>\n",
       "      <td>0</td>\n",
       "      <td>2</td>\n",
       "      <td>0</td>\n",
       "      <td>NaN</td>\n",
       "      <td>9.0</td>\n",
       "      <td>0.0</td>\n",
       "      <td>0.0</td>\n",
       "      <td>332.0</td>\n",
       "      <td>NaN</td>\n",
       "    </tr>\n",
       "  </tbody>\n",
       "</table>\n",
       "</div>"
      ],
      "text/plain": [
       "             Unnamed: 0 Tracy\\rMitrano Tom Reed Tom Reed.1 Tracy\\rMitrano.1  \\\n",
       "0                   NaN            DEM      REP        CON              WOR   \n",
       "1                   Any            NaN      NaN        NaN              NaN   \n",
       "2  City of Ithaca 1 - 1            371       49          6               92   \n",
       "3  City of Ithaca 1 - 2            293       51          3               71   \n",
       "4  City of Ithaca 1 - 3            210       55          4               52   \n",
       "\n",
       "  Unnamed: 5 Andrew M.\\rKolstee Tom Reed.2 Unnamed: 8  BLANK\\rUndervotes  \\\n",
       "0        GRE                LIB        IND        SAM                NaN   \n",
       "1        NaN                NaN        NaN        NaN                NaN   \n",
       "2          0                  7          4        NaN               13.0   \n",
       "3          0                  5          3        NaN               10.0   \n",
       "4          0                  2          0        NaN                9.0   \n",
       "\n",
       "   VOID\\rOvervotes  Unqualified Write\\rins  Total Votes  Unnamed: 13  \n",
       "0              NaN                     NaN          NaN          NaN  \n",
       "1              NaN                     NaN          NaN          NaN  \n",
       "2              0.0                     2.0        544.0          NaN  \n",
       "3              1.0                     0.0        437.0          NaN  \n",
       "4              0.0                     0.0        332.0          NaN  "
      ]
     },
     "execution_count": 6,
     "metadata": {},
     "output_type": "execute_result"
    }
   ],
   "source": [
    "data.head()"
   ]
  },
  {
   "cell_type": "markdown",
   "metadata": {},
   "source": [
    "# Clean the DataFrame"
   ]
  },
  {
   "cell_type": "markdown",
   "metadata": {},
   "source": [
    "Drop row index 1, it doesn't contain any data"
   ]
  },
  {
   "cell_type": "code",
   "execution_count": 7,
   "metadata": {
    "ExecuteTime": {
     "end_time": "2021-01-20T17:48:43.734498Z",
     "start_time": "2021-01-20T17:48:43.728177Z"
    }
   },
   "outputs": [],
   "source": [
    "data.drop(data.index[1], inplace=True)"
   ]
  },
  {
   "cell_type": "code",
   "execution_count": 8,
   "metadata": {
    "ExecuteTime": {
     "end_time": "2021-01-20T17:48:43.767395Z",
     "start_time": "2021-01-20T17:48:43.738697Z"
    }
   },
   "outputs": [
    {
     "data": {
      "text/html": [
       "<div>\n",
       "<style scoped>\n",
       "    .dataframe tbody tr th:only-of-type {\n",
       "        vertical-align: middle;\n",
       "    }\n",
       "\n",
       "    .dataframe tbody tr th {\n",
       "        vertical-align: top;\n",
       "    }\n",
       "\n",
       "    .dataframe thead th {\n",
       "        text-align: right;\n",
       "    }\n",
       "</style>\n",
       "<table border=\"1\" class=\"dataframe\">\n",
       "  <thead>\n",
       "    <tr style=\"text-align: right;\">\n",
       "      <th></th>\n",
       "      <th>Unnamed: 0</th>\n",
       "      <th>Tracy\\rMitrano</th>\n",
       "      <th>Tom Reed</th>\n",
       "      <th>Tom Reed.1</th>\n",
       "      <th>Tracy\\rMitrano.1</th>\n",
       "      <th>Unnamed: 5</th>\n",
       "      <th>Andrew M.\\rKolstee</th>\n",
       "      <th>Tom Reed.2</th>\n",
       "      <th>Unnamed: 8</th>\n",
       "      <th>BLANK\\rUndervotes</th>\n",
       "      <th>VOID\\rOvervotes</th>\n",
       "      <th>Unqualified Write\\rins</th>\n",
       "      <th>Total Votes</th>\n",
       "      <th>Unnamed: 13</th>\n",
       "    </tr>\n",
       "  </thead>\n",
       "  <tbody>\n",
       "    <tr>\n",
       "      <th>0</th>\n",
       "      <td>NaN</td>\n",
       "      <td>DEM</td>\n",
       "      <td>REP</td>\n",
       "      <td>CON</td>\n",
       "      <td>WOR</td>\n",
       "      <td>GRE</td>\n",
       "      <td>LIB</td>\n",
       "      <td>IND</td>\n",
       "      <td>SAM</td>\n",
       "      <td>NaN</td>\n",
       "      <td>NaN</td>\n",
       "      <td>NaN</td>\n",
       "      <td>NaN</td>\n",
       "      <td>NaN</td>\n",
       "    </tr>\n",
       "    <tr>\n",
       "      <th>2</th>\n",
       "      <td>City of Ithaca 1 - 1</td>\n",
       "      <td>371</td>\n",
       "      <td>49</td>\n",
       "      <td>6</td>\n",
       "      <td>92</td>\n",
       "      <td>0</td>\n",
       "      <td>7</td>\n",
       "      <td>4</td>\n",
       "      <td>NaN</td>\n",
       "      <td>13.0</td>\n",
       "      <td>0.0</td>\n",
       "      <td>2.0</td>\n",
       "      <td>544.0</td>\n",
       "      <td>NaN</td>\n",
       "    </tr>\n",
       "    <tr>\n",
       "      <th>3</th>\n",
       "      <td>City of Ithaca 1 - 2</td>\n",
       "      <td>293</td>\n",
       "      <td>51</td>\n",
       "      <td>3</td>\n",
       "      <td>71</td>\n",
       "      <td>0</td>\n",
       "      <td>5</td>\n",
       "      <td>3</td>\n",
       "      <td>NaN</td>\n",
       "      <td>10.0</td>\n",
       "      <td>1.0</td>\n",
       "      <td>0.0</td>\n",
       "      <td>437.0</td>\n",
       "      <td>NaN</td>\n",
       "    </tr>\n",
       "    <tr>\n",
       "      <th>4</th>\n",
       "      <td>City of Ithaca 1 - 3</td>\n",
       "      <td>210</td>\n",
       "      <td>55</td>\n",
       "      <td>4</td>\n",
       "      <td>52</td>\n",
       "      <td>0</td>\n",
       "      <td>2</td>\n",
       "      <td>0</td>\n",
       "      <td>NaN</td>\n",
       "      <td>9.0</td>\n",
       "      <td>0.0</td>\n",
       "      <td>0.0</td>\n",
       "      <td>332.0</td>\n",
       "      <td>NaN</td>\n",
       "    </tr>\n",
       "    <tr>\n",
       "      <th>5</th>\n",
       "      <td>City of Ithaca 1 - 4</td>\n",
       "      <td>617</td>\n",
       "      <td>72</td>\n",
       "      <td>7</td>\n",
       "      <td>191</td>\n",
       "      <td>0</td>\n",
       "      <td>7</td>\n",
       "      <td>9</td>\n",
       "      <td>NaN</td>\n",
       "      <td>28.0</td>\n",
       "      <td>0.0</td>\n",
       "      <td>2.0</td>\n",
       "      <td>933.0</td>\n",
       "      <td>NaN</td>\n",
       "    </tr>\n",
       "  </tbody>\n",
       "</table>\n",
       "</div>"
      ],
      "text/plain": [
       "             Unnamed: 0 Tracy\\rMitrano Tom Reed Tom Reed.1 Tracy\\rMitrano.1  \\\n",
       "0                   NaN            DEM      REP        CON              WOR   \n",
       "2  City of Ithaca 1 - 1            371       49          6               92   \n",
       "3  City of Ithaca 1 - 2            293       51          3               71   \n",
       "4  City of Ithaca 1 - 3            210       55          4               52   \n",
       "5  City of Ithaca 1 - 4            617       72          7              191   \n",
       "\n",
       "  Unnamed: 5 Andrew M.\\rKolstee Tom Reed.2 Unnamed: 8  BLANK\\rUndervotes  \\\n",
       "0        GRE                LIB        IND        SAM                NaN   \n",
       "2          0                  7          4        NaN               13.0   \n",
       "3          0                  5          3        NaN               10.0   \n",
       "4          0                  2          0        NaN                9.0   \n",
       "5          0                  7          9        NaN               28.0   \n",
       "\n",
       "   VOID\\rOvervotes  Unqualified Write\\rins  Total Votes  Unnamed: 13  \n",
       "0              NaN                     NaN          NaN          NaN  \n",
       "2              0.0                     2.0        544.0          NaN  \n",
       "3              1.0                     0.0        437.0          NaN  \n",
       "4              0.0                     0.0        332.0          NaN  \n",
       "5              0.0                     2.0        933.0          NaN  "
      ]
     },
     "execution_count": 8,
     "metadata": {},
     "output_type": "execute_result"
    }
   ],
   "source": [
    "data.head()"
   ]
  },
  {
   "cell_type": "markdown",
   "metadata": {},
   "source": [
    "Drop Last Column, it contains no data"
   ]
  },
  {
   "cell_type": "code",
   "execution_count": 9,
   "metadata": {
    "ExecuteTime": {
     "end_time": "2021-01-20T17:48:43.776901Z",
     "start_time": "2021-01-20T17:48:43.770788Z"
    }
   },
   "outputs": [],
   "source": [
    "data.drop('Unnamed: 13', axis=1, inplace=True)"
   ]
  },
  {
   "cell_type": "markdown",
   "metadata": {},
   "source": [
    "Clean up the column names"
   ]
  },
  {
   "cell_type": "code",
   "execution_count": 10,
   "metadata": {
    "ExecuteTime": {
     "end_time": "2021-01-20T17:48:43.783875Z",
     "start_time": "2021-01-20T17:48:43.779082Z"
    }
   },
   "outputs": [],
   "source": [
    "new_col_names = ['district', 'tracy_mitrano_dem', 'tom_reed_rep', 'tom_reed_con', \n",
    "                 'tracy_mitrano_wor', 'gre', 'andrew_kolstee_lib', 'tom_reed_ind', \n",
    "                 'sam', 'undervotes', \n",
    "                 'overvotes', 'write_ins', 'total_votes']"
   ]
  },
  {
   "cell_type": "code",
   "execution_count": 11,
   "metadata": {
    "ExecuteTime": {
     "end_time": "2021-01-20T17:48:43.790648Z",
     "start_time": "2021-01-20T17:48:43.786800Z"
    }
   },
   "outputs": [],
   "source": [
    "data.columns = new_col_names"
   ]
  },
  {
   "cell_type": "markdown",
   "metadata": {},
   "source": [
    "Drop row 0, it is no longer needed"
   ]
  },
  {
   "cell_type": "code",
   "execution_count": 12,
   "metadata": {
    "ExecuteTime": {
     "end_time": "2021-01-20T17:48:43.798961Z",
     "start_time": "2021-01-20T17:48:43.793048Z"
    }
   },
   "outputs": [],
   "source": [
    "data.drop(data.index[0], inplace=True)\n",
    "data = data.reset_index(drop=True)"
   ]
  },
  {
   "cell_type": "code",
   "execution_count": 13,
   "metadata": {
    "ExecuteTime": {
     "end_time": "2021-01-20T17:48:43.829765Z",
     "start_time": "2021-01-20T17:48:43.801238Z"
    }
   },
   "outputs": [
    {
     "data": {
      "text/html": [
       "<div>\n",
       "<style scoped>\n",
       "    .dataframe tbody tr th:only-of-type {\n",
       "        vertical-align: middle;\n",
       "    }\n",
       "\n",
       "    .dataframe tbody tr th {\n",
       "        vertical-align: top;\n",
       "    }\n",
       "\n",
       "    .dataframe thead th {\n",
       "        text-align: right;\n",
       "    }\n",
       "</style>\n",
       "<table border=\"1\" class=\"dataframe\">\n",
       "  <thead>\n",
       "    <tr style=\"text-align: right;\">\n",
       "      <th></th>\n",
       "      <th>district</th>\n",
       "      <th>tracy_mitrano_dem</th>\n",
       "      <th>tom_reed_rep</th>\n",
       "      <th>tom_reed_con</th>\n",
       "      <th>tracy_mitrano_wor</th>\n",
       "      <th>gre</th>\n",
       "      <th>andrew_kolstee_lib</th>\n",
       "      <th>tom_reed_ind</th>\n",
       "      <th>sam</th>\n",
       "      <th>undervotes</th>\n",
       "      <th>overvotes</th>\n",
       "      <th>write_ins</th>\n",
       "      <th>total_votes</th>\n",
       "    </tr>\n",
       "  </thead>\n",
       "  <tbody>\n",
       "    <tr>\n",
       "      <th>0</th>\n",
       "      <td>City of Ithaca 1 - 1</td>\n",
       "      <td>371</td>\n",
       "      <td>49</td>\n",
       "      <td>6</td>\n",
       "      <td>92</td>\n",
       "      <td>0</td>\n",
       "      <td>7</td>\n",
       "      <td>4</td>\n",
       "      <td>NaN</td>\n",
       "      <td>13.0</td>\n",
       "      <td>0.0</td>\n",
       "      <td>2.0</td>\n",
       "      <td>544.0</td>\n",
       "    </tr>\n",
       "    <tr>\n",
       "      <th>1</th>\n",
       "      <td>City of Ithaca 1 - 2</td>\n",
       "      <td>293</td>\n",
       "      <td>51</td>\n",
       "      <td>3</td>\n",
       "      <td>71</td>\n",
       "      <td>0</td>\n",
       "      <td>5</td>\n",
       "      <td>3</td>\n",
       "      <td>NaN</td>\n",
       "      <td>10.0</td>\n",
       "      <td>1.0</td>\n",
       "      <td>0.0</td>\n",
       "      <td>437.0</td>\n",
       "    </tr>\n",
       "    <tr>\n",
       "      <th>2</th>\n",
       "      <td>City of Ithaca 1 - 3</td>\n",
       "      <td>210</td>\n",
       "      <td>55</td>\n",
       "      <td>4</td>\n",
       "      <td>52</td>\n",
       "      <td>0</td>\n",
       "      <td>2</td>\n",
       "      <td>0</td>\n",
       "      <td>NaN</td>\n",
       "      <td>9.0</td>\n",
       "      <td>0.0</td>\n",
       "      <td>0.0</td>\n",
       "      <td>332.0</td>\n",
       "    </tr>\n",
       "    <tr>\n",
       "      <th>3</th>\n",
       "      <td>City of Ithaca 1 - 4</td>\n",
       "      <td>617</td>\n",
       "      <td>72</td>\n",
       "      <td>7</td>\n",
       "      <td>191</td>\n",
       "      <td>0</td>\n",
       "      <td>7</td>\n",
       "      <td>9</td>\n",
       "      <td>NaN</td>\n",
       "      <td>28.0</td>\n",
       "      <td>0.0</td>\n",
       "      <td>2.0</td>\n",
       "      <td>933.0</td>\n",
       "    </tr>\n",
       "    <tr>\n",
       "      <th>4</th>\n",
       "      <td>City of Ithaca 2 - 1</td>\n",
       "      <td>529</td>\n",
       "      <td>39</td>\n",
       "      <td>7</td>\n",
       "      <td>196</td>\n",
       "      <td>0</td>\n",
       "      <td>4</td>\n",
       "      <td>3</td>\n",
       "      <td>NaN</td>\n",
       "      <td>28.0</td>\n",
       "      <td>0.0</td>\n",
       "      <td>1.0</td>\n",
       "      <td>807.0</td>\n",
       "    </tr>\n",
       "  </tbody>\n",
       "</table>\n",
       "</div>"
      ],
      "text/plain": [
       "               district tracy_mitrano_dem tom_reed_rep tom_reed_con  \\\n",
       "0  City of Ithaca 1 - 1               371           49            6   \n",
       "1  City of Ithaca 1 - 2               293           51            3   \n",
       "2  City of Ithaca 1 - 3               210           55            4   \n",
       "3  City of Ithaca 1 - 4               617           72            7   \n",
       "4  City of Ithaca 2 - 1               529           39            7   \n",
       "\n",
       "  tracy_mitrano_wor gre andrew_kolstee_lib tom_reed_ind  sam  undervotes  \\\n",
       "0                92   0                  7            4  NaN        13.0   \n",
       "1                71   0                  5            3  NaN        10.0   \n",
       "2                52   0                  2            0  NaN         9.0   \n",
       "3               191   0                  7            9  NaN        28.0   \n",
       "4               196   0                  4            3  NaN        28.0   \n",
       "\n",
       "   overvotes  write_ins  total_votes  \n",
       "0        0.0        2.0        544.0  \n",
       "1        1.0        0.0        437.0  \n",
       "2        0.0        0.0        332.0  \n",
       "3        0.0        2.0        933.0  \n",
       "4        0.0        1.0        807.0  "
      ]
     },
     "execution_count": 13,
     "metadata": {},
     "output_type": "execute_result"
    }
   ],
   "source": [
    "data.head()"
   ]
  },
  {
   "cell_type": "markdown",
   "metadata": {},
   "source": [
    "Set the values for the sam column to be 0, for consistency"
   ]
  },
  {
   "cell_type": "code",
   "execution_count": 14,
   "metadata": {
    "ExecuteTime": {
     "end_time": "2021-01-20T17:48:43.841938Z",
     "start_time": "2021-01-20T17:48:43.832670Z"
    }
   },
   "outputs": [],
   "source": [
    "data['sam'] = 0"
   ]
  },
  {
   "cell_type": "code",
   "execution_count": 15,
   "metadata": {
    "ExecuteTime": {
     "end_time": "2021-01-20T17:48:43.871972Z",
     "start_time": "2021-01-20T17:48:43.844512Z"
    }
   },
   "outputs": [
    {
     "data": {
      "text/html": [
       "<div>\n",
       "<style scoped>\n",
       "    .dataframe tbody tr th:only-of-type {\n",
       "        vertical-align: middle;\n",
       "    }\n",
       "\n",
       "    .dataframe tbody tr th {\n",
       "        vertical-align: top;\n",
       "    }\n",
       "\n",
       "    .dataframe thead th {\n",
       "        text-align: right;\n",
       "    }\n",
       "</style>\n",
       "<table border=\"1\" class=\"dataframe\">\n",
       "  <thead>\n",
       "    <tr style=\"text-align: right;\">\n",
       "      <th></th>\n",
       "      <th>district</th>\n",
       "      <th>tracy_mitrano_dem</th>\n",
       "      <th>tom_reed_rep</th>\n",
       "      <th>tom_reed_con</th>\n",
       "      <th>tracy_mitrano_wor</th>\n",
       "      <th>gre</th>\n",
       "      <th>andrew_kolstee_lib</th>\n",
       "      <th>tom_reed_ind</th>\n",
       "      <th>sam</th>\n",
       "      <th>undervotes</th>\n",
       "      <th>overvotes</th>\n",
       "      <th>write_ins</th>\n",
       "      <th>total_votes</th>\n",
       "    </tr>\n",
       "  </thead>\n",
       "  <tbody>\n",
       "    <tr>\n",
       "      <th>0</th>\n",
       "      <td>City of Ithaca 1 - 1</td>\n",
       "      <td>371</td>\n",
       "      <td>49</td>\n",
       "      <td>6</td>\n",
       "      <td>92</td>\n",
       "      <td>0</td>\n",
       "      <td>7</td>\n",
       "      <td>4</td>\n",
       "      <td>0</td>\n",
       "      <td>13.0</td>\n",
       "      <td>0.0</td>\n",
       "      <td>2.0</td>\n",
       "      <td>544.0</td>\n",
       "    </tr>\n",
       "    <tr>\n",
       "      <th>1</th>\n",
       "      <td>City of Ithaca 1 - 2</td>\n",
       "      <td>293</td>\n",
       "      <td>51</td>\n",
       "      <td>3</td>\n",
       "      <td>71</td>\n",
       "      <td>0</td>\n",
       "      <td>5</td>\n",
       "      <td>3</td>\n",
       "      <td>0</td>\n",
       "      <td>10.0</td>\n",
       "      <td>1.0</td>\n",
       "      <td>0.0</td>\n",
       "      <td>437.0</td>\n",
       "    </tr>\n",
       "    <tr>\n",
       "      <th>2</th>\n",
       "      <td>City of Ithaca 1 - 3</td>\n",
       "      <td>210</td>\n",
       "      <td>55</td>\n",
       "      <td>4</td>\n",
       "      <td>52</td>\n",
       "      <td>0</td>\n",
       "      <td>2</td>\n",
       "      <td>0</td>\n",
       "      <td>0</td>\n",
       "      <td>9.0</td>\n",
       "      <td>0.0</td>\n",
       "      <td>0.0</td>\n",
       "      <td>332.0</td>\n",
       "    </tr>\n",
       "    <tr>\n",
       "      <th>3</th>\n",
       "      <td>City of Ithaca 1 - 4</td>\n",
       "      <td>617</td>\n",
       "      <td>72</td>\n",
       "      <td>7</td>\n",
       "      <td>191</td>\n",
       "      <td>0</td>\n",
       "      <td>7</td>\n",
       "      <td>9</td>\n",
       "      <td>0</td>\n",
       "      <td>28.0</td>\n",
       "      <td>0.0</td>\n",
       "      <td>2.0</td>\n",
       "      <td>933.0</td>\n",
       "    </tr>\n",
       "    <tr>\n",
       "      <th>4</th>\n",
       "      <td>City of Ithaca 2 - 1</td>\n",
       "      <td>529</td>\n",
       "      <td>39</td>\n",
       "      <td>7</td>\n",
       "      <td>196</td>\n",
       "      <td>0</td>\n",
       "      <td>4</td>\n",
       "      <td>3</td>\n",
       "      <td>0</td>\n",
       "      <td>28.0</td>\n",
       "      <td>0.0</td>\n",
       "      <td>1.0</td>\n",
       "      <td>807.0</td>\n",
       "    </tr>\n",
       "  </tbody>\n",
       "</table>\n",
       "</div>"
      ],
      "text/plain": [
       "               district tracy_mitrano_dem tom_reed_rep tom_reed_con  \\\n",
       "0  City of Ithaca 1 - 1               371           49            6   \n",
       "1  City of Ithaca 1 - 2               293           51            3   \n",
       "2  City of Ithaca 1 - 3               210           55            4   \n",
       "3  City of Ithaca 1 - 4               617           72            7   \n",
       "4  City of Ithaca 2 - 1               529           39            7   \n",
       "\n",
       "  tracy_mitrano_wor gre andrew_kolstee_lib tom_reed_ind  sam  undervotes  \\\n",
       "0                92   0                  7            4    0        13.0   \n",
       "1                71   0                  5            3    0        10.0   \n",
       "2                52   0                  2            0    0         9.0   \n",
       "3               191   0                  7            9    0        28.0   \n",
       "4               196   0                  4            3    0        28.0   \n",
       "\n",
       "   overvotes  write_ins  total_votes  \n",
       "0        0.0        2.0        544.0  \n",
       "1        1.0        0.0        437.0  \n",
       "2        0.0        0.0        332.0  \n",
       "3        0.0        2.0        933.0  \n",
       "4        0.0        1.0        807.0  "
      ]
     },
     "execution_count": 15,
     "metadata": {},
     "output_type": "execute_result"
    }
   ],
   "source": [
    "data.head()"
   ]
  },
  {
   "cell_type": "markdown",
   "metadata": {},
   "source": [
    "Convert vote count columns to integer"
   ]
  },
  {
   "cell_type": "code",
   "execution_count": 16,
   "metadata": {
    "ExecuteTime": {
     "end_time": "2021-01-20T17:48:43.894283Z",
     "start_time": "2021-01-20T17:48:43.874374Z"
    }
   },
   "outputs": [],
   "source": [
    "for col in data.columns[1:]:\n",
    "    \n",
    "    data[col] = pd.to_numeric(data[col], downcast='integer')"
   ]
  },
  {
   "cell_type": "markdown",
   "metadata": {},
   "source": [
    "Add district abbreviation column"
   ]
  },
  {
   "cell_type": "code",
   "execution_count": 17,
   "metadata": {
    "ExecuteTime": {
     "end_time": "2021-01-20T17:48:43.905004Z",
     "start_time": "2021-01-20T17:48:43.896893Z"
    }
   },
   "outputs": [],
   "source": [
    "def get_dist_num(dist_name):\n",
    "    \"\"\"Get the district number from the district name. Whitespace must be \n",
    "       removed to match the style in the shapefile\"\"\"\n",
    "    dist_num_list = re.findall(r'\\d\\s*-*\\s*\\d*', dist_name)\n",
    "    if len(dist_num_list) == 1:\n",
    "        return dist_num_list[0].replace(' ', '')\n",
    "    else:\n",
    "        return ''"
   ]
  },
  {
   "cell_type": "code",
   "execution_count": 18,
   "metadata": {
    "ExecuteTime": {
     "end_time": "2021-01-20T17:48:43.920373Z",
     "start_time": "2021-01-20T17:48:43.907739Z"
    }
   },
   "outputs": [],
   "source": [
    "def abv_dist_name(dist_name):\n",
    "    \"\"\"\n",
    "    Convert a full district name to the abbreviation used in the associated\n",
    "    shapefile.\n",
    "    \"\"\"\n",
    "    dist_num = get_dist_num(dist_name)\n",
    "    \n",
    "    if 'City of Ithaca' in dist_name:\n",
    "        return dist_num\n",
    "    elif 'Caroline' in dist_name:\n",
    "        return 'CAR' + '-' + dist_num\n",
    "    elif 'Danby' in dist_name:\n",
    "        return 'DAN' + '-' + dist_num\n",
    "    elif 'Dryden' in dist_name:\n",
    "        return 'DRY' + '-' + dist_num\n",
    "    elif 'Enfield' in dist_name:\n",
    "        return 'EN' + '-' + dist_num\n",
    "    elif 'Groton' in dist_name:\n",
    "        return 'GRT' + '-' + dist_num\n",
    "    elif 'Town of Ithaca' in dist_name:\n",
    "        return 'ITH' + '-' + dist_num\n",
    "    elif 'Lansing' in dist_name:\n",
    "        return 'LAN' + '-' + dist_num\n",
    "    elif 'Newfield' in dist_name:\n",
    "        return 'NEW' + '-' + dist_num\n",
    "    elif 'Ulysses' in dist_name:\n",
    "        return 'UL' + '-' + dist_num\n",
    "    else:\n",
    "        return 'error'"
   ]
  },
  {
   "cell_type": "markdown",
   "metadata": {},
   "source": [
    "Create district abbreviation column"
   ]
  },
  {
   "cell_type": "code",
   "execution_count": 19,
   "metadata": {
    "ExecuteTime": {
     "end_time": "2021-01-20T17:48:43.943146Z",
     "start_time": "2021-01-20T17:48:43.922822Z"
    }
   },
   "outputs": [],
   "source": [
    "data['dist_abv'] = data['district'].apply(abv_dist_name)"
   ]
  },
  {
   "cell_type": "markdown",
   "metadata": {},
   "source": [
    "Check for rows that weren't set to anything"
   ]
  },
  {
   "cell_type": "code",
   "execution_count": 20,
   "metadata": {
    "ExecuteTime": {
     "end_time": "2021-01-20T17:48:43.966681Z",
     "start_time": "2021-01-20T17:48:43.945564Z"
    }
   },
   "outputs": [
    {
     "data": {
      "text/html": [
       "<div>\n",
       "<style scoped>\n",
       "    .dataframe tbody tr th:only-of-type {\n",
       "        vertical-align: middle;\n",
       "    }\n",
       "\n",
       "    .dataframe tbody tr th {\n",
       "        vertical-align: top;\n",
       "    }\n",
       "\n",
       "    .dataframe thead th {\n",
       "        text-align: right;\n",
       "    }\n",
       "</style>\n",
       "<table border=\"1\" class=\"dataframe\">\n",
       "  <thead>\n",
       "    <tr style=\"text-align: right;\">\n",
       "      <th></th>\n",
       "      <th>district</th>\n",
       "      <th>tracy_mitrano_dem</th>\n",
       "      <th>tom_reed_rep</th>\n",
       "      <th>tom_reed_con</th>\n",
       "      <th>tracy_mitrano_wor</th>\n",
       "      <th>gre</th>\n",
       "      <th>andrew_kolstee_lib</th>\n",
       "      <th>tom_reed_ind</th>\n",
       "      <th>sam</th>\n",
       "      <th>undervotes</th>\n",
       "      <th>overvotes</th>\n",
       "      <th>write_ins</th>\n",
       "      <th>total_votes</th>\n",
       "      <th>dist_abv</th>\n",
       "    </tr>\n",
       "  </thead>\n",
       "  <tbody>\n",
       "    <tr>\n",
       "      <th>8</th>\n",
       "      <td>City of Ithaca 3 - 1, 3-2</td>\n",
       "      <td>445</td>\n",
       "      <td>38</td>\n",
       "      <td>5</td>\n",
       "      <td>91</td>\n",
       "      <td>0</td>\n",
       "      <td>5</td>\n",
       "      <td>4</td>\n",
       "      <td>0</td>\n",
       "      <td>11</td>\n",
       "      <td>0</td>\n",
       "      <td>2</td>\n",
       "      <td>601</td>\n",
       "      <td></td>\n",
       "    </tr>\n",
       "  </tbody>\n",
       "</table>\n",
       "</div>"
      ],
      "text/plain": [
       "                    district  tracy_mitrano_dem  tom_reed_rep  tom_reed_con  \\\n",
       "8  City of Ithaca 3 - 1, 3-2                445            38             5   \n",
       "\n",
       "   tracy_mitrano_wor  gre  andrew_kolstee_lib  tom_reed_ind  sam  undervotes  \\\n",
       "8                 91    0                   5             4    0          11   \n",
       "\n",
       "   overvotes  write_ins  total_votes dist_abv  \n",
       "8          0          2          601           "
      ]
     },
     "execution_count": 20,
     "metadata": {},
     "output_type": "execute_result"
    }
   ],
   "source": [
    "data[data.dist_abv == '']"
   ]
  },
  {
   "cell_type": "markdown",
   "metadata": {},
   "source": [
    "District 3-1 is very small, since it is combined with 3-2 in the pdf, it will be ignored."
   ]
  },
  {
   "cell_type": "code",
   "execution_count": 21,
   "metadata": {
    "ExecuteTime": {
     "end_time": "2021-01-20T17:48:43.973863Z",
     "start_time": "2021-01-20T17:48:43.968870Z"
    }
   },
   "outputs": [],
   "source": [
    "data.loc[data.index[8], 'dist_abv'] = '3-2'"
   ]
  },
  {
   "cell_type": "markdown",
   "metadata": {},
   "source": [
    "Lansing 2, 8 were also not set correctly, Lansing 8 will be ignored because it is relatively small"
   ]
  },
  {
   "cell_type": "code",
   "execution_count": 36,
   "metadata": {
    "ExecuteTime": {
     "end_time": "2021-01-20T18:22:39.250858Z",
     "start_time": "2021-01-20T18:22:39.229757Z"
    }
   },
   "outputs": [
    {
     "data": {
      "text/html": [
       "<div>\n",
       "<style scoped>\n",
       "    .dataframe tbody tr th:only-of-type {\n",
       "        vertical-align: middle;\n",
       "    }\n",
       "\n",
       "    .dataframe tbody tr th {\n",
       "        vertical-align: top;\n",
       "    }\n",
       "\n",
       "    .dataframe thead th {\n",
       "        text-align: right;\n",
       "    }\n",
       "</style>\n",
       "<table border=\"1\" class=\"dataframe\">\n",
       "  <thead>\n",
       "    <tr style=\"text-align: right;\">\n",
       "      <th></th>\n",
       "      <th>district</th>\n",
       "      <th>tracy_mitrano_dem</th>\n",
       "      <th>tom_reed_rep</th>\n",
       "      <th>tom_reed_con</th>\n",
       "      <th>tracy_mitrano_wor</th>\n",
       "      <th>gre</th>\n",
       "      <th>andrew_kolstee_lib</th>\n",
       "      <th>tom_reed_ind</th>\n",
       "      <th>sam</th>\n",
       "      <th>undervotes</th>\n",
       "      <th>overvotes</th>\n",
       "      <th>write_ins</th>\n",
       "      <th>total_votes</th>\n",
       "      <th>dist_abv</th>\n",
       "    </tr>\n",
       "  </thead>\n",
       "  <tbody>\n",
       "    <tr>\n",
       "      <th>50</th>\n",
       "      <td>Town of Lansing 2, 8</td>\n",
       "      <td>400</td>\n",
       "      <td>336</td>\n",
       "      <td>17</td>\n",
       "      <td>32</td>\n",
       "      <td>0</td>\n",
       "      <td>15</td>\n",
       "      <td>11</td>\n",
       "      <td>0</td>\n",
       "      <td>30</td>\n",
       "      <td>0</td>\n",
       "      <td>1</td>\n",
       "      <td>842</td>\n",
       "      <td>LAN-</td>\n",
       "    </tr>\n",
       "  </tbody>\n",
       "</table>\n",
       "</div>"
      ],
      "text/plain": [
       "                district  tracy_mitrano_dem  tom_reed_rep  tom_reed_con  \\\n",
       "50  Town of Lansing 2, 8                400           336            17   \n",
       "\n",
       "    tracy_mitrano_wor  gre  andrew_kolstee_lib  tom_reed_ind  sam  undervotes  \\\n",
       "50                 32    0                  15            11    0          30   \n",
       "\n",
       "    overvotes  write_ins  total_votes dist_abv  \n",
       "50          0          1          842     LAN-  "
      ]
     },
     "execution_count": 36,
     "metadata": {},
     "output_type": "execute_result"
    }
   ],
   "source": [
    "data[data['dist_abv'] == 'LAN-']"
   ]
  },
  {
   "cell_type": "code",
   "execution_count": 37,
   "metadata": {
    "ExecuteTime": {
     "end_time": "2021-01-20T18:24:13.542391Z",
     "start_time": "2021-01-20T18:24:13.537821Z"
    }
   },
   "outputs": [],
   "source": [
    "data.loc[data.index[50], 'dist_abv'] = 'LAN-8'"
   ]
  },
  {
   "cell_type": "markdown",
   "metadata": {},
   "source": [
    "# Save output file"
   ]
  },
  {
   "cell_type": "code",
   "execution_count": 38,
   "metadata": {
    "ExecuteTime": {
     "end_time": "2021-01-20T18:24:30.519095Z",
     "start_time": "2021-01-20T18:24:30.513034Z"
    }
   },
   "outputs": [],
   "source": [
    "data.to_csv(output_file_name)"
   ]
  },
  {
   "cell_type": "code",
   "execution_count": null,
   "metadata": {},
   "outputs": [],
   "source": []
  }
 ],
 "metadata": {
  "kernelspec": {
   "display_name": "learn-env",
   "language": "python",
   "name": "learn-env"
  },
  "language_info": {
   "codemirror_mode": {
    "name": "ipython",
    "version": 3
   },
   "file_extension": ".py",
   "mimetype": "text/x-python",
   "name": "python",
   "nbconvert_exporter": "python",
   "pygments_lexer": "ipython3",
   "version": "3.6.9"
  },
  "toc": {
   "base_numbering": 1,
   "nav_menu": {},
   "number_sections": true,
   "sideBar": true,
   "skip_h1_title": false,
   "title_cell": "Table of Contents",
   "title_sidebar": "Contents",
   "toc_cell": false,
   "toc_position": {},
   "toc_section_display": true,
   "toc_window_display": false
  },
  "varInspector": {
   "cols": {
    "lenName": 16,
    "lenType": 16,
    "lenVar": 40
   },
   "kernels_config": {
    "python": {
     "delete_cmd_postfix": "",
     "delete_cmd_prefix": "del ",
     "library": "var_list.py",
     "varRefreshCmd": "print(var_dic_list())"
    },
    "r": {
     "delete_cmd_postfix": ") ",
     "delete_cmd_prefix": "rm(",
     "library": "var_list.r",
     "varRefreshCmd": "cat(var_dic_list()) "
    }
   },
   "types_to_exclude": [
    "module",
    "function",
    "builtin_function_or_method",
    "instance",
    "_Feature"
   ],
   "window_display": false
  }
 },
 "nbformat": 4,
 "nbformat_minor": 2
}
