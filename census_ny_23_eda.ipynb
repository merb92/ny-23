{
 "cells": [
  {
   "cell_type": "markdown",
   "metadata": {},
   "source": [
    "# EDA of US Census and NY BOE Data\n",
    "Focusing on NY's 23rd Congressional District"
   ]
  },
  {
   "cell_type": "markdown",
   "metadata": {},
   "source": [
    "# Imports"
   ]
  },
  {
   "cell_type": "code",
   "execution_count": 1,
   "metadata": {
    "ExecuteTime": {
     "end_time": "2021-01-08T18:36:59.102053Z",
     "start_time": "2021-01-08T18:36:58.190242Z"
    }
   },
   "outputs": [
    {
     "name": "stderr",
     "output_type": "stream",
     "text": [
      "Matplotlib is building the font cache; this may take a moment.\n"
     ]
    }
   ],
   "source": [
    "import pandas as pd\n",
    "import matplotlib.pyplot as plt\n",
    "%matplotlib inline"
   ]
  },
  {
   "cell_type": "markdown",
   "metadata": {},
   "source": [
    "# Load US Census Data"
   ]
  },
  {
   "cell_type": "markdown",
   "metadata": {},
   "source": [
    "Census Data from [data.census.gov](http://data.census.gov)\n",
    "\n",
    "* Age and Sex Table \n",
    "    * American Community Survey (ACS)\n",
    "    * TableID SO101\n",
    "* Product 2019 ACS 1-Year Estimates"
   ]
  },
  {
   "cell_type": "code",
   "execution_count": 2,
   "metadata": {
    "ExecuteTime": {
     "end_time": "2021-01-08T18:36:59.108120Z",
     "start_time": "2021-01-08T18:36:59.104697Z"
    }
   },
   "outputs": [],
   "source": [
    "data_file = 'ACSST1Y2019.S0101_data_with_overlays_2021-01-03T131512.csv'"
   ]
  },
  {
   "cell_type": "code",
   "execution_count": 3,
   "metadata": {
    "ExecuteTime": {
     "end_time": "2021-01-08T18:36:59.240783Z",
     "start_time": "2021-01-08T18:36:59.111086Z"
    }
   },
   "outputs": [],
   "source": [
    "df = pd.read_csv(data_file)"
   ]
  },
  {
   "cell_type": "code",
   "execution_count": 4,
   "metadata": {
    "ExecuteTime": {
     "end_time": "2021-01-08T18:36:59.285909Z",
     "start_time": "2021-01-08T18:36:59.243378Z"
    }
   },
   "outputs": [
    {
     "data": {
      "text/html": [
       "<div>\n",
       "<style scoped>\n",
       "    .dataframe tbody tr th:only-of-type {\n",
       "        vertical-align: middle;\n",
       "    }\n",
       "\n",
       "    .dataframe tbody tr th {\n",
       "        vertical-align: top;\n",
       "    }\n",
       "\n",
       "    .dataframe thead th {\n",
       "        text-align: right;\n",
       "    }\n",
       "</style>\n",
       "<table border=\"1\" class=\"dataframe\">\n",
       "  <thead>\n",
       "    <tr style=\"text-align: right;\">\n",
       "      <th></th>\n",
       "      <th>GEO_ID</th>\n",
       "      <th>NAME</th>\n",
       "      <th>S0101_C01_001E</th>\n",
       "      <th>S0101_C01_001M</th>\n",
       "      <th>S0101_C01_002E</th>\n",
       "      <th>S0101_C01_002M</th>\n",
       "      <th>S0101_C01_003E</th>\n",
       "      <th>S0101_C01_003M</th>\n",
       "      <th>S0101_C01_004E</th>\n",
       "      <th>S0101_C01_004M</th>\n",
       "      <th>...</th>\n",
       "      <th>S0101_C06_034E</th>\n",
       "      <th>S0101_C06_034M</th>\n",
       "      <th>S0101_C06_035E</th>\n",
       "      <th>S0101_C06_035M</th>\n",
       "      <th>S0101_C06_036E</th>\n",
       "      <th>S0101_C06_036M</th>\n",
       "      <th>S0101_C06_037E</th>\n",
       "      <th>S0101_C06_037M</th>\n",
       "      <th>S0101_C06_038E</th>\n",
       "      <th>S0101_C06_038M</th>\n",
       "    </tr>\n",
       "  </thead>\n",
       "  <tbody>\n",
       "    <tr>\n",
       "      <th>0</th>\n",
       "      <td>id</td>\n",
       "      <td>Geographic Area Name</td>\n",
       "      <td>Estimate!!Total!!Total population</td>\n",
       "      <td>Margin of Error!!Total!!Total population</td>\n",
       "      <td>Estimate!!Total!!Total population!!AGE!!Under ...</td>\n",
       "      <td>Margin of Error!!Total!!Total population!!AGE!...</td>\n",
       "      <td>Estimate!!Total!!Total population!!AGE!!5 to 9...</td>\n",
       "      <td>Margin of Error!!Total!!Total population!!AGE!...</td>\n",
       "      <td>Estimate!!Total!!Total population!!AGE!!10 to ...</td>\n",
       "      <td>Margin of Error!!Total!!Total population!!AGE!...</td>\n",
       "      <td>...</td>\n",
       "      <td>Estimate!!Percent Female!!Total population!!SU...</td>\n",
       "      <td>Margin of Error!!Percent Female!!Total populat...</td>\n",
       "      <td>Estimate!!Percent Female!!Total population!!SU...</td>\n",
       "      <td>Margin of Error!!Percent Female!!Total populat...</td>\n",
       "      <td>Estimate!!Percent Female!!Total population!!SU...</td>\n",
       "      <td>Margin of Error!!Percent Female!!Total populat...</td>\n",
       "      <td>Estimate!!Percent Female!!Total population!!PE...</td>\n",
       "      <td>Margin of Error!!Percent Female!!Total populat...</td>\n",
       "      <td>Estimate!!Percent Female!!Total population!!PE...</td>\n",
       "      <td>Margin of Error!!Percent Female!!Total populat...</td>\n",
       "    </tr>\n",
       "    <tr>\n",
       "      <th>1</th>\n",
       "      <td>0100000US</td>\n",
       "      <td>United States</td>\n",
       "      <td>328239523</td>\n",
       "      <td>*****</td>\n",
       "      <td>19404835</td>\n",
       "      <td>22314</td>\n",
       "      <td>19690437</td>\n",
       "      <td>69224</td>\n",
       "      <td>21423479</td>\n",
       "      <td>69779</td>\n",
       "      <td>...</td>\n",
       "      <td>(X)</td>\n",
       "      <td>(X)</td>\n",
       "      <td>(X)</td>\n",
       "      <td>(X)</td>\n",
       "      <td>(X)</td>\n",
       "      <td>(X)</td>\n",
       "      <td>(X)</td>\n",
       "      <td>(X)</td>\n",
       "      <td>(X)</td>\n",
       "      <td>(X)</td>\n",
       "    </tr>\n",
       "    <tr>\n",
       "      <th>2</th>\n",
       "      <td>5001600US3623</td>\n",
       "      <td>Congressional District 23 (116th Congress), Ne...</td>\n",
       "      <td>687583</td>\n",
       "      <td>3878</td>\n",
       "      <td>34759</td>\n",
       "      <td>1177</td>\n",
       "      <td>37179</td>\n",
       "      <td>1896</td>\n",
       "      <td>37528</td>\n",
       "      <td>1806</td>\n",
       "      <td>...</td>\n",
       "      <td>(X)</td>\n",
       "      <td>(X)</td>\n",
       "      <td>(X)</td>\n",
       "      <td>(X)</td>\n",
       "      <td>(X)</td>\n",
       "      <td>(X)</td>\n",
       "      <td>(X)</td>\n",
       "      <td>(X)</td>\n",
       "      <td>(X)</td>\n",
       "      <td>(X)</td>\n",
       "    </tr>\n",
       "  </tbody>\n",
       "</table>\n",
       "<p>3 rows × 458 columns</p>\n",
       "</div>"
      ],
      "text/plain": [
       "          GEO_ID                                               NAME  \\\n",
       "0             id                               Geographic Area Name   \n",
       "1      0100000US                                      United States   \n",
       "2  5001600US3623  Congressional District 23 (116th Congress), Ne...   \n",
       "\n",
       "                      S0101_C01_001E  \\\n",
       "0  Estimate!!Total!!Total population   \n",
       "1                          328239523   \n",
       "2                             687583   \n",
       "\n",
       "                             S0101_C01_001M  \\\n",
       "0  Margin of Error!!Total!!Total population   \n",
       "1                                     *****   \n",
       "2                                      3878   \n",
       "\n",
       "                                      S0101_C01_002E  \\\n",
       "0  Estimate!!Total!!Total population!!AGE!!Under ...   \n",
       "1                                           19404835   \n",
       "2                                              34759   \n",
       "\n",
       "                                      S0101_C01_002M  \\\n",
       "0  Margin of Error!!Total!!Total population!!AGE!...   \n",
       "1                                              22314   \n",
       "2                                               1177   \n",
       "\n",
       "                                      S0101_C01_003E  \\\n",
       "0  Estimate!!Total!!Total population!!AGE!!5 to 9...   \n",
       "1                                           19690437   \n",
       "2                                              37179   \n",
       "\n",
       "                                      S0101_C01_003M  \\\n",
       "0  Margin of Error!!Total!!Total population!!AGE!...   \n",
       "1                                              69224   \n",
       "2                                               1896   \n",
       "\n",
       "                                      S0101_C01_004E  \\\n",
       "0  Estimate!!Total!!Total population!!AGE!!10 to ...   \n",
       "1                                           21423479   \n",
       "2                                              37528   \n",
       "\n",
       "                                      S0101_C01_004M  ...  \\\n",
       "0  Margin of Error!!Total!!Total population!!AGE!...  ...   \n",
       "1                                              69779  ...   \n",
       "2                                               1806  ...   \n",
       "\n",
       "                                      S0101_C06_034E  \\\n",
       "0  Estimate!!Percent Female!!Total population!!SU...   \n",
       "1                                                (X)   \n",
       "2                                                (X)   \n",
       "\n",
       "                                      S0101_C06_034M  \\\n",
       "0  Margin of Error!!Percent Female!!Total populat...   \n",
       "1                                                (X)   \n",
       "2                                                (X)   \n",
       "\n",
       "                                      S0101_C06_035E  \\\n",
       "0  Estimate!!Percent Female!!Total population!!SU...   \n",
       "1                                                (X)   \n",
       "2                                                (X)   \n",
       "\n",
       "                                      S0101_C06_035M  \\\n",
       "0  Margin of Error!!Percent Female!!Total populat...   \n",
       "1                                                (X)   \n",
       "2                                                (X)   \n",
       "\n",
       "                                      S0101_C06_036E  \\\n",
       "0  Estimate!!Percent Female!!Total population!!SU...   \n",
       "1                                                (X)   \n",
       "2                                                (X)   \n",
       "\n",
       "                                      S0101_C06_036M  \\\n",
       "0  Margin of Error!!Percent Female!!Total populat...   \n",
       "1                                                (X)   \n",
       "2                                                (X)   \n",
       "\n",
       "                                      S0101_C06_037E  \\\n",
       "0  Estimate!!Percent Female!!Total population!!PE...   \n",
       "1                                                (X)   \n",
       "2                                                (X)   \n",
       "\n",
       "                                      S0101_C06_037M  \\\n",
       "0  Margin of Error!!Percent Female!!Total populat...   \n",
       "1                                                (X)   \n",
       "2                                                (X)   \n",
       "\n",
       "                                      S0101_C06_038E  \\\n",
       "0  Estimate!!Percent Female!!Total population!!PE...   \n",
       "1                                                (X)   \n",
       "2                                                (X)   \n",
       "\n",
       "                                      S0101_C06_038M  \n",
       "0  Margin of Error!!Percent Female!!Total populat...  \n",
       "1                                                (X)  \n",
       "2                                                (X)  \n",
       "\n",
       "[3 rows x 458 columns]"
      ]
     },
     "execution_count": 4,
     "metadata": {},
     "output_type": "execute_result"
    }
   ],
   "source": [
    "df"
   ]
  },
  {
   "cell_type": "markdown",
   "metadata": {},
   "source": [
    "Cols of interest\n",
    "* Total Population\n",
    "* Population 18 years and over\n",
    "* Male 18+\n",
    "* Female 18+"
   ]
  },
  {
   "cell_type": "code",
   "execution_count": 5,
   "metadata": {
    "ExecuteTime": {
     "end_time": "2021-01-08T18:36:59.330225Z",
     "start_time": "2021-01-08T18:36:59.288173Z"
    }
   },
   "outputs": [
    {
     "name": "stdout",
     "output_type": "stream",
     "text": [
      "<class 'pandas.core.frame.DataFrame'>\n",
      "RangeIndex: 3 entries, 0 to 2\n",
      "Columns: 458 entries, GEO_ID to S0101_C06_038M\n",
      "dtypes: object(458)\n",
      "memory usage: 10.9+ KB\n"
     ]
    }
   ],
   "source": [
    "df.info()"
   ]
  },
  {
   "cell_type": "code",
   "execution_count": 6,
   "metadata": {
    "ExecuteTime": {
     "end_time": "2021-01-08T18:36:59.335936Z",
     "start_time": "2021-01-08T18:36:59.332418Z"
    }
   },
   "outputs": [],
   "source": [
    "cols_of_interest = ['NAME', \n",
    "                    'S0101_C01_001E', \n",
    "                    'S0101_C01_026E', \n",
    "                    'S0101_C03_001E', \n",
    "                    'S0101_C03_026E', \n",
    "                    'S0101_C05_001E', \n",
    "                    'S0101_C05_026E']"
   ]
  },
  {
   "cell_type": "code",
   "execution_count": 7,
   "metadata": {
    "ExecuteTime": {
     "end_time": "2021-01-08T18:36:59.343542Z",
     "start_time": "2021-01-08T18:36:59.338325Z"
    }
   },
   "outputs": [],
   "source": [
    "census_df = df[cols_of_interest]"
   ]
  },
  {
   "cell_type": "code",
   "execution_count": 8,
   "metadata": {
    "ExecuteTime": {
     "end_time": "2021-01-08T18:36:59.367307Z",
     "start_time": "2021-01-08T18:36:59.347961Z"
    }
   },
   "outputs": [
    {
     "data": {
      "text/html": [
       "<div>\n",
       "<style scoped>\n",
       "    .dataframe tbody tr th:only-of-type {\n",
       "        vertical-align: middle;\n",
       "    }\n",
       "\n",
       "    .dataframe tbody tr th {\n",
       "        vertical-align: top;\n",
       "    }\n",
       "\n",
       "    .dataframe thead th {\n",
       "        text-align: right;\n",
       "    }\n",
       "</style>\n",
       "<table border=\"1\" class=\"dataframe\">\n",
       "  <thead>\n",
       "    <tr style=\"text-align: right;\">\n",
       "      <th></th>\n",
       "      <th>NAME</th>\n",
       "      <th>S0101_C01_001E</th>\n",
       "      <th>S0101_C01_026E</th>\n",
       "      <th>S0101_C03_001E</th>\n",
       "      <th>S0101_C03_026E</th>\n",
       "      <th>S0101_C05_001E</th>\n",
       "      <th>S0101_C05_026E</th>\n",
       "    </tr>\n",
       "  </thead>\n",
       "  <tbody>\n",
       "    <tr>\n",
       "      <th>0</th>\n",
       "      <td>Geographic Area Name</td>\n",
       "      <td>Estimate!!Total!!Total population</td>\n",
       "      <td>Estimate!!Total!!Total population!!SELECTED AG...</td>\n",
       "      <td>Estimate!!Male!!Total population</td>\n",
       "      <td>Estimate!!Male!!Total population!!SELECTED AGE...</td>\n",
       "      <td>Estimate!!Female!!Total population</td>\n",
       "      <td>Estimate!!Female!!Total population!!SELECTED A...</td>\n",
       "    </tr>\n",
       "    <tr>\n",
       "      <th>1</th>\n",
       "      <td>United States</td>\n",
       "      <td>328239523</td>\n",
       "      <td>255271738</td>\n",
       "      <td>161588973</td>\n",
       "      <td>124267346</td>\n",
       "      <td>166650550</td>\n",
       "      <td>131004392</td>\n",
       "    </tr>\n",
       "    <tr>\n",
       "      <th>2</th>\n",
       "      <td>Congressional District 23 (116th Congress), Ne...</td>\n",
       "      <td>687583</td>\n",
       "      <td>553107</td>\n",
       "      <td>341076</td>\n",
       "      <td>271310</td>\n",
       "      <td>346507</td>\n",
       "      <td>281797</td>\n",
       "    </tr>\n",
       "  </tbody>\n",
       "</table>\n",
       "</div>"
      ],
      "text/plain": [
       "                                                NAME  \\\n",
       "0                               Geographic Area Name   \n",
       "1                                      United States   \n",
       "2  Congressional District 23 (116th Congress), Ne...   \n",
       "\n",
       "                      S0101_C01_001E  \\\n",
       "0  Estimate!!Total!!Total population   \n",
       "1                          328239523   \n",
       "2                             687583   \n",
       "\n",
       "                                      S0101_C01_026E  \\\n",
       "0  Estimate!!Total!!Total population!!SELECTED AG...   \n",
       "1                                          255271738   \n",
       "2                                             553107   \n",
       "\n",
       "                     S0101_C03_001E  \\\n",
       "0  Estimate!!Male!!Total population   \n",
       "1                         161588973   \n",
       "2                            341076   \n",
       "\n",
       "                                      S0101_C03_026E  \\\n",
       "0  Estimate!!Male!!Total population!!SELECTED AGE...   \n",
       "1                                          124267346   \n",
       "2                                             271310   \n",
       "\n",
       "                       S0101_C05_001E  \\\n",
       "0  Estimate!!Female!!Total population   \n",
       "1                           166650550   \n",
       "2                              346507   \n",
       "\n",
       "                                      S0101_C05_026E  \n",
       "0  Estimate!!Female!!Total population!!SELECTED A...  \n",
       "1                                          131004392  \n",
       "2                                             281797  "
      ]
     },
     "execution_count": 8,
     "metadata": {},
     "output_type": "execute_result"
    }
   ],
   "source": [
    "census_df"
   ]
  },
  {
   "cell_type": "code",
   "execution_count": 9,
   "metadata": {
    "ExecuteTime": {
     "end_time": "2021-01-08T18:36:59.381021Z",
     "start_time": "2021-01-08T18:36:59.370401Z"
    }
   },
   "outputs": [
    {
     "name": "stdout",
     "output_type": "stream",
     "text": [
      "<class 'pandas.core.frame.DataFrame'>\n",
      "RangeIndex: 3 entries, 0 to 2\n",
      "Data columns (total 7 columns):\n",
      " #   Column          Non-Null Count  Dtype \n",
      "---  ------          --------------  ----- \n",
      " 0   NAME            3 non-null      object\n",
      " 1   S0101_C01_001E  3 non-null      object\n",
      " 2   S0101_C01_026E  3 non-null      object\n",
      " 3   S0101_C03_001E  3 non-null      object\n",
      " 4   S0101_C03_026E  3 non-null      object\n",
      " 5   S0101_C05_001E  3 non-null      object\n",
      " 6   S0101_C05_026E  3 non-null      object\n",
      "dtypes: object(7)\n",
      "memory usage: 296.0+ bytes\n"
     ]
    }
   ],
   "source": [
    "census_df.info()"
   ]
  },
  {
   "cell_type": "markdown",
   "metadata": {},
   "source": [
    "Convert the numerical data from a string to an int"
   ]
  },
  {
   "cell_type": "code",
   "execution_count": 10,
   "metadata": {
    "ExecuteTime": {
     "end_time": "2021-01-08T18:36:59.400242Z",
     "start_time": "2021-01-08T18:36:59.383231Z"
    }
   },
   "outputs": [
    {
     "name": "stderr",
     "output_type": "stream",
     "text": [
      "/Users/freethrall/anaconda3/envs/py3.7/lib/python3.7/site-packages/pandas/core/indexing.py:1636: SettingWithCopyWarning: \n",
      "A value is trying to be set on a copy of a slice from a DataFrame\n",
      "\n",
      "See the caveats in the documentation: https://pandas.pydata.org/pandas-docs/stable/user_guide/indexing.html#returning-a-view-versus-a-copy\n",
      "  self._setitem_single_block(indexer, value, name)\n",
      "/Users/freethrall/anaconda3/envs/py3.7/lib/python3.7/site-packages/pandas/core/indexing.py:691: SettingWithCopyWarning: \n",
      "A value is trying to be set on a copy of a slice from a DataFrame\n",
      "\n",
      "See the caveats in the documentation: https://pandas.pydata.org/pandas-docs/stable/user_guide/indexing.html#returning-a-view-versus-a-copy\n",
      "  iloc._setitem_with_indexer(indexer, value, self.name)\n"
     ]
    }
   ],
   "source": [
    "for col in cols_of_interest[1:]:\n",
    "    census_df.loc[1:, col] = pd.to_numeric(census_df.loc[1:, col])"
   ]
  },
  {
   "cell_type": "code",
   "execution_count": 11,
   "metadata": {
    "ExecuteTime": {
     "end_time": "2021-01-08T18:36:59.410088Z",
     "start_time": "2021-01-08T18:36:59.402164Z"
    }
   },
   "outputs": [],
   "source": [
    "total_pops = census_df.iloc[-1:][['S0101_C01_001E', 'S0101_C03_001E', 'S0101_C05_001E']].to_numpy()[0]"
   ]
  },
  {
   "cell_type": "code",
   "execution_count": 12,
   "metadata": {
    "ExecuteTime": {
     "end_time": "2021-01-08T18:36:59.694583Z",
     "start_time": "2021-01-08T18:36:59.412198Z"
    },
    "scrolled": false
   },
   "outputs": [
    {
     "data": {
      "image/png": "[encoded data removed]",
      "text/plain": [
       "<Figure size 1152x576 with 1 Axes>"
      ]
     },
     "metadata": {
      "needs_background": "light"
     },
     "output_type": "display_data"
    }
   ],
   "source": [
    "plt.figure(figsize=(16,8))\n",
    "plt.bar(x=['Total', 'Male', 'Female'],\n",
    "       height=total_pops)\n",
    "plt.title('Population Breakdown By Gender in NY23')\n",
    "plt.show()"
   ]
  },
  {
   "cell_type": "code",
   "execution_count": 13,
   "metadata": {
    "ExecuteTime": {
     "end_time": "2021-01-08T18:36:59.703057Z",
     "start_time": "2021-01-08T18:36:59.696538Z"
    }
   },
   "outputs": [],
   "source": [
    "voting_age_pops = census_df.iloc[-1:][['S0101_C01_026E', 'S0101_C03_026E', 'S0101_C05_026E']].to_numpy()[0]"
   ]
  },
  {
   "cell_type": "code",
   "execution_count": 14,
   "metadata": {
    "ExecuteTime": {
     "end_time": "2021-01-08T18:36:59.979606Z",
     "start_time": "2021-01-08T18:36:59.705413Z"
    }
   },
   "outputs": [
    {
     "data": {
      "image/png": "[encoded data removed]",
      "text/plain": [
       "<Figure size 1152x576 with 1 Axes>"
      ]
     },
     "metadata": {
      "needs_background": "light"
     },
     "output_type": "display_data"
    }
   ],
   "source": [
    "plt.figure(figsize=(16,8))\n",
    "plt.bar(x=['Total', 'Male', 'Female'],\n",
    "       height=voting_age_pops)\n",
    "plt.title('Population Breakdown By Gender in NY23 Ages 18 and over')\n",
    "plt.show()"
   ]
  },
  {
   "cell_type": "markdown",
   "metadata": {},
   "source": [
    "The breakdown by gender is fairly even for the entire population and the 18+ group, both with somewhat higher female populations, but it's more even for the entire population, so the under 18 group must have a higher population of males vs. females."
   ]
  },
  {
   "cell_type": "markdown",
   "metadata": {},
   "source": [
    "# LOAD NY Board of Education (BOE) Data"
   ]
  },
  {
   "cell_type": "markdown",
   "metadata": {},
   "source": [
    "Data from New York State BOE [link](https://www.elections.ny.gov/EnrollmentCD.html)\n",
    "\n",
    "* Enrollment by Congressional District\n",
    "    * As of 11/1/2020"
   ]
  },
  {
   "cell_type": "markdown",
   "metadata": {},
   "source": [
    "## Load Data into Dataframe and Clean"
   ]
  },
  {
   "cell_type": "code",
   "execution_count": 15,
   "metadata": {
    "ExecuteTime": {
     "end_time": "2021-01-08T18:36:59.984980Z",
     "start_time": "2021-01-08T18:36:59.981606Z"
    }
   },
   "outputs": [],
   "source": [
    "boe_data_file = 'congress_nov20.xls'"
   ]
  },
  {
   "cell_type": "code",
   "execution_count": 16,
   "metadata": {
    "ExecuteTime": {
     "end_time": "2021-01-08T18:37:00.091431Z",
     "start_time": "2021-01-08T18:36:59.987243Z"
    }
   },
   "outputs": [],
   "source": [
    "boe_df = pd.read_excel(boe_data_file, sheet_name='CD Enrollment November 2020')"
   ]
  },
  {
   "cell_type": "code",
   "execution_count": 17,
   "metadata": {
    "ExecuteTime": {
     "end_time": "2021-01-08T18:37:00.119689Z",
     "start_time": "2021-01-08T18:37:00.093694Z"
    }
   },
   "outputs": [
    {
     "data": {
      "text/html": [
       "<div>\n",
       "<style scoped>\n",
       "    .dataframe tbody tr th:only-of-type {\n",
       "        vertical-align: middle;\n",
       "    }\n",
       "\n",
       "    .dataframe tbody tr th {\n",
       "        vertical-align: top;\n",
       "    }\n",
       "\n",
       "    .dataframe thead th {\n",
       "        text-align: right;\n",
       "    }\n",
       "</style>\n",
       "<table border=\"1\" class=\"dataframe\">\n",
       "  <thead>\n",
       "    <tr style=\"text-align: right;\">\n",
       "      <th></th>\n",
       "      <th>DISTRICT</th>\n",
       "      <th>COUNTY</th>\n",
       "      <th>STATUS</th>\n",
       "      <th>DEM</th>\n",
       "      <th>REP</th>\n",
       "      <th>CON</th>\n",
       "      <th>WOR</th>\n",
       "      <th>GRE</th>\n",
       "      <th>LBT</th>\n",
       "      <th>IND</th>\n",
       "      <th>SAM</th>\n",
       "      <th>OTH</th>\n",
       "      <th>BLANK</th>\n",
       "      <th>TOTAL</th>\n",
       "    </tr>\n",
       "  </thead>\n",
       "  <tbody>\n",
       "    <tr>\n",
       "      <th>0</th>\n",
       "      <td>NaN</td>\n",
       "      <td>NaN</td>\n",
       "      <td>NaN</td>\n",
       "      <td>NaN</td>\n",
       "      <td>NaN</td>\n",
       "      <td>NaN</td>\n",
       "      <td>NaN</td>\n",
       "      <td>NaN</td>\n",
       "      <td>NaN</td>\n",
       "      <td>NaN</td>\n",
       "      <td>NaN</td>\n",
       "      <td>NaN</td>\n",
       "      <td>NaN</td>\n",
       "      <td>NaN</td>\n",
       "    </tr>\n",
       "    <tr>\n",
       "      <th>1</th>\n",
       "      <td>1.0</td>\n",
       "      <td>Suffolk</td>\n",
       "      <td>Active</td>\n",
       "      <td>165334.0</td>\n",
       "      <td>167547.0</td>\n",
       "      <td>11593.0</td>\n",
       "      <td>1915.0</td>\n",
       "      <td>1035.0</td>\n",
       "      <td>951.0</td>\n",
       "      <td>22615.0</td>\n",
       "      <td>25.0</td>\n",
       "      <td>231.0</td>\n",
       "      <td>142236.0</td>\n",
       "      <td>513482.0</td>\n",
       "    </tr>\n",
       "    <tr>\n",
       "      <th>2</th>\n",
       "      <td>1.0</td>\n",
       "      <td>Suffolk</td>\n",
       "      <td>Inactive</td>\n",
       "      <td>14768.0</td>\n",
       "      <td>13653.0</td>\n",
       "      <td>1002.0</td>\n",
       "      <td>211.0</td>\n",
       "      <td>132.0</td>\n",
       "      <td>55.0</td>\n",
       "      <td>2359.0</td>\n",
       "      <td>0.0</td>\n",
       "      <td>20.0</td>\n",
       "      <td>12982.0</td>\n",
       "      <td>45182.0</td>\n",
       "    </tr>\n",
       "    <tr>\n",
       "      <th>3</th>\n",
       "      <td>1.0</td>\n",
       "      <td>Suffolk</td>\n",
       "      <td>Total</td>\n",
       "      <td>180102.0</td>\n",
       "      <td>181200.0</td>\n",
       "      <td>12595.0</td>\n",
       "      <td>2126.0</td>\n",
       "      <td>1167.0</td>\n",
       "      <td>1006.0</td>\n",
       "      <td>24974.0</td>\n",
       "      <td>25.0</td>\n",
       "      <td>251.0</td>\n",
       "      <td>155218.0</td>\n",
       "      <td>558664.0</td>\n",
       "    </tr>\n",
       "    <tr>\n",
       "      <th>4</th>\n",
       "      <td>NaN</td>\n",
       "      <td>NaN</td>\n",
       "      <td>NaN</td>\n",
       "      <td>NaN</td>\n",
       "      <td>NaN</td>\n",
       "      <td>NaN</td>\n",
       "      <td>NaN</td>\n",
       "      <td>NaN</td>\n",
       "      <td>NaN</td>\n",
       "      <td>NaN</td>\n",
       "      <td>NaN</td>\n",
       "      <td>NaN</td>\n",
       "      <td>NaN</td>\n",
       "      <td>NaN</td>\n",
       "    </tr>\n",
       "  </tbody>\n",
       "</table>\n",
       "</div>"
      ],
      "text/plain": [
       "   DISTRICT    COUNTY    STATUS       DEM       REP      CON     WOR     GRE  \\\n",
       "0       NaN       NaN       NaN       NaN       NaN      NaN     NaN     NaN   \n",
       "1       1.0  Suffolk     Active  165334.0  167547.0  11593.0  1915.0  1035.0   \n",
       "2       1.0  Suffolk   Inactive   14768.0   13653.0   1002.0   211.0   132.0   \n",
       "3       1.0  Suffolk      Total  180102.0  181200.0  12595.0  2126.0  1167.0   \n",
       "4       NaN       NaN       NaN       NaN       NaN      NaN     NaN     NaN   \n",
       "\n",
       "      LBT      IND   SAM    OTH     BLANK     TOTAL  \n",
       "0     NaN      NaN   NaN    NaN       NaN       NaN  \n",
       "1   951.0  22615.0  25.0  231.0  142236.0  513482.0  \n",
       "2    55.0   2359.0   0.0   20.0   12982.0   45182.0  \n",
       "3  1006.0  24974.0  25.0  251.0  155218.0  558664.0  \n",
       "4     NaN      NaN   NaN    NaN       NaN       NaN  "
      ]
     },
     "execution_count": 17,
     "metadata": {},
     "output_type": "execute_result"
    }
   ],
   "source": [
    "boe_df.head()"
   ]
  },
  {
   "cell_type": "markdown",
   "metadata": {},
   "source": [
    "Drop all the rows that are all NaN"
   ]
  },
  {
   "cell_type": "code",
   "execution_count": 18,
   "metadata": {
    "ExecuteTime": {
     "end_time": "2021-01-08T18:37:00.129135Z",
     "start_time": "2021-01-08T18:37:00.121919Z"
    }
   },
   "outputs": [],
   "source": [
    "boe_df.dropna(how='all', inplace=True)"
   ]
  },
  {
   "cell_type": "code",
   "execution_count": 19,
   "metadata": {
    "ExecuteTime": {
     "end_time": "2021-01-08T18:37:00.172502Z",
     "start_time": "2021-01-08T18:37:00.131354Z"
    }
   },
   "outputs": [
    {
     "data": {
      "text/html": [
       "<div>\n",
       "<style scoped>\n",
       "    .dataframe tbody tr th:only-of-type {\n",
       "        vertical-align: middle;\n",
       "    }\n",
       "\n",
       "    .dataframe tbody tr th {\n",
       "        vertical-align: top;\n",
       "    }\n",
       "\n",
       "    .dataframe thead th {\n",
       "        text-align: right;\n",
       "    }\n",
       "</style>\n",
       "<table border=\"1\" class=\"dataframe\">\n",
       "  <thead>\n",
       "    <tr style=\"text-align: right;\">\n",
       "      <th></th>\n",
       "      <th>DISTRICT</th>\n",
       "      <th>COUNTY</th>\n",
       "      <th>STATUS</th>\n",
       "      <th>DEM</th>\n",
       "      <th>REP</th>\n",
       "      <th>CON</th>\n",
       "      <th>WOR</th>\n",
       "      <th>GRE</th>\n",
       "      <th>LBT</th>\n",
       "      <th>IND</th>\n",
       "      <th>SAM</th>\n",
       "      <th>OTH</th>\n",
       "      <th>BLANK</th>\n",
       "      <th>TOTAL</th>\n",
       "    </tr>\n",
       "  </thead>\n",
       "  <tbody>\n",
       "    <tr>\n",
       "      <th>1</th>\n",
       "      <td>1.0</td>\n",
       "      <td>Suffolk</td>\n",
       "      <td>Active</td>\n",
       "      <td>165334.0</td>\n",
       "      <td>167547.0</td>\n",
       "      <td>11593.0</td>\n",
       "      <td>1915.0</td>\n",
       "      <td>1035.0</td>\n",
       "      <td>951.0</td>\n",
       "      <td>22615.0</td>\n",
       "      <td>25.0</td>\n",
       "      <td>231.0</td>\n",
       "      <td>142236.0</td>\n",
       "      <td>513482.0</td>\n",
       "    </tr>\n",
       "    <tr>\n",
       "      <th>2</th>\n",
       "      <td>1.0</td>\n",
       "      <td>Suffolk</td>\n",
       "      <td>Inactive</td>\n",
       "      <td>14768.0</td>\n",
       "      <td>13653.0</td>\n",
       "      <td>1002.0</td>\n",
       "      <td>211.0</td>\n",
       "      <td>132.0</td>\n",
       "      <td>55.0</td>\n",
       "      <td>2359.0</td>\n",
       "      <td>0.0</td>\n",
       "      <td>20.0</td>\n",
       "      <td>12982.0</td>\n",
       "      <td>45182.0</td>\n",
       "    </tr>\n",
       "    <tr>\n",
       "      <th>3</th>\n",
       "      <td>1.0</td>\n",
       "      <td>Suffolk</td>\n",
       "      <td>Total</td>\n",
       "      <td>180102.0</td>\n",
       "      <td>181200.0</td>\n",
       "      <td>12595.0</td>\n",
       "      <td>2126.0</td>\n",
       "      <td>1167.0</td>\n",
       "      <td>1006.0</td>\n",
       "      <td>24974.0</td>\n",
       "      <td>25.0</td>\n",
       "      <td>251.0</td>\n",
       "      <td>155218.0</td>\n",
       "      <td>558664.0</td>\n",
       "    </tr>\n",
       "    <tr>\n",
       "      <th>5</th>\n",
       "      <td>1.0</td>\n",
       "      <td>District Total</td>\n",
       "      <td>Active</td>\n",
       "      <td>165334.0</td>\n",
       "      <td>167547.0</td>\n",
       "      <td>11593.0</td>\n",
       "      <td>1915.0</td>\n",
       "      <td>1035.0</td>\n",
       "      <td>951.0</td>\n",
       "      <td>22615.0</td>\n",
       "      <td>25.0</td>\n",
       "      <td>231.0</td>\n",
       "      <td>142236.0</td>\n",
       "      <td>513482.0</td>\n",
       "    </tr>\n",
       "    <tr>\n",
       "      <th>6</th>\n",
       "      <td>1.0</td>\n",
       "      <td>District Total</td>\n",
       "      <td>InActive</td>\n",
       "      <td>14768.0</td>\n",
       "      <td>13653.0</td>\n",
       "      <td>1002.0</td>\n",
       "      <td>211.0</td>\n",
       "      <td>132.0</td>\n",
       "      <td>55.0</td>\n",
       "      <td>2359.0</td>\n",
       "      <td>0.0</td>\n",
       "      <td>20.0</td>\n",
       "      <td>12982.0</td>\n",
       "      <td>45182.0</td>\n",
       "    </tr>\n",
       "  </tbody>\n",
       "</table>\n",
       "</div>"
      ],
      "text/plain": [
       "   DISTRICT          COUNTY    STATUS       DEM       REP      CON     WOR  \\\n",
       "1       1.0        Suffolk     Active  165334.0  167547.0  11593.0  1915.0   \n",
       "2       1.0        Suffolk   Inactive   14768.0   13653.0   1002.0   211.0   \n",
       "3       1.0        Suffolk      Total  180102.0  181200.0  12595.0  2126.0   \n",
       "5       1.0  District Total    Active  165334.0  167547.0  11593.0  1915.0   \n",
       "6       1.0  District Total  InActive   14768.0   13653.0   1002.0   211.0   \n",
       "\n",
       "      GRE     LBT      IND   SAM    OTH     BLANK     TOTAL  \n",
       "1  1035.0   951.0  22615.0  25.0  231.0  142236.0  513482.0  \n",
       "2   132.0    55.0   2359.0   0.0   20.0   12982.0   45182.0  \n",
       "3  1167.0  1006.0  24974.0  25.0  251.0  155218.0  558664.0  \n",
       "5  1035.0   951.0  22615.0  25.0  231.0  142236.0  513482.0  \n",
       "6   132.0    55.0   2359.0   0.0   20.0   12982.0   45182.0  "
      ]
     },
     "execution_count": 19,
     "metadata": {},
     "output_type": "execute_result"
    }
   ],
   "source": [
    "boe_df.head()"
   ]
  },
  {
   "cell_type": "code",
   "execution_count": 20,
   "metadata": {
    "ExecuteTime": {
     "end_time": "2021-01-08T18:37:00.178574Z",
     "start_time": "2021-01-08T18:37:00.174670Z"
    }
   },
   "outputs": [],
   "source": [
    "# Counties in NY 23 Congressional District\n",
    "counties_23 = ['Chautauqua', 'Cattaraugus', 'Allegany', 'Steuben', 'Ontario', \n",
    "               'Yates', 'Seneca', 'Schuyler', 'Tompkins', 'Chemung', 'Tioga']\n",
    "\n",
    "# NOTE that Ontario and Tioga Counties are only partially in the 23rd\n",
    "# Ontario is also in the 27th District\n",
    "# Tioga is also in the 22nd District"
   ]
  },
  {
   "cell_type": "markdown",
   "metadata": {},
   "source": [
    "The values in the COUNTY column have trailing spaces and they need to be removed to work with the data more easily"
   ]
  },
  {
   "cell_type": "code",
   "execution_count": 21,
   "metadata": {
    "ExecuteTime": {
     "end_time": "2021-01-08T18:37:00.188081Z",
     "start_time": "2021-01-08T18:37:00.180679Z"
    }
   },
   "outputs": [],
   "source": [
    "boe_df['COUNTY'] = boe_df['COUNTY'].str.strip()"
   ]
  },
  {
   "cell_type": "code",
   "execution_count": 22,
   "metadata": {
    "ExecuteTime": {
     "end_time": "2021-01-08T18:37:00.195165Z",
     "start_time": "2021-01-08T18:37:00.190385Z"
    }
   },
   "outputs": [],
   "source": [
    "boe_23_df = boe_df[boe_df['DISTRICT'] == 23.0]"
   ]
  },
  {
   "cell_type": "code",
   "execution_count": 23,
   "metadata": {
    "ExecuteTime": {
     "end_time": "2021-01-08T18:37:00.259122Z",
     "start_time": "2021-01-08T18:37:00.202770Z"
    },
    "scrolled": true
   },
   "outputs": [
    {
     "data": {
      "text/html": [
       "<div>\n",
       "<style scoped>\n",
       "    .dataframe tbody tr th:only-of-type {\n",
       "        vertical-align: middle;\n",
       "    }\n",
       "\n",
       "    .dataframe tbody tr th {\n",
       "        vertical-align: top;\n",
       "    }\n",
       "\n",
       "    .dataframe thead th {\n",
       "        text-align: right;\n",
       "    }\n",
       "</style>\n",
       "<table border=\"1\" class=\"dataframe\">\n",
       "  <thead>\n",
       "    <tr style=\"text-align: right;\">\n",
       "      <th></th>\n",
       "      <th>DISTRICT</th>\n",
       "      <th>COUNTY</th>\n",
       "      <th>STATUS</th>\n",
       "      <th>DEM</th>\n",
       "      <th>REP</th>\n",
       "      <th>CON</th>\n",
       "      <th>WOR</th>\n",
       "      <th>GRE</th>\n",
       "      <th>LBT</th>\n",
       "      <th>IND</th>\n",
       "      <th>SAM</th>\n",
       "      <th>OTH</th>\n",
       "      <th>BLANK</th>\n",
       "      <th>TOTAL</th>\n",
       "    </tr>\n",
       "  </thead>\n",
       "  <tbody>\n",
       "    <tr>\n",
       "      <th>377</th>\n",
       "      <td>23.0</td>\n",
       "      <td>Allegany</td>\n",
       "      <td>Active</td>\n",
       "      <td>5681.0</td>\n",
       "      <td>13238.0</td>\n",
       "      <td>448.0</td>\n",
       "      <td>127.0</td>\n",
       "      <td>88.0</td>\n",
       "      <td>72.0</td>\n",
       "      <td>1243.0</td>\n",
       "      <td>1.0</td>\n",
       "      <td>11.0</td>\n",
       "      <td>5288.0</td>\n",
       "      <td>26197.0</td>\n",
       "    </tr>\n",
       "    <tr>\n",
       "      <th>378</th>\n",
       "      <td>23.0</td>\n",
       "      <td>Allegany</td>\n",
       "      <td>Inactive</td>\n",
       "      <td>333.0</td>\n",
       "      <td>517.0</td>\n",
       "      <td>24.0</td>\n",
       "      <td>8.0</td>\n",
       "      <td>8.0</td>\n",
       "      <td>6.0</td>\n",
       "      <td>76.0</td>\n",
       "      <td>0.0</td>\n",
       "      <td>3.0</td>\n",
       "      <td>391.0</td>\n",
       "      <td>1366.0</td>\n",
       "    </tr>\n",
       "    <tr>\n",
       "      <th>379</th>\n",
       "      <td>23.0</td>\n",
       "      <td>Allegany</td>\n",
       "      <td>Total</td>\n",
       "      <td>6014.0</td>\n",
       "      <td>13755.0</td>\n",
       "      <td>472.0</td>\n",
       "      <td>135.0</td>\n",
       "      <td>96.0</td>\n",
       "      <td>78.0</td>\n",
       "      <td>1319.0</td>\n",
       "      <td>1.0</td>\n",
       "      <td>14.0</td>\n",
       "      <td>5679.0</td>\n",
       "      <td>27563.0</td>\n",
       "    </tr>\n",
       "    <tr>\n",
       "      <th>381</th>\n",
       "      <td>23.0</td>\n",
       "      <td>Cattaraugus</td>\n",
       "      <td>Active</td>\n",
       "      <td>13799.0</td>\n",
       "      <td>18915.0</td>\n",
       "      <td>1119.0</td>\n",
       "      <td>224.0</td>\n",
       "      <td>122.0</td>\n",
       "      <td>134.0</td>\n",
       "      <td>2327.0</td>\n",
       "      <td>3.0</td>\n",
       "      <td>26.0</td>\n",
       "      <td>10067.0</td>\n",
       "      <td>46736.0</td>\n",
       "    </tr>\n",
       "    <tr>\n",
       "      <th>382</th>\n",
       "      <td>23.0</td>\n",
       "      <td>Cattaraugus</td>\n",
       "      <td>Inactive</td>\n",
       "      <td>835.0</td>\n",
       "      <td>990.0</td>\n",
       "      <td>68.0</td>\n",
       "      <td>25.0</td>\n",
       "      <td>14.0</td>\n",
       "      <td>5.0</td>\n",
       "      <td>143.0</td>\n",
       "      <td>0.0</td>\n",
       "      <td>6.0</td>\n",
       "      <td>840.0</td>\n",
       "      <td>2926.0</td>\n",
       "    </tr>\n",
       "    <tr>\n",
       "      <th>383</th>\n",
       "      <td>23.0</td>\n",
       "      <td>Cattaraugus</td>\n",
       "      <td>Total</td>\n",
       "      <td>14634.0</td>\n",
       "      <td>19905.0</td>\n",
       "      <td>1187.0</td>\n",
       "      <td>249.0</td>\n",
       "      <td>136.0</td>\n",
       "      <td>139.0</td>\n",
       "      <td>2470.0</td>\n",
       "      <td>3.0</td>\n",
       "      <td>32.0</td>\n",
       "      <td>10907.0</td>\n",
       "      <td>49662.0</td>\n",
       "    </tr>\n",
       "    <tr>\n",
       "      <th>385</th>\n",
       "      <td>23.0</td>\n",
       "      <td>Chautauqua</td>\n",
       "      <td>Active</td>\n",
       "      <td>25038.0</td>\n",
       "      <td>27595.0</td>\n",
       "      <td>1964.0</td>\n",
       "      <td>441.0</td>\n",
       "      <td>162.0</td>\n",
       "      <td>251.0</td>\n",
       "      <td>4614.0</td>\n",
       "      <td>1.0</td>\n",
       "      <td>63.0</td>\n",
       "      <td>19663.0</td>\n",
       "      <td>79792.0</td>\n",
       "    </tr>\n",
       "    <tr>\n",
       "      <th>386</th>\n",
       "      <td>23.0</td>\n",
       "      <td>Chautauqua</td>\n",
       "      <td>Inactive</td>\n",
       "      <td>1652.0</td>\n",
       "      <td>1430.0</td>\n",
       "      <td>109.0</td>\n",
       "      <td>33.0</td>\n",
       "      <td>25.0</td>\n",
       "      <td>21.0</td>\n",
       "      <td>333.0</td>\n",
       "      <td>0.0</td>\n",
       "      <td>8.0</td>\n",
       "      <td>1596.0</td>\n",
       "      <td>5207.0</td>\n",
       "    </tr>\n",
       "    <tr>\n",
       "      <th>387</th>\n",
       "      <td>23.0</td>\n",
       "      <td>Chautauqua</td>\n",
       "      <td>Total</td>\n",
       "      <td>26690.0</td>\n",
       "      <td>29025.0</td>\n",
       "      <td>2073.0</td>\n",
       "      <td>474.0</td>\n",
       "      <td>187.0</td>\n",
       "      <td>272.0</td>\n",
       "      <td>4947.0</td>\n",
       "      <td>1.0</td>\n",
       "      <td>71.0</td>\n",
       "      <td>21259.0</td>\n",
       "      <td>84999.0</td>\n",
       "    </tr>\n",
       "    <tr>\n",
       "      <th>389</th>\n",
       "      <td>23.0</td>\n",
       "      <td>Chemung</td>\n",
       "      <td>Active</td>\n",
       "      <td>15523.0</td>\n",
       "      <td>21207.0</td>\n",
       "      <td>832.0</td>\n",
       "      <td>232.0</td>\n",
       "      <td>118.0</td>\n",
       "      <td>203.0</td>\n",
       "      <td>2996.0</td>\n",
       "      <td>2.0</td>\n",
       "      <td>32.0</td>\n",
       "      <td>11276.0</td>\n",
       "      <td>52421.0</td>\n",
       "    </tr>\n",
       "    <tr>\n",
       "      <th>390</th>\n",
       "      <td>23.0</td>\n",
       "      <td>Chemung</td>\n",
       "      <td>Inactive</td>\n",
       "      <td>1318.0</td>\n",
       "      <td>1227.0</td>\n",
       "      <td>44.0</td>\n",
       "      <td>25.0</td>\n",
       "      <td>15.0</td>\n",
       "      <td>2.0</td>\n",
       "      <td>264.0</td>\n",
       "      <td>1.0</td>\n",
       "      <td>6.0</td>\n",
       "      <td>942.0</td>\n",
       "      <td>3844.0</td>\n",
       "    </tr>\n",
       "    <tr>\n",
       "      <th>391</th>\n",
       "      <td>23.0</td>\n",
       "      <td>Chemung</td>\n",
       "      <td>Total</td>\n",
       "      <td>16841.0</td>\n",
       "      <td>22434.0</td>\n",
       "      <td>876.0</td>\n",
       "      <td>257.0</td>\n",
       "      <td>133.0</td>\n",
       "      <td>205.0</td>\n",
       "      <td>3260.0</td>\n",
       "      <td>3.0</td>\n",
       "      <td>38.0</td>\n",
       "      <td>12218.0</td>\n",
       "      <td>56265.0</td>\n",
       "    </tr>\n",
       "    <tr>\n",
       "      <th>393</th>\n",
       "      <td>23.0</td>\n",
       "      <td>Ontario</td>\n",
       "      <td>Active</td>\n",
       "      <td>8780.0</td>\n",
       "      <td>9617.0</td>\n",
       "      <td>548.0</td>\n",
       "      <td>102.0</td>\n",
       "      <td>91.0</td>\n",
       "      <td>101.0</td>\n",
       "      <td>1378.0</td>\n",
       "      <td>0.0</td>\n",
       "      <td>24.0</td>\n",
       "      <td>6973.0</td>\n",
       "      <td>27614.0</td>\n",
       "    </tr>\n",
       "    <tr>\n",
       "      <th>394</th>\n",
       "      <td>23.0</td>\n",
       "      <td>Ontario</td>\n",
       "      <td>Inactive</td>\n",
       "      <td>545.0</td>\n",
       "      <td>401.0</td>\n",
       "      <td>17.0</td>\n",
       "      <td>3.0</td>\n",
       "      <td>6.0</td>\n",
       "      <td>0.0</td>\n",
       "      <td>42.0</td>\n",
       "      <td>0.0</td>\n",
       "      <td>2.0</td>\n",
       "      <td>273.0</td>\n",
       "      <td>1289.0</td>\n",
       "    </tr>\n",
       "    <tr>\n",
       "      <th>395</th>\n",
       "      <td>23.0</td>\n",
       "      <td>Ontario</td>\n",
       "      <td>Total</td>\n",
       "      <td>9325.0</td>\n",
       "      <td>10018.0</td>\n",
       "      <td>565.0</td>\n",
       "      <td>105.0</td>\n",
       "      <td>97.0</td>\n",
       "      <td>101.0</td>\n",
       "      <td>1420.0</td>\n",
       "      <td>0.0</td>\n",
       "      <td>26.0</td>\n",
       "      <td>7246.0</td>\n",
       "      <td>28903.0</td>\n",
       "    </tr>\n",
       "    <tr>\n",
       "      <th>397</th>\n",
       "      <td>23.0</td>\n",
       "      <td>Schuyler</td>\n",
       "      <td>Active</td>\n",
       "      <td>3502.0</td>\n",
       "      <td>5038.0</td>\n",
       "      <td>245.0</td>\n",
       "      <td>59.0</td>\n",
       "      <td>59.0</td>\n",
       "      <td>44.0</td>\n",
       "      <td>715.0</td>\n",
       "      <td>3.0</td>\n",
       "      <td>4.0</td>\n",
       "      <td>2828.0</td>\n",
       "      <td>12497.0</td>\n",
       "    </tr>\n",
       "    <tr>\n",
       "      <th>398</th>\n",
       "      <td>23.0</td>\n",
       "      <td>Schuyler</td>\n",
       "      <td>Inactive</td>\n",
       "      <td>163.0</td>\n",
       "      <td>252.0</td>\n",
       "      <td>14.0</td>\n",
       "      <td>6.0</td>\n",
       "      <td>5.0</td>\n",
       "      <td>1.0</td>\n",
       "      <td>53.0</td>\n",
       "      <td>0.0</td>\n",
       "      <td>1.0</td>\n",
       "      <td>208.0</td>\n",
       "      <td>703.0</td>\n",
       "    </tr>\n",
       "    <tr>\n",
       "      <th>399</th>\n",
       "      <td>23.0</td>\n",
       "      <td>Schuyler</td>\n",
       "      <td>Total</td>\n",
       "      <td>3665.0</td>\n",
       "      <td>5290.0</td>\n",
       "      <td>259.0</td>\n",
       "      <td>65.0</td>\n",
       "      <td>64.0</td>\n",
       "      <td>45.0</td>\n",
       "      <td>768.0</td>\n",
       "      <td>3.0</td>\n",
       "      <td>5.0</td>\n",
       "      <td>3036.0</td>\n",
       "      <td>13200.0</td>\n",
       "    </tr>\n",
       "    <tr>\n",
       "      <th>401</th>\n",
       "      <td>23.0</td>\n",
       "      <td>Seneca</td>\n",
       "      <td>Active</td>\n",
       "      <td>6237.0</td>\n",
       "      <td>7882.0</td>\n",
       "      <td>441.0</td>\n",
       "      <td>107.0</td>\n",
       "      <td>75.0</td>\n",
       "      <td>72.0</td>\n",
       "      <td>1053.0</td>\n",
       "      <td>1.0</td>\n",
       "      <td>14.0</td>\n",
       "      <td>4514.0</td>\n",
       "      <td>20396.0</td>\n",
       "    </tr>\n",
       "    <tr>\n",
       "      <th>402</th>\n",
       "      <td>23.0</td>\n",
       "      <td>Seneca</td>\n",
       "      <td>Inactive</td>\n",
       "      <td>448.0</td>\n",
       "      <td>469.0</td>\n",
       "      <td>41.0</td>\n",
       "      <td>15.0</td>\n",
       "      <td>5.0</td>\n",
       "      <td>1.0</td>\n",
       "      <td>112.0</td>\n",
       "      <td>0.0</td>\n",
       "      <td>2.0</td>\n",
       "      <td>492.0</td>\n",
       "      <td>1585.0</td>\n",
       "    </tr>\n",
       "    <tr>\n",
       "      <th>403</th>\n",
       "      <td>23.0</td>\n",
       "      <td>Seneca</td>\n",
       "      <td>Total</td>\n",
       "      <td>6685.0</td>\n",
       "      <td>8351.0</td>\n",
       "      <td>482.0</td>\n",
       "      <td>122.0</td>\n",
       "      <td>80.0</td>\n",
       "      <td>73.0</td>\n",
       "      <td>1165.0</td>\n",
       "      <td>1.0</td>\n",
       "      <td>16.0</td>\n",
       "      <td>5006.0</td>\n",
       "      <td>21981.0</td>\n",
       "    </tr>\n",
       "    <tr>\n",
       "      <th>405</th>\n",
       "      <td>23.0</td>\n",
       "      <td>Steuben</td>\n",
       "      <td>Active</td>\n",
       "      <td>14376.0</td>\n",
       "      <td>29535.0</td>\n",
       "      <td>996.0</td>\n",
       "      <td>216.0</td>\n",
       "      <td>173.0</td>\n",
       "      <td>182.0</td>\n",
       "      <td>2921.0</td>\n",
       "      <td>1.0</td>\n",
       "      <td>39.0</td>\n",
       "      <td>11663.0</td>\n",
       "      <td>60102.0</td>\n",
       "    </tr>\n",
       "    <tr>\n",
       "      <th>406</th>\n",
       "      <td>23.0</td>\n",
       "      <td>Steuben</td>\n",
       "      <td>Inactive</td>\n",
       "      <td>1064.0</td>\n",
       "      <td>1439.0</td>\n",
       "      <td>62.0</td>\n",
       "      <td>25.0</td>\n",
       "      <td>22.0</td>\n",
       "      <td>10.0</td>\n",
       "      <td>240.0</td>\n",
       "      <td>0.0</td>\n",
       "      <td>5.0</td>\n",
       "      <td>1001.0</td>\n",
       "      <td>3868.0</td>\n",
       "    </tr>\n",
       "    <tr>\n",
       "      <th>407</th>\n",
       "      <td>23.0</td>\n",
       "      <td>Steuben</td>\n",
       "      <td>Total</td>\n",
       "      <td>15440.0</td>\n",
       "      <td>30974.0</td>\n",
       "      <td>1058.0</td>\n",
       "      <td>241.0</td>\n",
       "      <td>195.0</td>\n",
       "      <td>192.0</td>\n",
       "      <td>3161.0</td>\n",
       "      <td>1.0</td>\n",
       "      <td>44.0</td>\n",
       "      <td>12664.0</td>\n",
       "      <td>63970.0</td>\n",
       "    </tr>\n",
       "    <tr>\n",
       "      <th>409</th>\n",
       "      <td>23.0</td>\n",
       "      <td>Tioga</td>\n",
       "      <td>Active</td>\n",
       "      <td>6416.0</td>\n",
       "      <td>10850.0</td>\n",
       "      <td>367.0</td>\n",
       "      <td>82.0</td>\n",
       "      <td>73.0</td>\n",
       "      <td>116.0</td>\n",
       "      <td>1329.0</td>\n",
       "      <td>0.0</td>\n",
       "      <td>6.0</td>\n",
       "      <td>5397.0</td>\n",
       "      <td>24636.0</td>\n",
       "    </tr>\n",
       "    <tr>\n",
       "      <th>410</th>\n",
       "      <td>23.0</td>\n",
       "      <td>Tioga</td>\n",
       "      <td>Inactive</td>\n",
       "      <td>708.0</td>\n",
       "      <td>959.0</td>\n",
       "      <td>47.0</td>\n",
       "      <td>18.0</td>\n",
       "      <td>12.0</td>\n",
       "      <td>3.0</td>\n",
       "      <td>176.0</td>\n",
       "      <td>0.0</td>\n",
       "      <td>1.0</td>\n",
       "      <td>769.0</td>\n",
       "      <td>2693.0</td>\n",
       "    </tr>\n",
       "    <tr>\n",
       "      <th>411</th>\n",
       "      <td>23.0</td>\n",
       "      <td>Tioga</td>\n",
       "      <td>Total</td>\n",
       "      <td>7124.0</td>\n",
       "      <td>11809.0</td>\n",
       "      <td>414.0</td>\n",
       "      <td>100.0</td>\n",
       "      <td>85.0</td>\n",
       "      <td>119.0</td>\n",
       "      <td>1505.0</td>\n",
       "      <td>0.0</td>\n",
       "      <td>7.0</td>\n",
       "      <td>6166.0</td>\n",
       "      <td>27329.0</td>\n",
       "    </tr>\n",
       "    <tr>\n",
       "      <th>413</th>\n",
       "      <td>23.0</td>\n",
       "      <td>Tompkins</td>\n",
       "      <td>Active</td>\n",
       "      <td>32194.0</td>\n",
       "      <td>11087.0</td>\n",
       "      <td>392.0</td>\n",
       "      <td>194.0</td>\n",
       "      <td>319.0</td>\n",
       "      <td>152.0</td>\n",
       "      <td>2134.0</td>\n",
       "      <td>6.0</td>\n",
       "      <td>25.0</td>\n",
       "      <td>12133.0</td>\n",
       "      <td>58636.0</td>\n",
       "    </tr>\n",
       "    <tr>\n",
       "      <th>414</th>\n",
       "      <td>23.0</td>\n",
       "      <td>Tompkins</td>\n",
       "      <td>Inactive</td>\n",
       "      <td>3431.0</td>\n",
       "      <td>886.0</td>\n",
       "      <td>26.0</td>\n",
       "      <td>24.0</td>\n",
       "      <td>63.0</td>\n",
       "      <td>12.0</td>\n",
       "      <td>231.0</td>\n",
       "      <td>0.0</td>\n",
       "      <td>9.0</td>\n",
       "      <td>1570.0</td>\n",
       "      <td>6252.0</td>\n",
       "    </tr>\n",
       "    <tr>\n",
       "      <th>415</th>\n",
       "      <td>23.0</td>\n",
       "      <td>Tompkins</td>\n",
       "      <td>Total</td>\n",
       "      <td>35625.0</td>\n",
       "      <td>11973.0</td>\n",
       "      <td>418.0</td>\n",
       "      <td>218.0</td>\n",
       "      <td>382.0</td>\n",
       "      <td>164.0</td>\n",
       "      <td>2365.0</td>\n",
       "      <td>6.0</td>\n",
       "      <td>34.0</td>\n",
       "      <td>13703.0</td>\n",
       "      <td>64888.0</td>\n",
       "    </tr>\n",
       "    <tr>\n",
       "      <th>417</th>\n",
       "      <td>23.0</td>\n",
       "      <td>Yates</td>\n",
       "      <td>Active</td>\n",
       "      <td>3307.0</td>\n",
       "      <td>6463.0</td>\n",
       "      <td>235.0</td>\n",
       "      <td>52.0</td>\n",
       "      <td>46.0</td>\n",
       "      <td>44.0</td>\n",
       "      <td>682.0</td>\n",
       "      <td>0.0</td>\n",
       "      <td>28.0</td>\n",
       "      <td>2899.0</td>\n",
       "      <td>13756.0</td>\n",
       "    </tr>\n",
       "    <tr>\n",
       "      <th>418</th>\n",
       "      <td>23.0</td>\n",
       "      <td>Yates</td>\n",
       "      <td>Inactive</td>\n",
       "      <td>218.0</td>\n",
       "      <td>292.0</td>\n",
       "      <td>17.0</td>\n",
       "      <td>2.0</td>\n",
       "      <td>6.0</td>\n",
       "      <td>4.0</td>\n",
       "      <td>42.0</td>\n",
       "      <td>0.0</td>\n",
       "      <td>4.0</td>\n",
       "      <td>222.0</td>\n",
       "      <td>807.0</td>\n",
       "    </tr>\n",
       "    <tr>\n",
       "      <th>419</th>\n",
       "      <td>23.0</td>\n",
       "      <td>Yates</td>\n",
       "      <td>Total</td>\n",
       "      <td>3525.0</td>\n",
       "      <td>6755.0</td>\n",
       "      <td>252.0</td>\n",
       "      <td>54.0</td>\n",
       "      <td>52.0</td>\n",
       "      <td>48.0</td>\n",
       "      <td>724.0</td>\n",
       "      <td>0.0</td>\n",
       "      <td>32.0</td>\n",
       "      <td>3121.0</td>\n",
       "      <td>14563.0</td>\n",
       "    </tr>\n",
       "    <tr>\n",
       "      <th>421</th>\n",
       "      <td>23.0</td>\n",
       "      <td>District Total</td>\n",
       "      <td>Active</td>\n",
       "      <td>134853.0</td>\n",
       "      <td>161427.0</td>\n",
       "      <td>7587.0</td>\n",
       "      <td>1836.0</td>\n",
       "      <td>1326.0</td>\n",
       "      <td>1371.0</td>\n",
       "      <td>21392.0</td>\n",
       "      <td>18.0</td>\n",
       "      <td>272.0</td>\n",
       "      <td>92701.0</td>\n",
       "      <td>422783.0</td>\n",
       "    </tr>\n",
       "    <tr>\n",
       "      <th>422</th>\n",
       "      <td>23.0</td>\n",
       "      <td>District Total</td>\n",
       "      <td>InActive</td>\n",
       "      <td>10715.0</td>\n",
       "      <td>8862.0</td>\n",
       "      <td>469.0</td>\n",
       "      <td>184.0</td>\n",
       "      <td>181.0</td>\n",
       "      <td>65.0</td>\n",
       "      <td>1712.0</td>\n",
       "      <td>1.0</td>\n",
       "      <td>47.0</td>\n",
       "      <td>8304.0</td>\n",
       "      <td>30540.0</td>\n",
       "    </tr>\n",
       "    <tr>\n",
       "      <th>423</th>\n",
       "      <td>23.0</td>\n",
       "      <td>District Total</td>\n",
       "      <td>Total</td>\n",
       "      <td>145568.0</td>\n",
       "      <td>170289.0</td>\n",
       "      <td>8056.0</td>\n",
       "      <td>2020.0</td>\n",
       "      <td>1507.0</td>\n",
       "      <td>1436.0</td>\n",
       "      <td>23104.0</td>\n",
       "      <td>19.0</td>\n",
       "      <td>319.0</td>\n",
       "      <td>101005.0</td>\n",
       "      <td>453323.0</td>\n",
       "    </tr>\n",
       "  </tbody>\n",
       "</table>\n",
       "</div>"
      ],
      "text/plain": [
       "     DISTRICT          COUNTY    STATUS       DEM       REP     CON     WOR  \\\n",
       "377      23.0        Allegany    Active    5681.0   13238.0   448.0   127.0   \n",
       "378      23.0        Allegany  Inactive     333.0     517.0    24.0     8.0   \n",
       "379      23.0        Allegany     Total    6014.0   13755.0   472.0   135.0   \n",
       "381      23.0     Cattaraugus    Active   13799.0   18915.0  1119.0   224.0   \n",
       "382      23.0     Cattaraugus  Inactive     835.0     990.0    68.0    25.0   \n",
       "383      23.0     Cattaraugus     Total   14634.0   19905.0  1187.0   249.0   \n",
       "385      23.0      Chautauqua    Active   25038.0   27595.0  1964.0   441.0   \n",
       "386      23.0      Chautauqua  Inactive    1652.0    1430.0   109.0    33.0   \n",
       "387      23.0      Chautauqua     Total   26690.0   29025.0  2073.0   474.0   \n",
       "389      23.0         Chemung    Active   15523.0   21207.0   832.0   232.0   \n",
       "390      23.0         Chemung  Inactive    1318.0    1227.0    44.0    25.0   \n",
       "391      23.0         Chemung     Total   16841.0   22434.0   876.0   257.0   \n",
       "393      23.0         Ontario    Active    8780.0    9617.0   548.0   102.0   \n",
       "394      23.0         Ontario  Inactive     545.0     401.0    17.0     3.0   \n",
       "395      23.0         Ontario     Total    9325.0   10018.0   565.0   105.0   \n",
       "397      23.0        Schuyler    Active    3502.0    5038.0   245.0    59.0   \n",
       "398      23.0        Schuyler  Inactive     163.0     252.0    14.0     6.0   \n",
       "399      23.0        Schuyler     Total    3665.0    5290.0   259.0    65.0   \n",
       "401      23.0          Seneca    Active    6237.0    7882.0   441.0   107.0   \n",
       "402      23.0          Seneca  Inactive     448.0     469.0    41.0    15.0   \n",
       "403      23.0          Seneca     Total    6685.0    8351.0   482.0   122.0   \n",
       "405      23.0         Steuben    Active   14376.0   29535.0   996.0   216.0   \n",
       "406      23.0         Steuben  Inactive    1064.0    1439.0    62.0    25.0   \n",
       "407      23.0         Steuben     Total   15440.0   30974.0  1058.0   241.0   \n",
       "409      23.0           Tioga    Active    6416.0   10850.0   367.0    82.0   \n",
       "410      23.0           Tioga  Inactive     708.0     959.0    47.0    18.0   \n",
       "411      23.0           Tioga     Total    7124.0   11809.0   414.0   100.0   \n",
       "413      23.0        Tompkins    Active   32194.0   11087.0   392.0   194.0   \n",
       "414      23.0        Tompkins  Inactive    3431.0     886.0    26.0    24.0   \n",
       "415      23.0        Tompkins     Total   35625.0   11973.0   418.0   218.0   \n",
       "417      23.0           Yates    Active    3307.0    6463.0   235.0    52.0   \n",
       "418      23.0           Yates  Inactive     218.0     292.0    17.0     2.0   \n",
       "419      23.0           Yates     Total    3525.0    6755.0   252.0    54.0   \n",
       "421      23.0  District Total    Active  134853.0  161427.0  7587.0  1836.0   \n",
       "422      23.0  District Total  InActive   10715.0    8862.0   469.0   184.0   \n",
       "423      23.0  District Total     Total  145568.0  170289.0  8056.0  2020.0   \n",
       "\n",
       "        GRE     LBT      IND   SAM    OTH     BLANK     TOTAL  \n",
       "377    88.0    72.0   1243.0   1.0   11.0    5288.0   26197.0  \n",
       "378     8.0     6.0     76.0   0.0    3.0     391.0    1366.0  \n",
       "379    96.0    78.0   1319.0   1.0   14.0    5679.0   27563.0  \n",
       "381   122.0   134.0   2327.0   3.0   26.0   10067.0   46736.0  \n",
       "382    14.0     5.0    143.0   0.0    6.0     840.0    2926.0  \n",
       "383   136.0   139.0   2470.0   3.0   32.0   10907.0   49662.0  \n",
       "385   162.0   251.0   4614.0   1.0   63.0   19663.0   79792.0  \n",
       "386    25.0    21.0    333.0   0.0    8.0    1596.0    5207.0  \n",
       "387   187.0   272.0   4947.0   1.0   71.0   21259.0   84999.0  \n",
       "389   118.0   203.0   2996.0   2.0   32.0   11276.0   52421.0  \n",
       "390    15.0     2.0    264.0   1.0    6.0     942.0    3844.0  \n",
       "391   133.0   205.0   3260.0   3.0   38.0   12218.0   56265.0  \n",
       "393    91.0   101.0   1378.0   0.0   24.0    6973.0   27614.0  \n",
       "394     6.0     0.0     42.0   0.0    2.0     273.0    1289.0  \n",
       "395    97.0   101.0   1420.0   0.0   26.0    7246.0   28903.0  \n",
       "397    59.0    44.0    715.0   3.0    4.0    2828.0   12497.0  \n",
       "398     5.0     1.0     53.0   0.0    1.0     208.0     703.0  \n",
       "399    64.0    45.0    768.0   3.0    5.0    3036.0   13200.0  \n",
       "401    75.0    72.0   1053.0   1.0   14.0    4514.0   20396.0  \n",
       "402     5.0     1.0    112.0   0.0    2.0     492.0    1585.0  \n",
       "403    80.0    73.0   1165.0   1.0   16.0    5006.0   21981.0  \n",
       "405   173.0   182.0   2921.0   1.0   39.0   11663.0   60102.0  \n",
       "406    22.0    10.0    240.0   0.0    5.0    1001.0    3868.0  \n",
       "407   195.0   192.0   3161.0   1.0   44.0   12664.0   63970.0  \n",
       "409    73.0   116.0   1329.0   0.0    6.0    5397.0   24636.0  \n",
       "410    12.0     3.0    176.0   0.0    1.0     769.0    2693.0  \n",
       "411    85.0   119.0   1505.0   0.0    7.0    6166.0   27329.0  \n",
       "413   319.0   152.0   2134.0   6.0   25.0   12133.0   58636.0  \n",
       "414    63.0    12.0    231.0   0.0    9.0    1570.0    6252.0  \n",
       "415   382.0   164.0   2365.0   6.0   34.0   13703.0   64888.0  \n",
       "417    46.0    44.0    682.0   0.0   28.0    2899.0   13756.0  \n",
       "418     6.0     4.0     42.0   0.0    4.0     222.0     807.0  \n",
       "419    52.0    48.0    724.0   0.0   32.0    3121.0   14563.0  \n",
       "421  1326.0  1371.0  21392.0  18.0  272.0   92701.0  422783.0  \n",
       "422   181.0    65.0   1712.0   1.0   47.0    8304.0   30540.0  \n",
       "423  1507.0  1436.0  23104.0  19.0  319.0  101005.0  453323.0  "
      ]
     },
     "execution_count": 23,
     "metadata": {},
     "output_type": "execute_result"
    }
   ],
   "source": [
    "boe_23_df"
   ]
  },
  {
   "cell_type": "markdown",
   "metadata": {},
   "source": [
    "Filter the data for Active voters"
   ]
  },
  {
   "cell_type": "code",
   "execution_count": 24,
   "metadata": {
    "ExecuteTime": {
     "end_time": "2021-01-08T18:37:00.268345Z",
     "start_time": "2021-01-08T18:37:00.263483Z"
    }
   },
   "outputs": [],
   "source": [
    "boe_23_active_df = boe_23_df[boe_23_df['STATUS'] == 'Active']"
   ]
  },
  {
   "cell_type": "code",
   "execution_count": 25,
   "metadata": {
    "ExecuteTime": {
     "end_time": "2021-01-08T18:37:00.301729Z",
     "start_time": "2021-01-08T18:37:00.270747Z"
    }
   },
   "outputs": [
    {
     "data": {
      "text/html": [
       "<div>\n",
       "<style scoped>\n",
       "    .dataframe tbody tr th:only-of-type {\n",
       "        vertical-align: middle;\n",
       "    }\n",
       "\n",
       "    .dataframe tbody tr th {\n",
       "        vertical-align: top;\n",
       "    }\n",
       "\n",
       "    .dataframe thead th {\n",
       "        text-align: right;\n",
       "    }\n",
       "</style>\n",
       "<table border=\"1\" class=\"dataframe\">\n",
       "  <thead>\n",
       "    <tr style=\"text-align: right;\">\n",
       "      <th></th>\n",
       "      <th>DISTRICT</th>\n",
       "      <th>COUNTY</th>\n",
       "      <th>STATUS</th>\n",
       "      <th>DEM</th>\n",
       "      <th>REP</th>\n",
       "      <th>CON</th>\n",
       "      <th>WOR</th>\n",
       "      <th>GRE</th>\n",
       "      <th>LBT</th>\n",
       "      <th>IND</th>\n",
       "      <th>SAM</th>\n",
       "      <th>OTH</th>\n",
       "      <th>BLANK</th>\n",
       "      <th>TOTAL</th>\n",
       "    </tr>\n",
       "  </thead>\n",
       "  <tbody>\n",
       "    <tr>\n",
       "      <th>377</th>\n",
       "      <td>23.0</td>\n",
       "      <td>Allegany</td>\n",
       "      <td>Active</td>\n",
       "      <td>5681.0</td>\n",
       "      <td>13238.0</td>\n",
       "      <td>448.0</td>\n",
       "      <td>127.0</td>\n",
       "      <td>88.0</td>\n",
       "      <td>72.0</td>\n",
       "      <td>1243.0</td>\n",
       "      <td>1.0</td>\n",
       "      <td>11.0</td>\n",
       "      <td>5288.0</td>\n",
       "      <td>26197.0</td>\n",
       "    </tr>\n",
       "    <tr>\n",
       "      <th>381</th>\n",
       "      <td>23.0</td>\n",
       "      <td>Cattaraugus</td>\n",
       "      <td>Active</td>\n",
       "      <td>13799.0</td>\n",
       "      <td>18915.0</td>\n",
       "      <td>1119.0</td>\n",
       "      <td>224.0</td>\n",
       "      <td>122.0</td>\n",
       "      <td>134.0</td>\n",
       "      <td>2327.0</td>\n",
       "      <td>3.0</td>\n",
       "      <td>26.0</td>\n",
       "      <td>10067.0</td>\n",
       "      <td>46736.0</td>\n",
       "    </tr>\n",
       "    <tr>\n",
       "      <th>385</th>\n",
       "      <td>23.0</td>\n",
       "      <td>Chautauqua</td>\n",
       "      <td>Active</td>\n",
       "      <td>25038.0</td>\n",
       "      <td>27595.0</td>\n",
       "      <td>1964.0</td>\n",
       "      <td>441.0</td>\n",
       "      <td>162.0</td>\n",
       "      <td>251.0</td>\n",
       "      <td>4614.0</td>\n",
       "      <td>1.0</td>\n",
       "      <td>63.0</td>\n",
       "      <td>19663.0</td>\n",
       "      <td>79792.0</td>\n",
       "    </tr>\n",
       "    <tr>\n",
       "      <th>389</th>\n",
       "      <td>23.0</td>\n",
       "      <td>Chemung</td>\n",
       "      <td>Active</td>\n",
       "      <td>15523.0</td>\n",
       "      <td>21207.0</td>\n",
       "      <td>832.0</td>\n",
       "      <td>232.0</td>\n",
       "      <td>118.0</td>\n",
       "      <td>203.0</td>\n",
       "      <td>2996.0</td>\n",
       "      <td>2.0</td>\n",
       "      <td>32.0</td>\n",
       "      <td>11276.0</td>\n",
       "      <td>52421.0</td>\n",
       "    </tr>\n",
       "    <tr>\n",
       "      <th>393</th>\n",
       "      <td>23.0</td>\n",
       "      <td>Ontario</td>\n",
       "      <td>Active</td>\n",
       "      <td>8780.0</td>\n",
       "      <td>9617.0</td>\n",
       "      <td>548.0</td>\n",
       "      <td>102.0</td>\n",
       "      <td>91.0</td>\n",
       "      <td>101.0</td>\n",
       "      <td>1378.0</td>\n",
       "      <td>0.0</td>\n",
       "      <td>24.0</td>\n",
       "      <td>6973.0</td>\n",
       "      <td>27614.0</td>\n",
       "    </tr>\n",
       "    <tr>\n",
       "      <th>397</th>\n",
       "      <td>23.0</td>\n",
       "      <td>Schuyler</td>\n",
       "      <td>Active</td>\n",
       "      <td>3502.0</td>\n",
       "      <td>5038.0</td>\n",
       "      <td>245.0</td>\n",
       "      <td>59.0</td>\n",
       "      <td>59.0</td>\n",
       "      <td>44.0</td>\n",
       "      <td>715.0</td>\n",
       "      <td>3.0</td>\n",
       "      <td>4.0</td>\n",
       "      <td>2828.0</td>\n",
       "      <td>12497.0</td>\n",
       "    </tr>\n",
       "    <tr>\n",
       "      <th>401</th>\n",
       "      <td>23.0</td>\n",
       "      <td>Seneca</td>\n",
       "      <td>Active</td>\n",
       "      <td>6237.0</td>\n",
       "      <td>7882.0</td>\n",
       "      <td>441.0</td>\n",
       "      <td>107.0</td>\n",
       "      <td>75.0</td>\n",
       "      <td>72.0</td>\n",
       "      <td>1053.0</td>\n",
       "      <td>1.0</td>\n",
       "      <td>14.0</td>\n",
       "      <td>4514.0</td>\n",
       "      <td>20396.0</td>\n",
       "    </tr>\n",
       "    <tr>\n",
       "      <th>405</th>\n",
       "      <td>23.0</td>\n",
       "      <td>Steuben</td>\n",
       "      <td>Active</td>\n",
       "      <td>14376.0</td>\n",
       "      <td>29535.0</td>\n",
       "      <td>996.0</td>\n",
       "      <td>216.0</td>\n",
       "      <td>173.0</td>\n",
       "      <td>182.0</td>\n",
       "      <td>2921.0</td>\n",
       "      <td>1.0</td>\n",
       "      <td>39.0</td>\n",
       "      <td>11663.0</td>\n",
       "      <td>60102.0</td>\n",
       "    </tr>\n",
       "    <tr>\n",
       "      <th>409</th>\n",
       "      <td>23.0</td>\n",
       "      <td>Tioga</td>\n",
       "      <td>Active</td>\n",
       "      <td>6416.0</td>\n",
       "      <td>10850.0</td>\n",
       "      <td>367.0</td>\n",
       "      <td>82.0</td>\n",
       "      <td>73.0</td>\n",
       "      <td>116.0</td>\n",
       "      <td>1329.0</td>\n",
       "      <td>0.0</td>\n",
       "      <td>6.0</td>\n",
       "      <td>5397.0</td>\n",
       "      <td>24636.0</td>\n",
       "    </tr>\n",
       "    <tr>\n",
       "      <th>413</th>\n",
       "      <td>23.0</td>\n",
       "      <td>Tompkins</td>\n",
       "      <td>Active</td>\n",
       "      <td>32194.0</td>\n",
       "      <td>11087.0</td>\n",
       "      <td>392.0</td>\n",
       "      <td>194.0</td>\n",
       "      <td>319.0</td>\n",
       "      <td>152.0</td>\n",
       "      <td>2134.0</td>\n",
       "      <td>6.0</td>\n",
       "      <td>25.0</td>\n",
       "      <td>12133.0</td>\n",
       "      <td>58636.0</td>\n",
       "    </tr>\n",
       "    <tr>\n",
       "      <th>417</th>\n",
       "      <td>23.0</td>\n",
       "      <td>Yates</td>\n",
       "      <td>Active</td>\n",
       "      <td>3307.0</td>\n",
       "      <td>6463.0</td>\n",
       "      <td>235.0</td>\n",
       "      <td>52.0</td>\n",
       "      <td>46.0</td>\n",
       "      <td>44.0</td>\n",
       "      <td>682.0</td>\n",
       "      <td>0.0</td>\n",
       "      <td>28.0</td>\n",
       "      <td>2899.0</td>\n",
       "      <td>13756.0</td>\n",
       "    </tr>\n",
       "    <tr>\n",
       "      <th>421</th>\n",
       "      <td>23.0</td>\n",
       "      <td>District Total</td>\n",
       "      <td>Active</td>\n",
       "      <td>134853.0</td>\n",
       "      <td>161427.0</td>\n",
       "      <td>7587.0</td>\n",
       "      <td>1836.0</td>\n",
       "      <td>1326.0</td>\n",
       "      <td>1371.0</td>\n",
       "      <td>21392.0</td>\n",
       "      <td>18.0</td>\n",
       "      <td>272.0</td>\n",
       "      <td>92701.0</td>\n",
       "      <td>422783.0</td>\n",
       "    </tr>\n",
       "  </tbody>\n",
       "</table>\n",
       "</div>"
      ],
      "text/plain": [
       "     DISTRICT          COUNTY  STATUS       DEM       REP     CON     WOR  \\\n",
       "377      23.0        Allegany  Active    5681.0   13238.0   448.0   127.0   \n",
       "381      23.0     Cattaraugus  Active   13799.0   18915.0  1119.0   224.0   \n",
       "385      23.0      Chautauqua  Active   25038.0   27595.0  1964.0   441.0   \n",
       "389      23.0         Chemung  Active   15523.0   21207.0   832.0   232.0   \n",
       "393      23.0         Ontario  Active    8780.0    9617.0   548.0   102.0   \n",
       "397      23.0        Schuyler  Active    3502.0    5038.0   245.0    59.0   \n",
       "401      23.0          Seneca  Active    6237.0    7882.0   441.0   107.0   \n",
       "405      23.0         Steuben  Active   14376.0   29535.0   996.0   216.0   \n",
       "409      23.0           Tioga  Active    6416.0   10850.0   367.0    82.0   \n",
       "413      23.0        Tompkins  Active   32194.0   11087.0   392.0   194.0   \n",
       "417      23.0           Yates  Active    3307.0    6463.0   235.0    52.0   \n",
       "421      23.0  District Total  Active  134853.0  161427.0  7587.0  1836.0   \n",
       "\n",
       "        GRE     LBT      IND   SAM    OTH    BLANK     TOTAL  \n",
       "377    88.0    72.0   1243.0   1.0   11.0   5288.0   26197.0  \n",
       "381   122.0   134.0   2327.0   3.0   26.0  10067.0   46736.0  \n",
       "385   162.0   251.0   4614.0   1.0   63.0  19663.0   79792.0  \n",
       "389   118.0   203.0   2996.0   2.0   32.0  11276.0   52421.0  \n",
       "393    91.0   101.0   1378.0   0.0   24.0   6973.0   27614.0  \n",
       "397    59.0    44.0    715.0   3.0    4.0   2828.0   12497.0  \n",
       "401    75.0    72.0   1053.0   1.0   14.0   4514.0   20396.0  \n",
       "405   173.0   182.0   2921.0   1.0   39.0  11663.0   60102.0  \n",
       "409    73.0   116.0   1329.0   0.0    6.0   5397.0   24636.0  \n",
       "413   319.0   152.0   2134.0   6.0   25.0  12133.0   58636.0  \n",
       "417    46.0    44.0    682.0   0.0   28.0   2899.0   13756.0  \n",
       "421  1326.0  1371.0  21392.0  18.0  272.0  92701.0  422783.0  "
      ]
     },
     "execution_count": 25,
     "metadata": {},
     "output_type": "execute_result"
    }
   ],
   "source": [
    "boe_23_active_df"
   ]
  },
  {
   "cell_type": "markdown",
   "metadata": {},
   "source": [
    "## What counties have more registered Dems vs. Reps"
   ]
  },
  {
   "cell_type": "code",
   "execution_count": 26,
   "metadata": {
    "ExecuteTime": {
     "end_time": "2021-01-08T18:37:00.328444Z",
     "start_time": "2021-01-08T18:37:00.303967Z"
    }
   },
   "outputs": [
    {
     "data": {
      "text/html": [
       "<div>\n",
       "<style scoped>\n",
       "    .dataframe tbody tr th:only-of-type {\n",
       "        vertical-align: middle;\n",
       "    }\n",
       "\n",
       "    .dataframe tbody tr th {\n",
       "        vertical-align: top;\n",
       "    }\n",
       "\n",
       "    .dataframe thead th {\n",
       "        text-align: right;\n",
       "    }\n",
       "</style>\n",
       "<table border=\"1\" class=\"dataframe\">\n",
       "  <thead>\n",
       "    <tr style=\"text-align: right;\">\n",
       "      <th></th>\n",
       "      <th>DISTRICT</th>\n",
       "      <th>COUNTY</th>\n",
       "      <th>STATUS</th>\n",
       "      <th>DEM</th>\n",
       "      <th>REP</th>\n",
       "      <th>CON</th>\n",
       "      <th>WOR</th>\n",
       "      <th>GRE</th>\n",
       "      <th>LBT</th>\n",
       "      <th>IND</th>\n",
       "      <th>SAM</th>\n",
       "      <th>OTH</th>\n",
       "      <th>BLANK</th>\n",
       "      <th>TOTAL</th>\n",
       "    </tr>\n",
       "  </thead>\n",
       "  <tbody>\n",
       "    <tr>\n",
       "      <th>413</th>\n",
       "      <td>23.0</td>\n",
       "      <td>Tompkins</td>\n",
       "      <td>Active</td>\n",
       "      <td>32194.0</td>\n",
       "      <td>11087.0</td>\n",
       "      <td>392.0</td>\n",
       "      <td>194.0</td>\n",
       "      <td>319.0</td>\n",
       "      <td>152.0</td>\n",
       "      <td>2134.0</td>\n",
       "      <td>6.0</td>\n",
       "      <td>25.0</td>\n",
       "      <td>12133.0</td>\n",
       "      <td>58636.0</td>\n",
       "    </tr>\n",
       "  </tbody>\n",
       "</table>\n",
       "</div>"
      ],
      "text/plain": [
       "     DISTRICT    COUNTY  STATUS      DEM      REP    CON    WOR    GRE    LBT  \\\n",
       "413      23.0  Tompkins  Active  32194.0  11087.0  392.0  194.0  319.0  152.0   \n",
       "\n",
       "        IND  SAM   OTH    BLANK    TOTAL  \n",
       "413  2134.0  6.0  25.0  12133.0  58636.0  "
      ]
     },
     "execution_count": 26,
     "metadata": {},
     "output_type": "execute_result"
    }
   ],
   "source": [
    "boe_23_active_df[boe_23_active_df['DEM'] > boe_23_active_df['REP']]"
   ]
  },
  {
   "cell_type": "markdown",
   "metadata": {},
   "source": [
    "Tompkins Country is the only county in the 23rd that has more active Democrats than Republicans"
   ]
  },
  {
   "cell_type": "markdown",
   "metadata": {},
   "source": [
    "## What counties have more registered Reps vs. Dems"
   ]
  },
  {
   "cell_type": "code",
   "execution_count": 27,
   "metadata": {
    "ExecuteTime": {
     "end_time": "2021-01-08T18:37:00.364463Z",
     "start_time": "2021-01-08T18:37:00.330723Z"
    }
   },
   "outputs": [
    {
     "data": {
      "text/html": [
       "<div>\n",
       "<style scoped>\n",
       "    .dataframe tbody tr th:only-of-type {\n",
       "        vertical-align: middle;\n",
       "    }\n",
       "\n",
       "    .dataframe tbody tr th {\n",
       "        vertical-align: top;\n",
       "    }\n",
       "\n",
       "    .dataframe thead th {\n",
       "        text-align: right;\n",
       "    }\n",
       "</style>\n",
       "<table border=\"1\" class=\"dataframe\">\n",
       "  <thead>\n",
       "    <tr style=\"text-align: right;\">\n",
       "      <th></th>\n",
       "      <th>DISTRICT</th>\n",
       "      <th>COUNTY</th>\n",
       "      <th>STATUS</th>\n",
       "      <th>DEM</th>\n",
       "      <th>REP</th>\n",
       "      <th>CON</th>\n",
       "      <th>WOR</th>\n",
       "      <th>GRE</th>\n",
       "      <th>LBT</th>\n",
       "      <th>IND</th>\n",
       "      <th>SAM</th>\n",
       "      <th>OTH</th>\n",
       "      <th>BLANK</th>\n",
       "      <th>TOTAL</th>\n",
       "    </tr>\n",
       "  </thead>\n",
       "  <tbody>\n",
       "    <tr>\n",
       "      <th>377</th>\n",
       "      <td>23.0</td>\n",
       "      <td>Allegany</td>\n",
       "      <td>Active</td>\n",
       "      <td>5681.0</td>\n",
       "      <td>13238.0</td>\n",
       "      <td>448.0</td>\n",
       "      <td>127.0</td>\n",
       "      <td>88.0</td>\n",
       "      <td>72.0</td>\n",
       "      <td>1243.0</td>\n",
       "      <td>1.0</td>\n",
       "      <td>11.0</td>\n",
       "      <td>5288.0</td>\n",
       "      <td>26197.0</td>\n",
       "    </tr>\n",
       "    <tr>\n",
       "      <th>381</th>\n",
       "      <td>23.0</td>\n",
       "      <td>Cattaraugus</td>\n",
       "      <td>Active</td>\n",
       "      <td>13799.0</td>\n",
       "      <td>18915.0</td>\n",
       "      <td>1119.0</td>\n",
       "      <td>224.0</td>\n",
       "      <td>122.0</td>\n",
       "      <td>134.0</td>\n",
       "      <td>2327.0</td>\n",
       "      <td>3.0</td>\n",
       "      <td>26.0</td>\n",
       "      <td>10067.0</td>\n",
       "      <td>46736.0</td>\n",
       "    </tr>\n",
       "    <tr>\n",
       "      <th>385</th>\n",
       "      <td>23.0</td>\n",
       "      <td>Chautauqua</td>\n",
       "      <td>Active</td>\n",
       "      <td>25038.0</td>\n",
       "      <td>27595.0</td>\n",
       "      <td>1964.0</td>\n",
       "      <td>441.0</td>\n",
       "      <td>162.0</td>\n",
       "      <td>251.0</td>\n",
       "      <td>4614.0</td>\n",
       "      <td>1.0</td>\n",
       "      <td>63.0</td>\n",
       "      <td>19663.0</td>\n",
       "      <td>79792.0</td>\n",
       "    </tr>\n",
       "    <tr>\n",
       "      <th>389</th>\n",
       "      <td>23.0</td>\n",
       "      <td>Chemung</td>\n",
       "      <td>Active</td>\n",
       "      <td>15523.0</td>\n",
       "      <td>21207.0</td>\n",
       "      <td>832.0</td>\n",
       "      <td>232.0</td>\n",
       "      <td>118.0</td>\n",
       "      <td>203.0</td>\n",
       "      <td>2996.0</td>\n",
       "      <td>2.0</td>\n",
       "      <td>32.0</td>\n",
       "      <td>11276.0</td>\n",
       "      <td>52421.0</td>\n",
       "    </tr>\n",
       "    <tr>\n",
       "      <th>393</th>\n",
       "      <td>23.0</td>\n",
       "      <td>Ontario</td>\n",
       "      <td>Active</td>\n",
       "      <td>8780.0</td>\n",
       "      <td>9617.0</td>\n",
       "      <td>548.0</td>\n",
       "      <td>102.0</td>\n",
       "      <td>91.0</td>\n",
       "      <td>101.0</td>\n",
       "      <td>1378.0</td>\n",
       "      <td>0.0</td>\n",
       "      <td>24.0</td>\n",
       "      <td>6973.0</td>\n",
       "      <td>27614.0</td>\n",
       "    </tr>\n",
       "    <tr>\n",
       "      <th>397</th>\n",
       "      <td>23.0</td>\n",
       "      <td>Schuyler</td>\n",
       "      <td>Active</td>\n",
       "      <td>3502.0</td>\n",
       "      <td>5038.0</td>\n",
       "      <td>245.0</td>\n",
       "      <td>59.0</td>\n",
       "      <td>59.0</td>\n",
       "      <td>44.0</td>\n",
       "      <td>715.0</td>\n",
       "      <td>3.0</td>\n",
       "      <td>4.0</td>\n",
       "      <td>2828.0</td>\n",
       "      <td>12497.0</td>\n",
       "    </tr>\n",
       "    <tr>\n",
       "      <th>401</th>\n",
       "      <td>23.0</td>\n",
       "      <td>Seneca</td>\n",
       "      <td>Active</td>\n",
       "      <td>6237.0</td>\n",
       "      <td>7882.0</td>\n",
       "      <td>441.0</td>\n",
       "      <td>107.0</td>\n",
       "      <td>75.0</td>\n",
       "      <td>72.0</td>\n",
       "      <td>1053.0</td>\n",
       "      <td>1.0</td>\n",
       "      <td>14.0</td>\n",
       "      <td>4514.0</td>\n",
       "      <td>20396.0</td>\n",
       "    </tr>\n",
       "    <tr>\n",
       "      <th>405</th>\n",
       "      <td>23.0</td>\n",
       "      <td>Steuben</td>\n",
       "      <td>Active</td>\n",
       "      <td>14376.0</td>\n",
       "      <td>29535.0</td>\n",
       "      <td>996.0</td>\n",
       "      <td>216.0</td>\n",
       "      <td>173.0</td>\n",
       "      <td>182.0</td>\n",
       "      <td>2921.0</td>\n",
       "      <td>1.0</td>\n",
       "      <td>39.0</td>\n",
       "      <td>11663.0</td>\n",
       "      <td>60102.0</td>\n",
       "    </tr>\n",
       "    <tr>\n",
       "      <th>409</th>\n",
       "      <td>23.0</td>\n",
       "      <td>Tioga</td>\n",
       "      <td>Active</td>\n",
       "      <td>6416.0</td>\n",
       "      <td>10850.0</td>\n",
       "      <td>367.0</td>\n",
       "      <td>82.0</td>\n",
       "      <td>73.0</td>\n",
       "      <td>116.0</td>\n",
       "      <td>1329.0</td>\n",
       "      <td>0.0</td>\n",
       "      <td>6.0</td>\n",
       "      <td>5397.0</td>\n",
       "      <td>24636.0</td>\n",
       "    </tr>\n",
       "    <tr>\n",
       "      <th>417</th>\n",
       "      <td>23.0</td>\n",
       "      <td>Yates</td>\n",
       "      <td>Active</td>\n",
       "      <td>3307.0</td>\n",
       "      <td>6463.0</td>\n",
       "      <td>235.0</td>\n",
       "      <td>52.0</td>\n",
       "      <td>46.0</td>\n",
       "      <td>44.0</td>\n",
       "      <td>682.0</td>\n",
       "      <td>0.0</td>\n",
       "      <td>28.0</td>\n",
       "      <td>2899.0</td>\n",
       "      <td>13756.0</td>\n",
       "    </tr>\n",
       "    <tr>\n",
       "      <th>421</th>\n",
       "      <td>23.0</td>\n",
       "      <td>District Total</td>\n",
       "      <td>Active</td>\n",
       "      <td>134853.0</td>\n",
       "      <td>161427.0</td>\n",
       "      <td>7587.0</td>\n",
       "      <td>1836.0</td>\n",
       "      <td>1326.0</td>\n",
       "      <td>1371.0</td>\n",
       "      <td>21392.0</td>\n",
       "      <td>18.0</td>\n",
       "      <td>272.0</td>\n",
       "      <td>92701.0</td>\n",
       "      <td>422783.0</td>\n",
       "    </tr>\n",
       "  </tbody>\n",
       "</table>\n",
       "</div>"
      ],
      "text/plain": [
       "     DISTRICT          COUNTY  STATUS       DEM       REP     CON     WOR  \\\n",
       "377      23.0        Allegany  Active    5681.0   13238.0   448.0   127.0   \n",
       "381      23.0     Cattaraugus  Active   13799.0   18915.0  1119.0   224.0   \n",
       "385      23.0      Chautauqua  Active   25038.0   27595.0  1964.0   441.0   \n",
       "389      23.0         Chemung  Active   15523.0   21207.0   832.0   232.0   \n",
       "393      23.0         Ontario  Active    8780.0    9617.0   548.0   102.0   \n",
       "397      23.0        Schuyler  Active    3502.0    5038.0   245.0    59.0   \n",
       "401      23.0          Seneca  Active    6237.0    7882.0   441.0   107.0   \n",
       "405      23.0         Steuben  Active   14376.0   29535.0   996.0   216.0   \n",
       "409      23.0           Tioga  Active    6416.0   10850.0   367.0    82.0   \n",
       "417      23.0           Yates  Active    3307.0    6463.0   235.0    52.0   \n",
       "421      23.0  District Total  Active  134853.0  161427.0  7587.0  1836.0   \n",
       "\n",
       "        GRE     LBT      IND   SAM    OTH    BLANK     TOTAL  \n",
       "377    88.0    72.0   1243.0   1.0   11.0   5288.0   26197.0  \n",
       "381   122.0   134.0   2327.0   3.0   26.0  10067.0   46736.0  \n",
       "385   162.0   251.0   4614.0   1.0   63.0  19663.0   79792.0  \n",
       "389   118.0   203.0   2996.0   2.0   32.0  11276.0   52421.0  \n",
       "393    91.0   101.0   1378.0   0.0   24.0   6973.0   27614.0  \n",
       "397    59.0    44.0    715.0   3.0    4.0   2828.0   12497.0  \n",
       "401    75.0    72.0   1053.0   1.0   14.0   4514.0   20396.0  \n",
       "405   173.0   182.0   2921.0   1.0   39.0  11663.0   60102.0  \n",
       "409    73.0   116.0   1329.0   0.0    6.0   5397.0   24636.0  \n",
       "417    46.0    44.0    682.0   0.0   28.0   2899.0   13756.0  \n",
       "421  1326.0  1371.0  21392.0  18.0  272.0  92701.0  422783.0  "
      ]
     },
     "execution_count": 27,
     "metadata": {},
     "output_type": "execute_result"
    }
   ],
   "source": [
    "boe_23_active_df[boe_23_active_df['REP'] > boe_23_active_df['DEM']]"
   ]
  },
  {
   "cell_type": "markdown",
   "metadata": {},
   "source": [
    "This is all the counties except Tompkins, plus the total for the district"
   ]
  },
  {
   "cell_type": "markdown",
   "metadata": {},
   "source": [
    "## How do the total number of Democrats and Republicans compare with the total?"
   ]
  },
  {
   "cell_type": "code",
   "execution_count": 28,
   "metadata": {
    "ExecuteTime": {
     "end_time": "2021-01-08T18:37:00.374730Z",
     "start_time": "2021-01-08T18:37:00.366580Z"
    }
   },
   "outputs": [],
   "source": [
    "total_dem = boe_23_active_df[boe_23_active_df['COUNTY'] == 'District Total']['DEM'].values[0]\n",
    "total_rep = boe_23_active_df[boe_23_active_df['COUNTY'] == 'District Total']['REP'].values[0]\n",
    "total_active = boe_23_active_df[boe_23_active_df['COUNTY'] == 'District Total']['TOTAL'].values[0]"
   ]
  },
  {
   "cell_type": "code",
   "execution_count": 29,
   "metadata": {
    "ExecuteTime": {
     "end_time": "2021-01-08T18:37:00.380118Z",
     "start_time": "2021-01-08T18:37:00.376841Z"
    }
   },
   "outputs": [],
   "source": [
    "total_ind_3rd = total_active - total_dem - total_rep"
   ]
  },
  {
   "cell_type": "code",
   "execution_count": 30,
   "metadata": {
    "ExecuteTime": {
     "end_time": "2021-01-08T18:37:00.387374Z",
     "start_time": "2021-01-08T18:37:00.382188Z"
    },
    "scrolled": true
   },
   "outputs": [
    {
     "name": "stdout",
     "output_type": "stream",
     "text": [
      "The percentage of active Democratic voters in the 23rd is 0.32\n"
     ]
    }
   ],
   "source": [
    "print(f'The percentage of active Democratic voters in the 23rd is {round(total_dem / total_active, 2)}')"
   ]
  },
  {
   "cell_type": "code",
   "execution_count": 31,
   "metadata": {
    "ExecuteTime": {
     "end_time": "2021-01-08T18:37:00.393809Z",
     "start_time": "2021-01-08T18:37:00.389572Z"
    }
   },
   "outputs": [
    {
     "name": "stdout",
     "output_type": "stream",
     "text": [
      "The percentage of active Replican voters in the 23rd is 0.38\n"
     ]
    }
   ],
   "source": [
    "print(f'The percentage of active Replican voters in the 23rd is {round(total_rep / total_active, 2)}')"
   ]
  },
  {
   "cell_type": "code",
   "execution_count": 32,
   "metadata": {
    "ExecuteTime": {
     "end_time": "2021-01-08T18:37:00.400793Z",
     "start_time": "2021-01-08T18:37:00.396025Z"
    }
   },
   "outputs": [
    {
     "name": "stdout",
     "output_type": "stream",
     "text": [
      "The percentage of active Independend or 3rd Party voters in the 23rd is 0.3\n"
     ]
    }
   ],
   "source": [
    "print(f'The percentage of active Independend or 3rd Party voters in the 23rd is {round(total_ind_3rd / total_active, 2)}')"
   ]
  },
  {
   "cell_type": "markdown",
   "metadata": {},
   "source": [
    "## Visualize the Party breakdown by County"
   ]
  },
  {
   "cell_type": "code",
   "execution_count": 33,
   "metadata": {
    "ExecuteTime": {
     "end_time": "2021-01-08T18:37:00.406760Z",
     "start_time": "2021-01-08T18:37:00.402996Z"
    }
   },
   "outputs": [],
   "source": [
    "parties = ['DEM', 'REP', 'CON', 'WOR', 'GRE', 'LBT', 'IND', 'SAM', 'OTH', 'BLANK']"
   ]
  },
  {
   "cell_type": "code",
   "execution_count": 34,
   "metadata": {
    "ExecuteTime": {
     "end_time": "2021-01-08T18:37:01.395748Z",
     "start_time": "2021-01-08T18:37:00.408955Z"
    }
   },
   "outputs": [
    {
     "data": {
      "text/plain": [
       "<AxesSubplot:title={'center':'Active Voters by Party in each County in NY23, Including Total'}, xlabel='COUNTY'>"
      ]
     },
     "execution_count": 34,
     "metadata": {},
     "output_type": "execute_result"
    },
    {
     "data": {
      "image/png": "[encoded data removed]",
      "text/plain": [
       "<Figure size 1152x576 with 1 Axes>"
      ]
     },
     "metadata": {
      "needs_background": "light"
     },
     "output_type": "display_data"
    }
   ],
   "source": [
    "boe_23_active_df.plot.bar(x='COUNTY', \n",
    "                          y=parties, \n",
    "                          stacked=True, \n",
    "                          figsize=(16, 8), \n",
    "                          title='Active Voters by Party in each County in NY23, Including Total', \n",
    "                          grid=True)"
   ]
  },
  {
   "cell_type": "markdown",
   "metadata": {},
   "source": [
    "Plot the same data without the District Total\n",
    "\n",
    "*The District Total is the last row in the dataframe*"
   ]
  },
  {
   "cell_type": "code",
   "execution_count": 35,
   "metadata": {
    "ExecuteTime": {
     "end_time": "2021-01-08T18:37:02.278662Z",
     "start_time": "2021-01-08T18:37:01.398062Z"
    }
   },
   "outputs": [
    {
     "data": {
      "text/plain": [
       "<AxesSubplot:title={'center':'Active Voters by Party in each County in NY23'}, xlabel='COUNTY'>"
      ]
     },
     "execution_count": 35,
     "metadata": {},
     "output_type": "execute_result"
    },
    {
     "data": {
      "image/png": "[encoded data removed]",
      "text/plain": [
       "<Figure size 1152x576 with 1 Axes>"
      ]
     },
     "metadata": {
      "needs_background": "light"
     },
     "output_type": "display_data"
    }
   ],
   "source": [
    "boe_23_active_df.iloc[:-1].plot.bar(x='COUNTY', \n",
    "                          y=parties, \n",
    "                          stacked=True, \n",
    "                          figsize=(16, 8), \n",
    "                          title='Active Voters by Party in each County in NY23', \n",
    "                          grid=True)"
   ]
  },
  {
   "cell_type": "code",
   "execution_count": 36,
   "metadata": {
    "ExecuteTime": {
     "end_time": "2021-01-08T18:37:02.717445Z",
     "start_time": "2021-01-08T18:37:02.280928Z"
    }
   },
   "outputs": [
    {
     "data": {
      "text/plain": [
       "<AxesSubplot:title={'center':'Total Active Voters by Party in NY23'}, ylabel='COUNTY'>"
      ]
     },
     "execution_count": 36,
     "metadata": {},
     "output_type": "execute_result"
    },
    {
     "data": {
      "image/png": "[encoded data removed]",
      "text/plain": [
       "<Figure size 1152x576 with 1 Axes>"
      ]
     },
     "metadata": {
      "needs_background": "light"
     },
     "output_type": "display_data"
    }
   ],
   "source": [
    "boe_23_active_df.iloc[-1:].plot.barh(x='COUNTY', \n",
    "                                     y=parties,\n",
    "                                     stacked=True, \n",
    "                                     figsize=(16, 8), \n",
    "                                     title='Total Active Voters by Party in NY23', \n",
    "                                     grid=True)"
   ]
  },
  {
   "cell_type": "code",
   "execution_count": 37,
   "metadata": {
    "ExecuteTime": {
     "end_time": "2021-01-08T18:37:03.152578Z",
     "start_time": "2021-01-08T18:37:02.719673Z"
    }
   },
   "outputs": [
    {
     "data": {
      "text/plain": [
       "<AxesSubplot:title={'center':'Total Active Voters by Party in NY23'}, ylabel='COUNTY'>"
      ]
     },
     "execution_count": 37,
     "metadata": {},
     "output_type": "execute_result"
    },
    {
     "data": {
      "image/png": "[encoded data removed]",
      "text/plain": [
       "<Figure size 1152x576 with 1 Axes>"
      ]
     },
     "metadata": {
      "needs_background": "light"
     },
     "output_type": "display_data"
    }
   ],
   "source": [
    "boe_23_active_df.iloc[-1:].plot.barh(x='COUNTY', \n",
    "                                     y=parties,\n",
    "                                     stacked=False, \n",
    "                                     figsize=(16, 8), \n",
    "                                     title='Total Active Voters by Party in NY23', \n",
    "                                     grid=True)"
   ]
  },
  {
   "cell_type": "markdown",
   "metadata": {},
   "source": [
    "When looking at the district as a whole the party with the greatest amount of registered voters by over 25K is the Republican party, but the amount of people that are not registered to any party far exceeds those 25K.  How are those people going to vote, can it be reasonable predicted from past behavior?"
   ]
  },
  {
   "cell_type": "markdown",
   "metadata": {},
   "source": [
    "## Look at the turnout for Tompkins County in the Nov 6th Election and compare it to the votes the candidates received along party lines"
   ]
  },
  {
   "cell_type": "markdown",
   "metadata": {},
   "source": [
    "Data from [Tompkins County BOE](https://tompkinscountyny.gov/node/24475#overlay-context=boe/Additional_Information/Past_Results_files/2020-Results)\n",
    "\n",
    "Presidential Election (November 3rd, 2020) \n",
    "* Representative in Congress\n",
    "* Turnout"
   ]
  },
  {
   "cell_type": "markdown",
   "metadata": {
    "heading_collapsed": true
   },
   "source": [
    "### Quick look at party line votes vs. small parties and non-affiliated voters"
   ]
  },
  {
   "cell_type": "code",
   "execution_count": 38,
   "metadata": {
    "ExecuteTime": {
     "end_time": "2021-01-08T18:37:03.158596Z",
     "start_time": "2021-01-08T18:37:03.154734Z"
    },
    "hidden": true
   },
   "outputs": [],
   "source": [
    "tompkins_dem_voted = 26438\n",
    "tompkins_rep_voted = 8789\n",
    "tompkins_blank_voted = 8302\n",
    "tompkins_others_voted = 37543 - tompkins_dem_voted - tompkins_rep_voted"
   ]
  },
  {
   "cell_type": "code",
   "execution_count": 39,
   "metadata": {
    "ExecuteTime": {
     "end_time": "2021-01-08T18:37:03.164829Z",
     "start_time": "2021-01-08T18:37:03.161070Z"
    },
    "hidden": true
   },
   "outputs": [],
   "source": [
    "biden = 28979 + 4640\n",
    "trump = 10240 + 856\n",
    "other = 46048 - biden - trump"
   ]
  },
  {
   "cell_type": "code",
   "execution_count": 40,
   "metadata": {
    "ExecuteTime": {
     "end_time": "2021-01-08T18:37:03.184796Z",
     "start_time": "2021-01-08T18:37:03.166984Z"
    },
    "hidden": true
   },
   "outputs": [
    {
     "data": {
      "text/plain": [
       "33619"
      ]
     },
     "execution_count": 40,
     "metadata": {},
     "output_type": "execute_result"
    }
   ],
   "source": [
    "biden"
   ]
  },
  {
   "cell_type": "code",
   "execution_count": 41,
   "metadata": {
    "ExecuteTime": {
     "end_time": "2021-01-08T18:37:03.191738Z",
     "start_time": "2021-01-08T18:37:03.186917Z"
    },
    "hidden": true
   },
   "outputs": [
    {
     "data": {
      "text/plain": [
       "11096"
      ]
     },
     "execution_count": 41,
     "metadata": {},
     "output_type": "execute_result"
    }
   ],
   "source": [
    "trump"
   ]
  },
  {
   "cell_type": "code",
   "execution_count": 42,
   "metadata": {
    "ExecuteTime": {
     "end_time": "2021-01-08T18:37:03.198772Z",
     "start_time": "2021-01-08T18:37:03.194157Z"
    },
    "hidden": true
   },
   "outputs": [
    {
     "data": {
      "text/plain": [
       "1333"
      ]
     },
     "execution_count": 42,
     "metadata": {},
     "output_type": "execute_result"
    }
   ],
   "source": [
    "other"
   ]
  },
  {
   "cell_type": "markdown",
   "metadata": {
    "hidden": true
   },
   "source": [
    "If I assume party loyalty, then:"
   ]
  },
  {
   "cell_type": "code",
   "execution_count": 43,
   "metadata": {
    "ExecuteTime": {
     "end_time": "2021-01-08T18:37:03.208891Z",
     "start_time": "2021-01-08T18:37:03.200676Z"
    },
    "hidden": true
   },
   "outputs": [
    {
     "data": {
      "text/plain": [
       "7181"
      ]
     },
     "execution_count": 43,
     "metadata": {},
     "output_type": "execute_result"
    }
   ],
   "source": [
    "ind_for_biden = biden - tompkins_dem_voted\n",
    "ind_for_biden"
   ]
  },
  {
   "cell_type": "code",
   "execution_count": 44,
   "metadata": {
    "ExecuteTime": {
     "end_time": "2021-01-08T18:37:03.216972Z",
     "start_time": "2021-01-08T18:37:03.211348Z"
    },
    "hidden": true
   },
   "outputs": [
    {
     "data": {
      "text/plain": [
       "2307"
      ]
     },
     "execution_count": 44,
     "metadata": {},
     "output_type": "execute_result"
    }
   ],
   "source": [
    "ind_for_trump = trump - tompkins_rep_voted\n",
    "ind_for_trump"
   ]
  },
  {
   "cell_type": "code",
   "execution_count": 45,
   "metadata": {
    "ExecuteTime": {
     "end_time": "2021-01-08T18:37:03.226411Z",
     "start_time": "2021-01-08T18:37:03.219035Z"
    },
    "hidden": true
   },
   "outputs": [
    {
     "data": {
      "text/plain": [
       "9488"
      ]
     },
     "execution_count": 45,
     "metadata": {},
     "output_type": "execute_result"
    }
   ],
   "source": [
    "total_ind = ind_for_biden + ind_for_trump\n",
    "total_ind"
   ]
  },
  {
   "cell_type": "markdown",
   "metadata": {
    "hidden": true
   },
   "source": [
    "9488 exceeds the number of non-affiliated voters, so the smaller parties need to be considered."
   ]
  },
  {
   "cell_type": "markdown",
   "metadata": {},
   "source": [
    "### Compare the Turnout and Votes by Party"
   ]
  },
  {
   "cell_type": "code",
   "execution_count": 46,
   "metadata": {
    "ExecuteTime": {
     "end_time": "2021-01-08T18:37:03.232869Z",
     "start_time": "2021-01-08T18:37:03.228583Z"
    }
   },
   "outputs": [],
   "source": [
    "turnout = ['Turnout', 26438, 8789, 292, 128, 237, 114, 1531, 3, 9, 2, 8302]"
   ]
  },
  {
   "cell_type": "markdown",
   "metadata": {},
   "source": [
    "#### Compare Congressional Votes by Party Vs. Turnout"
   ]
  },
  {
   "cell_type": "code",
   "execution_count": 47,
   "metadata": {
    "ExecuteTime": {
     "end_time": "2021-01-08T18:37:03.248692Z",
     "start_time": "2021-01-08T18:37:03.235032Z"
    }
   },
   "outputs": [],
   "source": [
    "tompkins_23_df = pd.DataFrame([['Mitrano', 27450, 0, 0, 0, 0, 0, 0, 0, 0, 0, 0], # DEM\n",
    "                            ['Reed', 0, 10569, 0, 0, 0, 0, 0, 0, 0, 0, 0], # REP\n",
    "                            ['Reed', 0, 0, 829, 0, 0, 0, 0, 0, 0, 0, 0], # CON\n",
    "                            ['Mitrano', 0, 0, 0, 4995, 0, 0, 0, 0, 0, 0, 0], # WOR\n",
    "                            ['Kolstee', 0, 0, 0, 0, 0, 493, 0, 0, 0, 0, 0], # LIB\n",
    "                            ['Reed', 0, 0, 0, 0, 0, 0, 418, 0, 0, 0, 0], # IND\n",
    "                            turnout],   \n",
    "                           columns = ['Candidate', 'DEM', 'REP', 'CON', 'WOR', 'GRE', 'LIB', \n",
    "                                      'IND', 'SAM', 'WEP', 'REF', 'Non-Aff'])"
   ]
  },
  {
   "cell_type": "code",
   "execution_count": 48,
   "metadata": {
    "ExecuteTime": {
     "end_time": "2021-01-08T18:37:03.268518Z",
     "start_time": "2021-01-08T18:37:03.251106Z"
    }
   },
   "outputs": [
    {
     "data": {
      "text/html": [
       "<div>\n",
       "<style scoped>\n",
       "    .dataframe tbody tr th:only-of-type {\n",
       "        vertical-align: middle;\n",
       "    }\n",
       "\n",
       "    .dataframe tbody tr th {\n",
       "        vertical-align: top;\n",
       "    }\n",
       "\n",
       "    .dataframe thead th {\n",
       "        text-align: right;\n",
       "    }\n",
       "</style>\n",
       "<table border=\"1\" class=\"dataframe\">\n",
       "  <thead>\n",
       "    <tr style=\"text-align: right;\">\n",
       "      <th></th>\n",
       "      <th>Candidate</th>\n",
       "      <th>DEM</th>\n",
       "      <th>REP</th>\n",
       "      <th>CON</th>\n",
       "      <th>WOR</th>\n",
       "      <th>GRE</th>\n",
       "      <th>LIB</th>\n",
       "      <th>IND</th>\n",
       "      <th>SAM</th>\n",
       "      <th>WEP</th>\n",
       "      <th>REF</th>\n",
       "      <th>Non-Aff</th>\n",
       "    </tr>\n",
       "  </thead>\n",
       "  <tbody>\n",
       "    <tr>\n",
       "      <th>0</th>\n",
       "      <td>Mitrano</td>\n",
       "      <td>27450</td>\n",
       "      <td>0</td>\n",
       "      <td>0</td>\n",
       "      <td>0</td>\n",
       "      <td>0</td>\n",
       "      <td>0</td>\n",
       "      <td>0</td>\n",
       "      <td>0</td>\n",
       "      <td>0</td>\n",
       "      <td>0</td>\n",
       "      <td>0</td>\n",
       "    </tr>\n",
       "    <tr>\n",
       "      <th>1</th>\n",
       "      <td>Reed</td>\n",
       "      <td>0</td>\n",
       "      <td>10569</td>\n",
       "      <td>0</td>\n",
       "      <td>0</td>\n",
       "      <td>0</td>\n",
       "      <td>0</td>\n",
       "      <td>0</td>\n",
       "      <td>0</td>\n",
       "      <td>0</td>\n",
       "      <td>0</td>\n",
       "      <td>0</td>\n",
       "    </tr>\n",
       "    <tr>\n",
       "      <th>2</th>\n",
       "      <td>Reed</td>\n",
       "      <td>0</td>\n",
       "      <td>0</td>\n",
       "      <td>829</td>\n",
       "      <td>0</td>\n",
       "      <td>0</td>\n",
       "      <td>0</td>\n",
       "      <td>0</td>\n",
       "      <td>0</td>\n",
       "      <td>0</td>\n",
       "      <td>0</td>\n",
       "      <td>0</td>\n",
       "    </tr>\n",
       "    <tr>\n",
       "      <th>3</th>\n",
       "      <td>Mitrano</td>\n",
       "      <td>0</td>\n",
       "      <td>0</td>\n",
       "      <td>0</td>\n",
       "      <td>4995</td>\n",
       "      <td>0</td>\n",
       "      <td>0</td>\n",
       "      <td>0</td>\n",
       "      <td>0</td>\n",
       "      <td>0</td>\n",
       "      <td>0</td>\n",
       "      <td>0</td>\n",
       "    </tr>\n",
       "    <tr>\n",
       "      <th>4</th>\n",
       "      <td>Kolstee</td>\n",
       "      <td>0</td>\n",
       "      <td>0</td>\n",
       "      <td>0</td>\n",
       "      <td>0</td>\n",
       "      <td>0</td>\n",
       "      <td>493</td>\n",
       "      <td>0</td>\n",
       "      <td>0</td>\n",
       "      <td>0</td>\n",
       "      <td>0</td>\n",
       "      <td>0</td>\n",
       "    </tr>\n",
       "    <tr>\n",
       "      <th>5</th>\n",
       "      <td>Reed</td>\n",
       "      <td>0</td>\n",
       "      <td>0</td>\n",
       "      <td>0</td>\n",
       "      <td>0</td>\n",
       "      <td>0</td>\n",
       "      <td>0</td>\n",
       "      <td>418</td>\n",
       "      <td>0</td>\n",
       "      <td>0</td>\n",
       "      <td>0</td>\n",
       "      <td>0</td>\n",
       "    </tr>\n",
       "    <tr>\n",
       "      <th>6</th>\n",
       "      <td>Turnout</td>\n",
       "      <td>26438</td>\n",
       "      <td>8789</td>\n",
       "      <td>292</td>\n",
       "      <td>128</td>\n",
       "      <td>237</td>\n",
       "      <td>114</td>\n",
       "      <td>1531</td>\n",
       "      <td>3</td>\n",
       "      <td>9</td>\n",
       "      <td>2</td>\n",
       "      <td>8302</td>\n",
       "    </tr>\n",
       "  </tbody>\n",
       "</table>\n",
       "</div>"
      ],
      "text/plain": [
       "  Candidate    DEM    REP  CON   WOR  GRE  LIB   IND  SAM  WEP  REF  Non-Aff\n",
       "0   Mitrano  27450      0    0     0    0    0     0    0    0    0        0\n",
       "1      Reed      0  10569    0     0    0    0     0    0    0    0        0\n",
       "2      Reed      0      0  829     0    0    0     0    0    0    0        0\n",
       "3   Mitrano      0      0    0  4995    0    0     0    0    0    0        0\n",
       "4   Kolstee      0      0    0     0    0  493     0    0    0    0        0\n",
       "5      Reed      0      0    0     0    0    0   418    0    0    0        0\n",
       "6   Turnout  26438   8789  292   128  237  114  1531    3    9    2     8302"
      ]
     },
     "execution_count": 48,
     "metadata": {},
     "output_type": "execute_result"
    }
   ],
   "source": [
    "tompkins_23_df"
   ]
  },
  {
   "cell_type": "code",
   "execution_count": 49,
   "metadata": {
    "ExecuteTime": {
     "end_time": "2021-01-08T18:37:03.280834Z",
     "start_time": "2021-01-08T18:37:03.270906Z"
    }
   },
   "outputs": [],
   "source": [
    "tompkins_23_df = tompkins_23_df.groupby('Candidate').sum().reset_index()"
   ]
  },
  {
   "cell_type": "code",
   "execution_count": 50,
   "metadata": {
    "ExecuteTime": {
     "end_time": "2021-01-08T18:37:03.300086Z",
     "start_time": "2021-01-08T18:37:03.283155Z"
    }
   },
   "outputs": [
    {
     "data": {
      "text/html": [
       "<div>\n",
       "<style scoped>\n",
       "    .dataframe tbody tr th:only-of-type {\n",
       "        vertical-align: middle;\n",
       "    }\n",
       "\n",
       "    .dataframe tbody tr th {\n",
       "        vertical-align: top;\n",
       "    }\n",
       "\n",
       "    .dataframe thead th {\n",
       "        text-align: right;\n",
       "    }\n",
       "</style>\n",
       "<table border=\"1\" class=\"dataframe\">\n",
       "  <thead>\n",
       "    <tr style=\"text-align: right;\">\n",
       "      <th></th>\n",
       "      <th>Candidate</th>\n",
       "      <th>DEM</th>\n",
       "      <th>REP</th>\n",
       "      <th>CON</th>\n",
       "      <th>WOR</th>\n",
       "      <th>GRE</th>\n",
       "      <th>LIB</th>\n",
       "      <th>IND</th>\n",
       "      <th>SAM</th>\n",
       "      <th>WEP</th>\n",
       "      <th>REF</th>\n",
       "      <th>Non-Aff</th>\n",
       "    </tr>\n",
       "  </thead>\n",
       "  <tbody>\n",
       "    <tr>\n",
       "      <th>0</th>\n",
       "      <td>Kolstee</td>\n",
       "      <td>0</td>\n",
       "      <td>0</td>\n",
       "      <td>0</td>\n",
       "      <td>0</td>\n",
       "      <td>0</td>\n",
       "      <td>493</td>\n",
       "      <td>0</td>\n",
       "      <td>0</td>\n",
       "      <td>0</td>\n",
       "      <td>0</td>\n",
       "      <td>0</td>\n",
       "    </tr>\n",
       "    <tr>\n",
       "      <th>1</th>\n",
       "      <td>Mitrano</td>\n",
       "      <td>27450</td>\n",
       "      <td>0</td>\n",
       "      <td>0</td>\n",
       "      <td>4995</td>\n",
       "      <td>0</td>\n",
       "      <td>0</td>\n",
       "      <td>0</td>\n",
       "      <td>0</td>\n",
       "      <td>0</td>\n",
       "      <td>0</td>\n",
       "      <td>0</td>\n",
       "    </tr>\n",
       "    <tr>\n",
       "      <th>2</th>\n",
       "      <td>Reed</td>\n",
       "      <td>0</td>\n",
       "      <td>10569</td>\n",
       "      <td>829</td>\n",
       "      <td>0</td>\n",
       "      <td>0</td>\n",
       "      <td>0</td>\n",
       "      <td>418</td>\n",
       "      <td>0</td>\n",
       "      <td>0</td>\n",
       "      <td>0</td>\n",
       "      <td>0</td>\n",
       "    </tr>\n",
       "    <tr>\n",
       "      <th>3</th>\n",
       "      <td>Turnout</td>\n",
       "      <td>26438</td>\n",
       "      <td>8789</td>\n",
       "      <td>292</td>\n",
       "      <td>128</td>\n",
       "      <td>237</td>\n",
       "      <td>114</td>\n",
       "      <td>1531</td>\n",
       "      <td>3</td>\n",
       "      <td>9</td>\n",
       "      <td>2</td>\n",
       "      <td>8302</td>\n",
       "    </tr>\n",
       "  </tbody>\n",
       "</table>\n",
       "</div>"
      ],
      "text/plain": [
       "  Candidate    DEM    REP  CON   WOR  GRE  LIB   IND  SAM  WEP  REF  Non-Aff\n",
       "0   Kolstee      0      0    0     0    0  493     0    0    0    0        0\n",
       "1   Mitrano  27450      0    0  4995    0    0     0    0    0    0        0\n",
       "2      Reed      0  10569  829     0    0    0   418    0    0    0        0\n",
       "3   Turnout  26438   8789  292   128  237  114  1531    3    9    2     8302"
      ]
     },
     "execution_count": 50,
     "metadata": {},
     "output_type": "execute_result"
    }
   ],
   "source": [
    "tompkins_23_df"
   ]
  },
  {
   "cell_type": "markdown",
   "metadata": {},
   "source": [
    "By looking at the party line votes vs turnout, we can confirm that people don't exclusively vote for the candidate in that party they are registered for because when looking at the smaller parties, the number of votes does not match the turnout."
   ]
  },
  {
   "cell_type": "code",
   "execution_count": 51,
   "metadata": {
    "ExecuteTime": {
     "end_time": "2021-01-08T18:37:03.312154Z",
     "start_time": "2021-01-08T18:37:03.302059Z"
    }
   },
   "outputs": [],
   "source": [
    "# Add a column with the total for each row\n",
    "tompkins_23_df.loc[:,'Row_Total'] = tompkins_23_df.sum(numeric_only=True, axis=1)"
   ]
  },
  {
   "cell_type": "code",
   "execution_count": 52,
   "metadata": {
    "ExecuteTime": {
     "end_time": "2021-01-08T18:37:03.333584Z",
     "start_time": "2021-01-08T18:37:03.314364Z"
    }
   },
   "outputs": [
    {
     "data": {
      "text/html": [
       "<div>\n",
       "<style scoped>\n",
       "    .dataframe tbody tr th:only-of-type {\n",
       "        vertical-align: middle;\n",
       "    }\n",
       "\n",
       "    .dataframe tbody tr th {\n",
       "        vertical-align: top;\n",
       "    }\n",
       "\n",
       "    .dataframe thead th {\n",
       "        text-align: right;\n",
       "    }\n",
       "</style>\n",
       "<table border=\"1\" class=\"dataframe\">\n",
       "  <thead>\n",
       "    <tr style=\"text-align: right;\">\n",
       "      <th></th>\n",
       "      <th>Candidate</th>\n",
       "      <th>DEM</th>\n",
       "      <th>REP</th>\n",
       "      <th>CON</th>\n",
       "      <th>WOR</th>\n",
       "      <th>GRE</th>\n",
       "      <th>LIB</th>\n",
       "      <th>IND</th>\n",
       "      <th>SAM</th>\n",
       "      <th>WEP</th>\n",
       "      <th>REF</th>\n",
       "      <th>Non-Aff</th>\n",
       "      <th>Row_Total</th>\n",
       "    </tr>\n",
       "  </thead>\n",
       "  <tbody>\n",
       "    <tr>\n",
       "      <th>0</th>\n",
       "      <td>Kolstee</td>\n",
       "      <td>0</td>\n",
       "      <td>0</td>\n",
       "      <td>0</td>\n",
       "      <td>0</td>\n",
       "      <td>0</td>\n",
       "      <td>493</td>\n",
       "      <td>0</td>\n",
       "      <td>0</td>\n",
       "      <td>0</td>\n",
       "      <td>0</td>\n",
       "      <td>0</td>\n",
       "      <td>493</td>\n",
       "    </tr>\n",
       "    <tr>\n",
       "      <th>1</th>\n",
       "      <td>Mitrano</td>\n",
       "      <td>27450</td>\n",
       "      <td>0</td>\n",
       "      <td>0</td>\n",
       "      <td>4995</td>\n",
       "      <td>0</td>\n",
       "      <td>0</td>\n",
       "      <td>0</td>\n",
       "      <td>0</td>\n",
       "      <td>0</td>\n",
       "      <td>0</td>\n",
       "      <td>0</td>\n",
       "      <td>32445</td>\n",
       "    </tr>\n",
       "    <tr>\n",
       "      <th>2</th>\n",
       "      <td>Reed</td>\n",
       "      <td>0</td>\n",
       "      <td>10569</td>\n",
       "      <td>829</td>\n",
       "      <td>0</td>\n",
       "      <td>0</td>\n",
       "      <td>0</td>\n",
       "      <td>418</td>\n",
       "      <td>0</td>\n",
       "      <td>0</td>\n",
       "      <td>0</td>\n",
       "      <td>0</td>\n",
       "      <td>11816</td>\n",
       "    </tr>\n",
       "    <tr>\n",
       "      <th>3</th>\n",
       "      <td>Turnout</td>\n",
       "      <td>26438</td>\n",
       "      <td>8789</td>\n",
       "      <td>292</td>\n",
       "      <td>128</td>\n",
       "      <td>237</td>\n",
       "      <td>114</td>\n",
       "      <td>1531</td>\n",
       "      <td>3</td>\n",
       "      <td>9</td>\n",
       "      <td>2</td>\n",
       "      <td>8302</td>\n",
       "      <td>45845</td>\n",
       "    </tr>\n",
       "  </tbody>\n",
       "</table>\n",
       "</div>"
      ],
      "text/plain": [
       "  Candidate    DEM    REP  CON   WOR  GRE  LIB   IND  SAM  WEP  REF  Non-Aff  \\\n",
       "0   Kolstee      0      0    0     0    0  493     0    0    0    0        0   \n",
       "1   Mitrano  27450      0    0  4995    0    0     0    0    0    0        0   \n",
       "2      Reed      0  10569  829     0    0    0   418    0    0    0        0   \n",
       "3   Turnout  26438   8789  292   128  237  114  1531    3    9    2     8302   \n",
       "\n",
       "   Row_Total  \n",
       "0        493  \n",
       "1      32445  \n",
       "2      11816  \n",
       "3      45845  "
      ]
     },
     "execution_count": 52,
     "metadata": {},
     "output_type": "execute_result"
    }
   ],
   "source": [
    "tompkins_23_df"
   ]
  },
  {
   "cell_type": "code",
   "execution_count": 53,
   "metadata": {
    "ExecuteTime": {
     "end_time": "2021-01-08T18:37:03.339826Z",
     "start_time": "2021-01-08T18:37:03.335822Z"
    }
   },
   "outputs": [],
   "source": [
    "tompkins_parties = ['DEM', 'REP', 'CON', 'WOR', 'GRE', 'LIB', 'IND', 'SAM', 'WEP', 'REF', 'Non-Aff']"
   ]
  },
  {
   "cell_type": "code",
   "execution_count": 54,
   "metadata": {
    "ExecuteTime": {
     "end_time": "2021-01-08T18:37:03.888694Z",
     "start_time": "2021-01-08T18:37:03.342275Z"
    }
   },
   "outputs": [
    {
     "data": {
      "text/plain": [
       "<AxesSubplot:title={'center':'Votes By Party in NY23 for Congressional Rep.'}, xlabel='Candidate'>"
      ]
     },
     "execution_count": 54,
     "metadata": {},
     "output_type": "execute_result"
    },
    {
     "data": {
      "image/png": "[encoded data removed]",
      "text/plain": [
       "<Figure size 1152x576 with 1 Axes>"
      ]
     },
     "metadata": {
      "needs_background": "light"
     },
     "output_type": "display_data"
    }
   ],
   "source": [
    "# Visualize the vote breakdown by party without the totals column\n",
    "tompkins_23_df.iloc[:-1].plot.bar(x='Candidate', \n",
    "                        y=tompkins_parties,\n",
    "                        stacked=True,\n",
    "                        figsize=(16, 8), \n",
    "                        title='Votes By Party in NY23 for Congressional Rep.', \n",
    "                        grid=True)"
   ]
  },
  {
   "cell_type": "code",
   "execution_count": 55,
   "metadata": {
    "ExecuteTime": {
     "end_time": "2021-01-08T18:41:11.262470Z",
     "start_time": "2021-01-08T18:41:11.240146Z"
    }
   },
   "outputs": [
    {
     "data": {
      "text/html": [
       "<div>\n",
       "<style scoped>\n",
       "    .dataframe tbody tr th:only-of-type {\n",
       "        vertical-align: middle;\n",
       "    }\n",
       "\n",
       "    .dataframe tbody tr th {\n",
       "        vertical-align: top;\n",
       "    }\n",
       "\n",
       "    .dataframe thead th {\n",
       "        text-align: right;\n",
       "    }\n",
       "</style>\n",
       "<table border=\"1\" class=\"dataframe\">\n",
       "  <thead>\n",
       "    <tr style=\"text-align: right;\">\n",
       "      <th>Candidate</th>\n",
       "      <th>Kolstee</th>\n",
       "      <th>Mitrano</th>\n",
       "      <th>Reed</th>\n",
       "      <th>Turnout</th>\n",
       "    </tr>\n",
       "  </thead>\n",
       "  <tbody>\n",
       "    <tr>\n",
       "      <th>DEM</th>\n",
       "      <td>0</td>\n",
       "      <td>27450</td>\n",
       "      <td>0</td>\n",
       "      <td>26438</td>\n",
       "    </tr>\n",
       "    <tr>\n",
       "      <th>REP</th>\n",
       "      <td>0</td>\n",
       "      <td>0</td>\n",
       "      <td>10569</td>\n",
       "      <td>8789</td>\n",
       "    </tr>\n",
       "    <tr>\n",
       "      <th>CON</th>\n",
       "      <td>0</td>\n",
       "      <td>0</td>\n",
       "      <td>829</td>\n",
       "      <td>292</td>\n",
       "    </tr>\n",
       "    <tr>\n",
       "      <th>WOR</th>\n",
       "      <td>0</td>\n",
       "      <td>4995</td>\n",
       "      <td>0</td>\n",
       "      <td>128</td>\n",
       "    </tr>\n",
       "    <tr>\n",
       "      <th>GRE</th>\n",
       "      <td>0</td>\n",
       "      <td>0</td>\n",
       "      <td>0</td>\n",
       "      <td>237</td>\n",
       "    </tr>\n",
       "    <tr>\n",
       "      <th>LIB</th>\n",
       "      <td>493</td>\n",
       "      <td>0</td>\n",
       "      <td>0</td>\n",
       "      <td>114</td>\n",
       "    </tr>\n",
       "    <tr>\n",
       "      <th>IND</th>\n",
       "      <td>0</td>\n",
       "      <td>0</td>\n",
       "      <td>418</td>\n",
       "      <td>1531</td>\n",
       "    </tr>\n",
       "    <tr>\n",
       "      <th>SAM</th>\n",
       "      <td>0</td>\n",
       "      <td>0</td>\n",
       "      <td>0</td>\n",
       "      <td>3</td>\n",
       "    </tr>\n",
       "    <tr>\n",
       "      <th>WEP</th>\n",
       "      <td>0</td>\n",
       "      <td>0</td>\n",
       "      <td>0</td>\n",
       "      <td>9</td>\n",
       "    </tr>\n",
       "    <tr>\n",
       "      <th>REF</th>\n",
       "      <td>0</td>\n",
       "      <td>0</td>\n",
       "      <td>0</td>\n",
       "      <td>2</td>\n",
       "    </tr>\n",
       "    <tr>\n",
       "      <th>Non-Aff</th>\n",
       "      <td>0</td>\n",
       "      <td>0</td>\n",
       "      <td>0</td>\n",
       "      <td>8302</td>\n",
       "    </tr>\n",
       "  </tbody>\n",
       "</table>\n",
       "</div>"
      ],
      "text/plain": [
       "Candidate  Kolstee  Mitrano   Reed  Turnout\n",
       "DEM              0    27450      0    26438\n",
       "REP              0        0  10569     8789\n",
       "CON              0        0    829      292\n",
       "WOR              0     4995      0      128\n",
       "GRE              0        0      0      237\n",
       "LIB            493        0      0      114\n",
       "IND              0        0    418     1531\n",
       "SAM              0        0      0        3\n",
       "WEP              0        0      0        9\n",
       "REF              0        0      0        2\n",
       "Non-Aff          0        0      0     8302"
      ]
     },
     "execution_count": 55,
     "metadata": {},
     "output_type": "execute_result"
    }
   ],
   "source": [
    "tompkins_23_df_trans = tompkins_23_df.T\n",
    "tompkins_23_df_trans.columns = tompkins_23_df_trans.iloc[0]\n",
    "tompkins_23_df_trans.drop(tompkins_23_df_trans.index[0], inplace=True)\n",
    "tompkins_23_df_trans.drop(tompkins_23_df_trans.index[-1], inplace=True)\n",
    "tompkins_23_df_trans.rename(index={'Candidate': 'Party'}, inplace=True)\n",
    "for col in tompkins_23_df_trans.columns:\n",
    "    tompkins_23_df_trans[col] = pd.to_numeric(tompkins_23_df_trans[col])\n",
    "tompkins_23_df_trans"
   ]
  },
  {
   "cell_type": "code",
   "execution_count": 56,
   "metadata": {
    "ExecuteTime": {
     "end_time": "2021-01-08T18:41:14.614209Z",
     "start_time": "2021-01-08T18:41:14.026236Z"
    }
   },
   "outputs": [
    {
     "data": {
      "text/plain": [
       "<AxesSubplot:title={'center':'Votes By Party in NY23 for Congressional Rep.'}>"
      ]
     },
     "execution_count": 56,
     "metadata": {},
     "output_type": "execute_result"
    },
    {
     "data": {
      "image/png": "[encoded data removed]",
      "text/plain": [
       "<Figure size 1152x576 with 1 Axes>"
      ]
     },
     "metadata": {
      "needs_background": "light"
     },
     "output_type": "display_data"
    }
   ],
   "source": [
    "tompkins_23_df_trans.plot.bar( \n",
    "                        \n",
    "                        stacked=False,\n",
    "                        figsize=(16, 8), \n",
    "                        title='Votes By Party in NY23 for Congressional Rep.', \n",
    "                        grid=True)"
   ]
  },
  {
   "cell_type": "markdown",
   "metadata": {},
   "source": [
    "How should we expect the Non-Aff voters to vote?\n",
    "\n",
    "Parties with excess votes:\n",
    "* DEM\n",
    "* REP\n",
    "* CON\n",
    "* WOR\n",
    "* LIB\n",
    "\n",
    "Parties with fewer votes:\n",
    "* GRE\n",
    "* IND"
   ]
  },
  {
   "cell_type": "markdown",
   "metadata": {},
   "source": [
    "Anecdotally I know\n",
    "* DEM's will vote on the WOR party line to keep it on the NYS ballot, presumably that is also true for REP's voting on the CON line\n",
    "* Some people are signed up for the IND party thinking they are Non-Aff because of a confusion over the party name *Independence* vs. just *independent* (non-aff)"
   ]
  },
  {
   "cell_type": "markdown",
   "metadata": {},
   "source": [
    "Some portion of the Non-Aff voters' votes went to each of the parties with excess votes.  Some portion of those same parties voters' votes could have gone to other party's candidates or party line with the same candidate."
   ]
  },
  {
   "cell_type": "markdown",
   "metadata": {},
   "source": [
    "I'll first add a vote difference column to the dataframe"
   ]
  },
  {
   "cell_type": "code",
   "execution_count": 57,
   "metadata": {
    "ExecuteTime": {
     "end_time": "2021-01-08T18:41:22.642068Z",
     "start_time": "2021-01-08T18:41:22.633206Z"
    }
   },
   "outputs": [
    {
     "name": "stdout",
     "output_type": "stream",
     "text": [
      "<class 'pandas.core.frame.DataFrame'>\n",
      "Index: 11 entries, DEM to Non-Aff\n",
      "Data columns (total 4 columns):\n",
      " #   Column   Non-Null Count  Dtype\n",
      "---  ------   --------------  -----\n",
      " 0   Kolstee  11 non-null     int64\n",
      " 1   Mitrano  11 non-null     int64\n",
      " 2   Reed     11 non-null     int64\n",
      " 3   Turnout  11 non-null     int64\n",
      "dtypes: int64(4)\n",
      "memory usage: 440.0+ bytes\n"
     ]
    }
   ],
   "source": [
    "tompkins_23_df_trans.info()"
   ]
  },
  {
   "cell_type": "code",
   "execution_count": 58,
   "metadata": {
    "ExecuteTime": {
     "end_time": "2021-01-08T18:43:32.636038Z",
     "start_time": "2021-01-08T18:43:32.628148Z"
    }
   },
   "outputs": [],
   "source": [
    "tompkins_23_df_trans['vote_dif'] = tompkins_23_df_trans.apply(lambda x: x['Kolstee'] + x['Mitrano'] + x['Reed'] - x['Turnout'], axis=1)"
   ]
  },
  {
   "cell_type": "code",
   "execution_count": 59,
   "metadata": {
    "ExecuteTime": {
     "end_time": "2021-01-08T18:43:33.200119Z",
     "start_time": "2021-01-08T18:43:33.186660Z"
    }
   },
   "outputs": [
    {
     "data": {
      "text/html": [
       "<div>\n",
       "<style scoped>\n",
       "    .dataframe tbody tr th:only-of-type {\n",
       "        vertical-align: middle;\n",
       "    }\n",
       "\n",
       "    .dataframe tbody tr th {\n",
       "        vertical-align: top;\n",
       "    }\n",
       "\n",
       "    .dataframe thead th {\n",
       "        text-align: right;\n",
       "    }\n",
       "</style>\n",
       "<table border=\"1\" class=\"dataframe\">\n",
       "  <thead>\n",
       "    <tr style=\"text-align: right;\">\n",
       "      <th>Candidate</th>\n",
       "      <th>Kolstee</th>\n",
       "      <th>Mitrano</th>\n",
       "      <th>Reed</th>\n",
       "      <th>Turnout</th>\n",
       "      <th>vote_dif</th>\n",
       "    </tr>\n",
       "  </thead>\n",
       "  <tbody>\n",
       "    <tr>\n",
       "      <th>DEM</th>\n",
       "      <td>0</td>\n",
       "      <td>27450</td>\n",
       "      <td>0</td>\n",
       "      <td>26438</td>\n",
       "      <td>1012</td>\n",
       "    </tr>\n",
       "    <tr>\n",
       "      <th>REP</th>\n",
       "      <td>0</td>\n",
       "      <td>0</td>\n",
       "      <td>10569</td>\n",
       "      <td>8789</td>\n",
       "      <td>1780</td>\n",
       "    </tr>\n",
       "    <tr>\n",
       "      <th>CON</th>\n",
       "      <td>0</td>\n",
       "      <td>0</td>\n",
       "      <td>829</td>\n",
       "      <td>292</td>\n",
       "      <td>537</td>\n",
       "    </tr>\n",
       "    <tr>\n",
       "      <th>WOR</th>\n",
       "      <td>0</td>\n",
       "      <td>4995</td>\n",
       "      <td>0</td>\n",
       "      <td>128</td>\n",
       "      <td>4867</td>\n",
       "    </tr>\n",
       "    <tr>\n",
       "      <th>GRE</th>\n",
       "      <td>0</td>\n",
       "      <td>0</td>\n",
       "      <td>0</td>\n",
       "      <td>237</td>\n",
       "      <td>-237</td>\n",
       "    </tr>\n",
       "    <tr>\n",
       "      <th>LIB</th>\n",
       "      <td>493</td>\n",
       "      <td>0</td>\n",
       "      <td>0</td>\n",
       "      <td>114</td>\n",
       "      <td>379</td>\n",
       "    </tr>\n",
       "    <tr>\n",
       "      <th>IND</th>\n",
       "      <td>0</td>\n",
       "      <td>0</td>\n",
       "      <td>418</td>\n",
       "      <td>1531</td>\n",
       "      <td>-1113</td>\n",
       "    </tr>\n",
       "    <tr>\n",
       "      <th>SAM</th>\n",
       "      <td>0</td>\n",
       "      <td>0</td>\n",
       "      <td>0</td>\n",
       "      <td>3</td>\n",
       "      <td>-3</td>\n",
       "    </tr>\n",
       "    <tr>\n",
       "      <th>WEP</th>\n",
       "      <td>0</td>\n",
       "      <td>0</td>\n",
       "      <td>0</td>\n",
       "      <td>9</td>\n",
       "      <td>-9</td>\n",
       "    </tr>\n",
       "    <tr>\n",
       "      <th>REF</th>\n",
       "      <td>0</td>\n",
       "      <td>0</td>\n",
       "      <td>0</td>\n",
       "      <td>2</td>\n",
       "      <td>-2</td>\n",
       "    </tr>\n",
       "    <tr>\n",
       "      <th>Non-Aff</th>\n",
       "      <td>0</td>\n",
       "      <td>0</td>\n",
       "      <td>0</td>\n",
       "      <td>8302</td>\n",
       "      <td>-8302</td>\n",
       "    </tr>\n",
       "  </tbody>\n",
       "</table>\n",
       "</div>"
      ],
      "text/plain": [
       "Candidate  Kolstee  Mitrano   Reed  Turnout  vote_dif\n",
       "DEM              0    27450      0    26438      1012\n",
       "REP              0        0  10569     8789      1780\n",
       "CON              0        0    829      292       537\n",
       "WOR              0     4995      0      128      4867\n",
       "GRE              0        0      0      237      -237\n",
       "LIB            493        0      0      114       379\n",
       "IND              0        0    418     1531     -1113\n",
       "SAM              0        0      0        3        -3\n",
       "WEP              0        0      0        9        -9\n",
       "REF              0        0      0        2        -2\n",
       "Non-Aff          0        0      0     8302     -8302"
      ]
     },
     "execution_count": 59,
     "metadata": {},
     "output_type": "execute_result"
    }
   ],
   "source": [
    "tompkins_23_df_trans"
   ]
  },
  {
   "cell_type": "code",
   "execution_count": null,
   "metadata": {},
   "outputs": [],
   "source": []
  },
  {
   "cell_type": "code",
   "execution_count": null,
   "metadata": {},
   "outputs": [],
   "source": []
  },
  {
   "cell_type": "markdown",
   "metadata": {
    "heading_collapsed": true
   },
   "source": [
    "#### Compare Presidential Votes by Party Vs. Turnout"
   ]
  },
  {
   "cell_type": "code",
   "execution_count": 60,
   "metadata": {
    "ExecuteTime": {
     "end_time": "2021-01-08T18:37:04.915694Z",
     "start_time": "2021-01-08T18:36:58.394Z"
    },
    "hidden": true
   },
   "outputs": [],
   "source": [
    "# put the data in a dataframe\n",
    "tompkins_pres_df = pd.DataFrame([['Biden', 28979, 0, 0, 0, 0, 0, 0, 0, 0, 0, 0],\n",
    "                            ['Trump', 0, 10240, 0, 0, 0, 0, 0, 0, 0, 0, 0],\n",
    "                            ['Trump', 0, 0, 856, 0, 0, 0, 0, 0, 0, 0, 0],\n",
    "                            ['Biden', 0, 0, 0, 4640, 0, 0, 0, 0, 0, 0, 0],\n",
    "                            ['Hawkins', 0, 0, 0, 0, 365, 0, 0, 0, 0, 0, 0],\n",
    "                            ['Jorgensen', 0, 0, 0, 0, 0, 474, 0, 0, 0, 0, 0],\n",
    "                            ['Pierce', 0, 0, 0, 0, 0, 0, 137, 0, 0, 0, 0],\n",
    "                            turnout],   \n",
    "                           columns = ['Candidate', 'DEM', 'REP', 'CON', 'WOR', 'GRE', 'LIB', \n",
    "                                      'IND', 'SAM', 'WEP', 'REF', 'Non-Aff'])"
   ]
  },
  {
   "cell_type": "code",
   "execution_count": 61,
   "metadata": {
    "ExecuteTime": {
     "end_time": "2021-01-08T18:37:04.917235Z",
     "start_time": "2021-01-08T18:36:58.397Z"
    },
    "hidden": true
   },
   "outputs": [
    {
     "data": {
      "text/html": [
       "<div>\n",
       "<style scoped>\n",
       "    .dataframe tbody tr th:only-of-type {\n",
       "        vertical-align: middle;\n",
       "    }\n",
       "\n",
       "    .dataframe tbody tr th {\n",
       "        vertical-align: top;\n",
       "    }\n",
       "\n",
       "    .dataframe thead th {\n",
       "        text-align: right;\n",
       "    }\n",
       "</style>\n",
       "<table border=\"1\" class=\"dataframe\">\n",
       "  <thead>\n",
       "    <tr style=\"text-align: right;\">\n",
       "      <th></th>\n",
       "      <th>Candidate</th>\n",
       "      <th>DEM</th>\n",
       "      <th>REP</th>\n",
       "      <th>CON</th>\n",
       "      <th>WOR</th>\n",
       "      <th>GRE</th>\n",
       "      <th>LIB</th>\n",
       "      <th>IND</th>\n",
       "      <th>SAM</th>\n",
       "      <th>WEP</th>\n",
       "      <th>REF</th>\n",
       "      <th>Non-Aff</th>\n",
       "    </tr>\n",
       "  </thead>\n",
       "  <tbody>\n",
       "    <tr>\n",
       "      <th>0</th>\n",
       "      <td>Biden</td>\n",
       "      <td>28979</td>\n",
       "      <td>0</td>\n",
       "      <td>0</td>\n",
       "      <td>0</td>\n",
       "      <td>0</td>\n",
       "      <td>0</td>\n",
       "      <td>0</td>\n",
       "      <td>0</td>\n",
       "      <td>0</td>\n",
       "      <td>0</td>\n",
       "      <td>0</td>\n",
       "    </tr>\n",
       "    <tr>\n",
       "      <th>1</th>\n",
       "      <td>Trump</td>\n",
       "      <td>0</td>\n",
       "      <td>10240</td>\n",
       "      <td>0</td>\n",
       "      <td>0</td>\n",
       "      <td>0</td>\n",
       "      <td>0</td>\n",
       "      <td>0</td>\n",
       "      <td>0</td>\n",
       "      <td>0</td>\n",
       "      <td>0</td>\n",
       "      <td>0</td>\n",
       "    </tr>\n",
       "    <tr>\n",
       "      <th>2</th>\n",
       "      <td>Trump</td>\n",
       "      <td>0</td>\n",
       "      <td>0</td>\n",
       "      <td>856</td>\n",
       "      <td>0</td>\n",
       "      <td>0</td>\n",
       "      <td>0</td>\n",
       "      <td>0</td>\n",
       "      <td>0</td>\n",
       "      <td>0</td>\n",
       "      <td>0</td>\n",
       "      <td>0</td>\n",
       "    </tr>\n",
       "    <tr>\n",
       "      <th>3</th>\n",
       "      <td>Biden</td>\n",
       "      <td>0</td>\n",
       "      <td>0</td>\n",
       "      <td>0</td>\n",
       "      <td>4640</td>\n",
       "      <td>0</td>\n",
       "      <td>0</td>\n",
       "      <td>0</td>\n",
       "      <td>0</td>\n",
       "      <td>0</td>\n",
       "      <td>0</td>\n",
       "      <td>0</td>\n",
       "    </tr>\n",
       "    <tr>\n",
       "      <th>4</th>\n",
       "      <td>Hawkins</td>\n",
       "      <td>0</td>\n",
       "      <td>0</td>\n",
       "      <td>0</td>\n",
       "      <td>0</td>\n",
       "      <td>365</td>\n",
       "      <td>0</td>\n",
       "      <td>0</td>\n",
       "      <td>0</td>\n",
       "      <td>0</td>\n",
       "      <td>0</td>\n",
       "      <td>0</td>\n",
       "    </tr>\n",
       "    <tr>\n",
       "      <th>5</th>\n",
       "      <td>Jorgensen</td>\n",
       "      <td>0</td>\n",
       "      <td>0</td>\n",
       "      <td>0</td>\n",
       "      <td>0</td>\n",
       "      <td>0</td>\n",
       "      <td>474</td>\n",
       "      <td>0</td>\n",
       "      <td>0</td>\n",
       "      <td>0</td>\n",
       "      <td>0</td>\n",
       "      <td>0</td>\n",
       "    </tr>\n",
       "    <tr>\n",
       "      <th>6</th>\n",
       "      <td>Pierce</td>\n",
       "      <td>0</td>\n",
       "      <td>0</td>\n",
       "      <td>0</td>\n",
       "      <td>0</td>\n",
       "      <td>0</td>\n",
       "      <td>0</td>\n",
       "      <td>137</td>\n",
       "      <td>0</td>\n",
       "      <td>0</td>\n",
       "      <td>0</td>\n",
       "      <td>0</td>\n",
       "    </tr>\n",
       "    <tr>\n",
       "      <th>7</th>\n",
       "      <td>Turnout</td>\n",
       "      <td>26438</td>\n",
       "      <td>8789</td>\n",
       "      <td>292</td>\n",
       "      <td>128</td>\n",
       "      <td>237</td>\n",
       "      <td>114</td>\n",
       "      <td>1531</td>\n",
       "      <td>3</td>\n",
       "      <td>9</td>\n",
       "      <td>2</td>\n",
       "      <td>8302</td>\n",
       "    </tr>\n",
       "  </tbody>\n",
       "</table>\n",
       "</div>"
      ],
      "text/plain": [
       "   Candidate    DEM    REP  CON   WOR  GRE  LIB   IND  SAM  WEP  REF  Non-Aff\n",
       "0      Biden  28979      0    0     0    0    0     0    0    0    0        0\n",
       "1      Trump      0  10240    0     0    0    0     0    0    0    0        0\n",
       "2      Trump      0      0  856     0    0    0     0    0    0    0        0\n",
       "3      Biden      0      0    0  4640    0    0     0    0    0    0        0\n",
       "4    Hawkins      0      0    0     0  365    0     0    0    0    0        0\n",
       "5  Jorgensen      0      0    0     0    0  474     0    0    0    0        0\n",
       "6     Pierce      0      0    0     0    0    0   137    0    0    0        0\n",
       "7    Turnout  26438   8789  292   128  237  114  1531    3    9    2     8302"
      ]
     },
     "execution_count": 61,
     "metadata": {},
     "output_type": "execute_result"
    }
   ],
   "source": [
    "tompkins_pres_df"
   ]
  },
  {
   "cell_type": "markdown",
   "metadata": {
    "hidden": true
   },
   "source": [
    "Note that there is a difference in the number of votes vs. turnout because some ballets were blank or void"
   ]
  },
  {
   "cell_type": "code",
   "execution_count": 62,
   "metadata": {
    "ExecuteTime": {
     "end_time": "2021-01-08T18:37:04.918776Z",
     "start_time": "2021-01-08T18:36:58.400Z"
    },
    "hidden": true
   },
   "outputs": [],
   "source": [
    "tompkins_pres_df = tompkins_pres_df.groupby('Candidate').sum().reset_index()"
   ]
  },
  {
   "cell_type": "code",
   "execution_count": 63,
   "metadata": {
    "ExecuteTime": {
     "end_time": "2021-01-08T18:37:04.920365Z",
     "start_time": "2021-01-08T18:36:58.403Z"
    },
    "hidden": true
   },
   "outputs": [
    {
     "data": {
      "text/html": [
       "<div>\n",
       "<style scoped>\n",
       "    .dataframe tbody tr th:only-of-type {\n",
       "        vertical-align: middle;\n",
       "    }\n",
       "\n",
       "    .dataframe tbody tr th {\n",
       "        vertical-align: top;\n",
       "    }\n",
       "\n",
       "    .dataframe thead th {\n",
       "        text-align: right;\n",
       "    }\n",
       "</style>\n",
       "<table border=\"1\" class=\"dataframe\">\n",
       "  <thead>\n",
       "    <tr style=\"text-align: right;\">\n",
       "      <th></th>\n",
       "      <th>Candidate</th>\n",
       "      <th>DEM</th>\n",
       "      <th>REP</th>\n",
       "      <th>CON</th>\n",
       "      <th>WOR</th>\n",
       "      <th>GRE</th>\n",
       "      <th>LIB</th>\n",
       "      <th>IND</th>\n",
       "      <th>SAM</th>\n",
       "      <th>WEP</th>\n",
       "      <th>REF</th>\n",
       "      <th>Non-Aff</th>\n",
       "    </tr>\n",
       "  </thead>\n",
       "  <tbody>\n",
       "    <tr>\n",
       "      <th>0</th>\n",
       "      <td>Biden</td>\n",
       "      <td>28979</td>\n",
       "      <td>0</td>\n",
       "      <td>0</td>\n",
       "      <td>4640</td>\n",
       "      <td>0</td>\n",
       "      <td>0</td>\n",
       "      <td>0</td>\n",
       "      <td>0</td>\n",
       "      <td>0</td>\n",
       "      <td>0</td>\n",
       "      <td>0</td>\n",
       "    </tr>\n",
       "    <tr>\n",
       "      <th>1</th>\n",
       "      <td>Hawkins</td>\n",
       "      <td>0</td>\n",
       "      <td>0</td>\n",
       "      <td>0</td>\n",
       "      <td>0</td>\n",
       "      <td>365</td>\n",
       "      <td>0</td>\n",
       "      <td>0</td>\n",
       "      <td>0</td>\n",
       "      <td>0</td>\n",
       "      <td>0</td>\n",
       "      <td>0</td>\n",
       "    </tr>\n",
       "    <tr>\n",
       "      <th>2</th>\n",
       "      <td>Jorgensen</td>\n",
       "      <td>0</td>\n",
       "      <td>0</td>\n",
       "      <td>0</td>\n",
       "      <td>0</td>\n",
       "      <td>0</td>\n",
       "      <td>474</td>\n",
       "      <td>0</td>\n",
       "      <td>0</td>\n",
       "      <td>0</td>\n",
       "      <td>0</td>\n",
       "      <td>0</td>\n",
       "    </tr>\n",
       "    <tr>\n",
       "      <th>3</th>\n",
       "      <td>Pierce</td>\n",
       "      <td>0</td>\n",
       "      <td>0</td>\n",
       "      <td>0</td>\n",
       "      <td>0</td>\n",
       "      <td>0</td>\n",
       "      <td>0</td>\n",
       "      <td>137</td>\n",
       "      <td>0</td>\n",
       "      <td>0</td>\n",
       "      <td>0</td>\n",
       "      <td>0</td>\n",
       "    </tr>\n",
       "    <tr>\n",
       "      <th>4</th>\n",
       "      <td>Trump</td>\n",
       "      <td>0</td>\n",
       "      <td>10240</td>\n",
       "      <td>856</td>\n",
       "      <td>0</td>\n",
       "      <td>0</td>\n",
       "      <td>0</td>\n",
       "      <td>0</td>\n",
       "      <td>0</td>\n",
       "      <td>0</td>\n",
       "      <td>0</td>\n",
       "      <td>0</td>\n",
       "    </tr>\n",
       "    <tr>\n",
       "      <th>5</th>\n",
       "      <td>Turnout</td>\n",
       "      <td>26438</td>\n",
       "      <td>8789</td>\n",
       "      <td>292</td>\n",
       "      <td>128</td>\n",
       "      <td>237</td>\n",
       "      <td>114</td>\n",
       "      <td>1531</td>\n",
       "      <td>3</td>\n",
       "      <td>9</td>\n",
       "      <td>2</td>\n",
       "      <td>8302</td>\n",
       "    </tr>\n",
       "  </tbody>\n",
       "</table>\n",
       "</div>"
      ],
      "text/plain": [
       "   Candidate    DEM    REP  CON   WOR  GRE  LIB   IND  SAM  WEP  REF  Non-Aff\n",
       "0      Biden  28979      0    0  4640    0    0     0    0    0    0        0\n",
       "1    Hawkins      0      0    0     0  365    0     0    0    0    0        0\n",
       "2  Jorgensen      0      0    0     0    0  474     0    0    0    0        0\n",
       "3     Pierce      0      0    0     0    0    0   137    0    0    0        0\n",
       "4      Trump      0  10240  856     0    0    0     0    0    0    0        0\n",
       "5    Turnout  26438   8789  292   128  237  114  1531    3    9    2     8302"
      ]
     },
     "execution_count": 63,
     "metadata": {},
     "output_type": "execute_result"
    }
   ],
   "source": [
    "tompkins_pres_df"
   ]
  },
  {
   "cell_type": "code",
   "execution_count": null,
   "metadata": {
    "hidden": true
   },
   "outputs": [],
   "source": []
  }
 ],
 "metadata": {
  "kernelspec": {
   "display_name": "Python 3",
   "language": "python",
   "name": "python3"
  },
  "language_info": {
   "codemirror_mode": {
    "name": "ipython",
    "version": 3
   },
   "file_extension": ".py",
   "mimetype": "text/x-python",
   "name": "python",
   "nbconvert_exporter": "python",
   "pygments_lexer": "ipython3",
   "version": "3.6.9"
  },
  "toc": {
   "base_numbering": 1,
   "nav_menu": {},
   "number_sections": true,
   "sideBar": true,
   "skip_h1_title": false,
   "title_cell": "Table of Contents",
   "title_sidebar": "Contents",
   "toc_cell": false,
   "toc_position": {},
   "toc_section_display": true,
   "toc_window_display": false
  },
  "varInspector": {
   "cols": {
    "lenName": 16,
    "lenType": 16,
    "lenVar": 40
   },
   "kernels_config": {
    "python": {
     "delete_cmd_postfix": "",
     "delete_cmd_prefix": "del ",
     "library": "var_list.py",
     "varRefreshCmd": "print(var_dic_list())"
    },
    "r": {
     "delete_cmd_postfix": ") ",
     "delete_cmd_prefix": "rm(",
     "library": "var_list.r",
     "varRefreshCmd": "cat(var_dic_list()) "
    }
   },
   "types_to_exclude": [
    "module",
    "function",
    "builtin_function_or_method",
    "instance",
    "_Feature"
   ],
   "window_display": false
  }
 },
 "nbformat": 4,
 "nbformat_minor": 2
}
